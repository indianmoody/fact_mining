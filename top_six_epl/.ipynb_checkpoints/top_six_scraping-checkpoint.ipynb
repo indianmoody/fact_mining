{
 "cells": [
  {
   "cell_type": "code",
   "execution_count": 1,
   "metadata": {
    "collapsed": true
   },
   "outputs": [],
   "source": [
    "import requests\n",
    "from bs4 import BeautifulSoup\n",
    "import numpy as np\n",
    "import pandas as pd\n",
    "from time import sleep"
   ]
  },
  {
   "cell_type": "markdown",
   "metadata": {},
   "source": [
    "#### Scrape top 6 teams in EPL each year from 2008. "
   ]
  },
  {
   "cell_type": "code",
   "execution_count": 8,
   "metadata": {
    "collapsed": true
   },
   "outputs": [],
   "source": [
    "top_six_dict = {}\n",
    "\n",
    "start_year = 2008\n",
    "\n",
    "for i in range(10):\n",
    "    current_year = start_year + i\n",
    "    six_teams = []\n",
    "\n",
    "    year_url = \"http://www.skysports.com/premier-league-table/\" + str(current_year)\n",
    "    page = requests.get(year_url)\n",
    "    soup = BeautifulSoup(page.content, 'html.parser')\n",
    "\n",
    "    league_table = soup.select(\"tbody tr\")\n",
    "    for team in league_table[:6]:\n",
    "        six_teams.append(team.select(\"td\")[1].text.strip())\n",
    "\n",
    "    top_six_dict[current_year] = six_teams\n",
    "\n",
    "    sleep(5)\n",
    "    "
   ]
  },
  {
   "cell_type": "code",
   "execution_count": 11,
   "metadata": {
    "collapsed": false
   },
   "outputs": [
    {
     "data": {
      "text/html": [
       "<div>\n",
       "<style scoped>\n",
       "    .dataframe tbody tr th:only-of-type {\n",
       "        vertical-align: middle;\n",
       "    }\n",
       "\n",
       "    .dataframe tbody tr th {\n",
       "        vertical-align: top;\n",
       "    }\n",
       "\n",
       "    .dataframe thead th {\n",
       "        text-align: right;\n",
       "    }\n",
       "</style>\n",
       "<table border=\"1\" class=\"dataframe\">\n",
       "  <thead>\n",
       "    <tr style=\"text-align: right;\">\n",
       "      <th></th>\n",
       "      <th>2008</th>\n",
       "      <th>2009</th>\n",
       "      <th>2010</th>\n",
       "      <th>2011</th>\n",
       "      <th>2012</th>\n",
       "      <th>2013</th>\n",
       "      <th>2014</th>\n",
       "      <th>2015</th>\n",
       "      <th>2016</th>\n",
       "      <th>2017</th>\n",
       "    </tr>\n",
       "  </thead>\n",
       "  <tbody>\n",
       "    <tr>\n",
       "      <th>0</th>\n",
       "      <td>Manchester United</td>\n",
       "      <td>Chelsea</td>\n",
       "      <td>Manchester United</td>\n",
       "      <td>Manchester City</td>\n",
       "      <td>Manchester United</td>\n",
       "      <td>Manchester City</td>\n",
       "      <td>Chelsea</td>\n",
       "      <td>Leicester City</td>\n",
       "      <td>Chelsea</td>\n",
       "      <td>Manchester City</td>\n",
       "    </tr>\n",
       "    <tr>\n",
       "      <th>1</th>\n",
       "      <td>Liverpool</td>\n",
       "      <td>Manchester United</td>\n",
       "      <td>Chelsea</td>\n",
       "      <td>Manchester United</td>\n",
       "      <td>Manchester City</td>\n",
       "      <td>Liverpool</td>\n",
       "      <td>Manchester City</td>\n",
       "      <td>Arsenal</td>\n",
       "      <td>Tottenham Hotspur</td>\n",
       "      <td>Manchester United</td>\n",
       "    </tr>\n",
       "    <tr>\n",
       "      <th>2</th>\n",
       "      <td>Chelsea</td>\n",
       "      <td>Arsenal</td>\n",
       "      <td>Manchester City</td>\n",
       "      <td>Arsenal</td>\n",
       "      <td>Chelsea</td>\n",
       "      <td>Chelsea</td>\n",
       "      <td>Arsenal</td>\n",
       "      <td>Tottenham Hotspur</td>\n",
       "      <td>Manchester City</td>\n",
       "      <td>Tottenham Hotspur</td>\n",
       "    </tr>\n",
       "    <tr>\n",
       "      <th>3</th>\n",
       "      <td>Arsenal</td>\n",
       "      <td>Tottenham Hotspur</td>\n",
       "      <td>Arsenal</td>\n",
       "      <td>Tottenham Hotspur</td>\n",
       "      <td>Arsenal</td>\n",
       "      <td>Arsenal</td>\n",
       "      <td>Manchester United</td>\n",
       "      <td>Manchester City</td>\n",
       "      <td>Liverpool</td>\n",
       "      <td>Liverpool</td>\n",
       "    </tr>\n",
       "    <tr>\n",
       "      <th>4</th>\n",
       "      <td>Everton</td>\n",
       "      <td>Manchester City</td>\n",
       "      <td>Tottenham Hotspur</td>\n",
       "      <td>Newcastle United</td>\n",
       "      <td>Tottenham Hotspur</td>\n",
       "      <td>Everton</td>\n",
       "      <td>Tottenham Hotspur</td>\n",
       "      <td>Manchester United</td>\n",
       "      <td>Arsenal</td>\n",
       "      <td>Chelsea</td>\n",
       "    </tr>\n",
       "    <tr>\n",
       "      <th>5</th>\n",
       "      <td>Aston Villa</td>\n",
       "      <td>Aston Villa</td>\n",
       "      <td>Liverpool</td>\n",
       "      <td>Chelsea</td>\n",
       "      <td>Everton</td>\n",
       "      <td>Tottenham Hotspur</td>\n",
       "      <td>Liverpool</td>\n",
       "      <td>Southampton</td>\n",
       "      <td>Manchester United</td>\n",
       "      <td>Arsenal</td>\n",
       "    </tr>\n",
       "  </tbody>\n",
       "</table>\n",
       "</div>"
      ],
      "text/plain": [
       "                2008               2009               2010               2011  \\\n",
       "0  Manchester United            Chelsea  Manchester United    Manchester City   \n",
       "1          Liverpool  Manchester United            Chelsea  Manchester United   \n",
       "2            Chelsea            Arsenal    Manchester City            Arsenal   \n",
       "3            Arsenal  Tottenham Hotspur            Arsenal  Tottenham Hotspur   \n",
       "4            Everton    Manchester City  Tottenham Hotspur   Newcastle United   \n",
       "5        Aston Villa        Aston Villa          Liverpool            Chelsea   \n",
       "\n",
       "                2012               2013               2014               2015  \\\n",
       "0  Manchester United    Manchester City            Chelsea     Leicester City   \n",
       "1    Manchester City          Liverpool    Manchester City            Arsenal   \n",
       "2            Chelsea            Chelsea            Arsenal  Tottenham Hotspur   \n",
       "3            Arsenal            Arsenal  Manchester United    Manchester City   \n",
       "4  Tottenham Hotspur            Everton  Tottenham Hotspur  Manchester United   \n",
       "5            Everton  Tottenham Hotspur          Liverpool        Southampton   \n",
       "\n",
       "                2016               2017  \n",
       "0            Chelsea    Manchester City  \n",
       "1  Tottenham Hotspur  Manchester United  \n",
       "2    Manchester City  Tottenham Hotspur  \n",
       "3          Liverpool          Liverpool  \n",
       "4            Arsenal            Chelsea  \n",
       "5  Manchester United            Arsenal  "
      ]
     },
     "execution_count": 11,
     "metadata": {},
     "output_type": "execute_result"
    }
   ],
   "source": [
    "top_six_df = pd.DataFrame(top_six_dict)\n",
    "top_six_df"
   ]
  },
  {
   "cell_type": "code",
   "execution_count": 12,
   "metadata": {
    "collapsed": true
   },
   "outputs": [],
   "source": [
    "top_six_df.to_csv('data/top_six_teams.csv', index=False)"
   ]
  },
  {
   "cell_type": "code",
   "execution_count": null,
   "metadata": {
    "collapsed": true
   },
   "outputs": [],
   "source": []
  },
  {
   "cell_type": "code",
   "execution_count": null,
   "metadata": {
    "collapsed": true
   },
   "outputs": [],
   "source": []
  }
 ],
 "metadata": {
  "kernelspec": {
   "display_name": "Python 3",
   "language": "python",
   "name": "python3"
  },
  "language_info": {
   "codemirror_mode": {
    "name": "ipython",
    "version": 3
   },
   "file_extension": ".py",
   "mimetype": "text/x-python",
   "name": "python",
   "nbconvert_exporter": "python",
   "pygments_lexer": "ipython3",
   "version": "3.6.5"
  }
 },
 "nbformat": 4,
 "nbformat_minor": 2
}
