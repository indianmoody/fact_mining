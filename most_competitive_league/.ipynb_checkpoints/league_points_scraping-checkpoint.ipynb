{
 "cells": [
  {
   "cell_type": "code",
   "execution_count": 1,
   "metadata": {
    "collapsed": true
   },
   "outputs": [],
   "source": [
    "import requests\n",
    "from bs4 import BeautifulSoup\n",
    "import numpy as np\n",
    "import pandas as pd\n",
    "from time import sleep"
   ]
  },
  {
   "cell_type": "code",
   "execution_count": 12,
   "metadata": {
    "collapsed": true
   },
   "outputs": [],
   "source": [
    "leagues = [\"premier-league\", \"la-liga\", \"serie-a\", \"bundesliga\", \"ligue-1\"]\n",
    "point_dic = {}\n",
    "\n",
    "for league in leagues:\n",
    "    temp_dic = {}\n",
    "    start_year = 2008\n",
    "    \n",
    "    for i in range(10):\n",
    "        current_year = start_year + i\n",
    "        points = []\n",
    "        \n",
    "        point_url = \"http://www.skysports.com/\" + league + \"-table/\" + str(current_year)\n",
    "        page = requests.get(point_url)\n",
    "        soup = BeautifulSoup(page.content, 'html.parser')\n",
    "        \n",
    "        league_table = soup.select(\"tbody tr\")\n",
    "        for team in league_table:\n",
    "            points.append(float(team.select(\"td\")[9].text))\n",
    "        \n",
    "        temp_dic[current_year] = points\n",
    "        \n",
    "        sleep(5)\n",
    "        \n",
    "    point_dic[league] = temp_dic\n",
    "    sleep(10)\n",
    "        "
   ]
  },
  {
   "cell_type": "code",
   "execution_count": 14,
   "metadata": {
    "collapsed": false
   },
   "outputs": [
    {
     "data": {
      "text/plain": [
       "5"
      ]
     },
     "execution_count": 14,
     "metadata": {},
     "output_type": "execute_result"
    }
   ],
   "source": [
    "len(point_dic)"
   ]
  },
  {
   "cell_type": "markdown",
   "metadata": {},
   "source": [
    "---"
   ]
  },
  {
   "cell_type": "code",
   "execution_count": 17,
   "metadata": {
    "collapsed": false
   },
   "outputs": [],
   "source": [
    "premier_league = pd.DataFrame(point_dic['premier-league'])\n",
    "la_liga = pd.DataFrame(point_dic['la-liga'])\n",
    "serie_a = pd.DataFrame(point_dic['serie-a'])\n",
    "bundesliga = pd.DataFrame(point_dic['bundesliga'])\n",
    "ligue1 = pd.DataFrame(point_dic['ligue-1'])"
   ]
  },
  {
   "cell_type": "code",
   "execution_count": 23,
   "metadata": {
    "collapsed": false
   },
   "outputs": [],
   "source": [
    "import os\n",
    "\n",
    "if not os.path.exists('./data'):\n",
    "    os.mkdir('./data')"
   ]
  },
  {
   "cell_type": "code",
   "execution_count": 24,
   "metadata": {
    "collapsed": true
   },
   "outputs": [],
   "source": [
    "premier_league.to_csv('data/premier_league.csv', index=False)\n",
    "la_liga.to_csv('data/la_liga.csv', index=False)\n",
    "serie_a.to_csv('data/serie_a.csv', index=False)\n",
    "bundesliga.to_csv('data/bundesliga.csv', index=False)\n",
    "ligue1.to_csv('data/ligue1.csv', index=False)"
   ]
  },
  {
   "cell_type": "code",
   "execution_count": null,
   "metadata": {
    "collapsed": true
   },
   "outputs": [],
   "source": []
  },
  {
   "cell_type": "markdown",
   "metadata": {},
   "source": [
    "Now scrape list of league winners over decade from top 5 ligues in Europe."
   ]
  },
  {
   "cell_type": "code",
   "execution_count": 3,
   "metadata": {
    "collapsed": true
   },
   "outputs": [],
   "source": [
    "premier_league_winners = []\n",
    "la_liga_winners = []\n",
    "serie_a_winners = []\n",
    "bundesliga_winners = []\n",
    "ligue1_winners = []"
   ]
  },
  {
   "cell_type": "markdown",
   "metadata": {},
   "source": [
    "Premier League Winners"
   ]
  },
  {
   "cell_type": "code",
   "execution_count": 4,
   "metadata": {
    "collapsed": true
   },
   "outputs": [],
   "source": [
    "pl_url = \"https://en.wikipedia.org/wiki/List_of_Premier_League_seasons\"\n",
    "page1 = requests.get(pl_url)\n",
    "soup1 = BeautifulSoup(page1.content, 'html.parser')"
   ]
  },
  {
   "cell_type": "code",
   "execution_count": 34,
   "metadata": {
    "collapsed": false
   },
   "outputs": [],
   "source": [
    "teams1 = soup1.select(\"table\")[3].select(\"tbody tr\")[-10:]\n",
    "for team in teams1:\n",
    "    premier_league_winners.append(team.select(\"td a\")[0].text.strip())"
   ]
  },
  {
   "cell_type": "markdown",
   "metadata": {},
   "source": [
    "---"
   ]
  },
  {
   "cell_type": "markdown",
   "metadata": {},
   "source": [
    "La Liga Winners"
   ]
  },
  {
   "cell_type": "code",
   "execution_count": 36,
   "metadata": {
    "collapsed": true
   },
   "outputs": [],
   "source": [
    "ll_url = \"https://en.wikipedia.org/wiki/List_of_Spanish_football_champions\"\n",
    "page2 = requests.get(ll_url)\n",
    "soup2 = BeautifulSoup(page2.content, 'html.parser')"
   ]
  },
  {
   "cell_type": "code",
   "execution_count": 41,
   "metadata": {
    "collapsed": false
   },
   "outputs": [],
   "source": [
    "teams2 = soup2.select(\"table\")[2].select(\"tbody tr\")[-10:]\n",
    "for team in teams2:\n",
    "    la_liga_winners.append(team.select(\"td a\")[1].text.strip())"
   ]
  },
  {
   "cell_type": "markdown",
   "metadata": {},
   "source": [
    "---"
   ]
  },
  {
   "cell_type": "markdown",
   "metadata": {},
   "source": [
    "Serie A Winners"
   ]
  },
  {
   "cell_type": "code",
   "execution_count": 43,
   "metadata": {
    "collapsed": true
   },
   "outputs": [],
   "source": [
    "sa_url = \"https://en.wikipedia.org/wiki/List_of_Italian_football_champions\"\n",
    "page3 = requests.get(sa_url)\n",
    "soup3 = BeautifulSoup(page3.content, 'html.parser')"
   ]
  },
  {
   "cell_type": "code",
   "execution_count": 50,
   "metadata": {
    "collapsed": true
   },
   "outputs": [],
   "source": [
    "teams3 = soup3.select(\"table\")[5].select(\"tbody tr\")[-10:]\n",
    "for team in teams3:\n",
    "    serie_a_winners.append(team.select(\"td\")[1].text.split()[0].strip())"
   ]
  },
  {
   "cell_type": "markdown",
   "metadata": {},
   "source": [
    "---"
   ]
  },
  {
   "cell_type": "markdown",
   "metadata": {},
   "source": [
    "Bundesliga Winners"
   ]
  },
  {
   "cell_type": "code",
   "execution_count": 58,
   "metadata": {
    "collapsed": true
   },
   "outputs": [],
   "source": [
    "bl_url = \"https://en.wikipedia.org/wiki/List_of_German_football_champions\"\n",
    "page4 = requests.get(bl_url)\n",
    "soup4 = BeautifulSoup(page4.content, 'html.parser')"
   ]
  },
  {
   "cell_type": "code",
   "execution_count": 69,
   "metadata": {
    "collapsed": false
   },
   "outputs": [],
   "source": [
    "teams4 = soup4.select(\"table\")[6].select(\"tbody tr\")[-10:]\n",
    "for team in teams4:\n",
    "    bundesliga_winners.append(team.select(\"td a\")[1].text)"
   ]
  },
  {
   "cell_type": "markdown",
   "metadata": {},
   "source": [
    "---"
   ]
  },
  {
   "cell_type": "markdown",
   "metadata": {},
   "source": [
    "Ligue 1 Winners"
   ]
  },
  {
   "cell_type": "code",
   "execution_count": 71,
   "metadata": {
    "collapsed": true
   },
   "outputs": [],
   "source": [
    "l1_url = \"https://en.wikipedia.org/wiki/List_of_French_football_champions\"\n",
    "page5 = requests.get(l1_url)\n",
    "soup5 = BeautifulSoup(page5.content, 'html.parser')"
   ]
  },
  {
   "cell_type": "code",
   "execution_count": 75,
   "metadata": {
    "collapsed": false
   },
   "outputs": [],
   "source": [
    "teams5 = soup5.select(\"table\")[1].select(\"tbody tr\")[-10:]\n",
    "for team in teams5:\n",
    "    ligue1_winners.append(team.select(\"td a\")[1].text)"
   ]
  },
  {
   "cell_type": "markdown",
   "metadata": {},
   "source": [
    "---"
   ]
  },
  {
   "cell_type": "code",
   "execution_count": 79,
   "metadata": {
    "collapsed": false
   },
   "outputs": [
    {
     "data": {
      "text/html": [
       "<div>\n",
       "<style scoped>\n",
       "    .dataframe tbody tr th:only-of-type {\n",
       "        vertical-align: middle;\n",
       "    }\n",
       "\n",
       "    .dataframe tbody tr th {\n",
       "        vertical-align: top;\n",
       "    }\n",
       "\n",
       "    .dataframe thead th {\n",
       "        text-align: right;\n",
       "    }\n",
       "</style>\n",
       "<table border=\"1\" class=\"dataframe\">\n",
       "  <thead>\n",
       "    <tr style=\"text-align: right;\">\n",
       "      <th></th>\n",
       "      <th>bundesliga</th>\n",
       "      <th>la_liga</th>\n",
       "      <th>ligue1</th>\n",
       "      <th>premier_league</th>\n",
       "      <th>serie_a</th>\n",
       "    </tr>\n",
       "  </thead>\n",
       "  <tbody>\n",
       "    <tr>\n",
       "      <th>0</th>\n",
       "      <td>VfL Wolfsburg</td>\n",
       "      <td>Barcelona</td>\n",
       "      <td>Bordeaux</td>\n",
       "      <td>Manchester United</td>\n",
       "      <td>Internazionale</td>\n",
       "    </tr>\n",
       "    <tr>\n",
       "      <th>1</th>\n",
       "      <td>Bayern Munich</td>\n",
       "      <td>Barcelona</td>\n",
       "      <td>Marseille</td>\n",
       "      <td>Chelsea</td>\n",
       "      <td>Internazionale</td>\n",
       "    </tr>\n",
       "    <tr>\n",
       "      <th>2</th>\n",
       "      <td>Borussia Dortmund</td>\n",
       "      <td>Barcelona</td>\n",
       "      <td>Lille</td>\n",
       "      <td>Manchester United</td>\n",
       "      <td>Milan</td>\n",
       "    </tr>\n",
       "    <tr>\n",
       "      <th>3</th>\n",
       "      <td>Borussia Dortmund</td>\n",
       "      <td>Real Madrid</td>\n",
       "      <td>Montpellier</td>\n",
       "      <td>Manchester City</td>\n",
       "      <td>Juventus</td>\n",
       "    </tr>\n",
       "    <tr>\n",
       "      <th>4</th>\n",
       "      <td>Bayern Munich</td>\n",
       "      <td>Barcelona</td>\n",
       "      <td>Paris Saint-Germain</td>\n",
       "      <td>Manchester United</td>\n",
       "      <td>Juventus</td>\n",
       "    </tr>\n",
       "    <tr>\n",
       "      <th>5</th>\n",
       "      <td>Bayern Munich</td>\n",
       "      <td>Atlético Madrid</td>\n",
       "      <td>Paris Saint-Germain</td>\n",
       "      <td>Manchester City</td>\n",
       "      <td>Juventus</td>\n",
       "    </tr>\n",
       "    <tr>\n",
       "      <th>6</th>\n",
       "      <td>Bayern Munich</td>\n",
       "      <td>Barcelona</td>\n",
       "      <td>Paris Saint-Germain</td>\n",
       "      <td>Chelsea</td>\n",
       "      <td>Juventus</td>\n",
       "    </tr>\n",
       "    <tr>\n",
       "      <th>7</th>\n",
       "      <td>Bayern Munich</td>\n",
       "      <td>Barcelona</td>\n",
       "      <td>Paris Saint-Germain</td>\n",
       "      <td>Leicester City</td>\n",
       "      <td>Juventus</td>\n",
       "    </tr>\n",
       "    <tr>\n",
       "      <th>8</th>\n",
       "      <td>Bayern Munich</td>\n",
       "      <td>Real Madrid</td>\n",
       "      <td>Monaco</td>\n",
       "      <td>Chelsea</td>\n",
       "      <td>Juventus</td>\n",
       "    </tr>\n",
       "    <tr>\n",
       "      <th>9</th>\n",
       "      <td>Bayern Munich</td>\n",
       "      <td>Barcelona</td>\n",
       "      <td>Paris Saint-Germain</td>\n",
       "      <td>Manchester City</td>\n",
       "      <td>Juventus</td>\n",
       "    </tr>\n",
       "  </tbody>\n",
       "</table>\n",
       "</div>"
      ],
      "text/plain": [
       "          bundesliga          la_liga               ligue1     premier_league  \\\n",
       "0      VfL Wolfsburg        Barcelona             Bordeaux  Manchester United   \n",
       "1      Bayern Munich        Barcelona            Marseille            Chelsea   \n",
       "2  Borussia Dortmund        Barcelona                Lille  Manchester United   \n",
       "3  Borussia Dortmund      Real Madrid          Montpellier    Manchester City   \n",
       "4      Bayern Munich        Barcelona  Paris Saint-Germain  Manchester United   \n",
       "5      Bayern Munich  Atlético Madrid  Paris Saint-Germain    Manchester City   \n",
       "6      Bayern Munich        Barcelona  Paris Saint-Germain            Chelsea   \n",
       "7      Bayern Munich        Barcelona  Paris Saint-Germain     Leicester City   \n",
       "8      Bayern Munich      Real Madrid               Monaco            Chelsea   \n",
       "9      Bayern Munich        Barcelona  Paris Saint-Germain    Manchester City   \n",
       "\n",
       "          serie_a  \n",
       "0  Internazionale  \n",
       "1  Internazionale  \n",
       "2           Milan  \n",
       "3        Juventus  \n",
       "4        Juventus  \n",
       "5        Juventus  \n",
       "6        Juventus  \n",
       "7        Juventus  \n",
       "8        Juventus  \n",
       "9        Juventus  "
      ]
     },
     "execution_count": 79,
     "metadata": {},
     "output_type": "execute_result"
    }
   ],
   "source": [
    "league_winners = pd.DataFrame({'premier_league':premier_league_winners, 'la_liga':la_liga_winners, 'serie_a':serie_a_winners, 'bundesliga':bundesliga_winners, 'ligue1':ligue1_winners})\n",
    "league_winners"
   ]
  },
  {
   "cell_type": "code",
   "execution_count": 82,
   "metadata": {
    "collapsed": false
   },
   "outputs": [],
   "source": [
    "league_winners.to_csv('data/league_winners.csv', index=False)"
   ]
  },
  {
   "cell_type": "code",
   "execution_count": null,
   "metadata": {
    "collapsed": true
   },
   "outputs": [],
   "source": []
  }
 ],
 "metadata": {
  "kernelspec": {
   "display_name": "Python 3",
   "language": "python",
   "name": "python3"
  },
  "language_info": {
   "codemirror_mode": {
    "name": "ipython",
    "version": 3
   },
   "file_extension": ".py",
   "mimetype": "text/x-python",
   "name": "python",
   "nbconvert_exporter": "python",
   "pygments_lexer": "ipython3",
   "version": "3.6.5"
  }
 },
 "nbformat": 4,
 "nbformat_minor": 2
}
