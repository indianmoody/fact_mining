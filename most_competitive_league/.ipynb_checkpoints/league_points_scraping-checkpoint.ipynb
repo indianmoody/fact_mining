{
 "cells": [
  {
   "cell_type": "code",
   "execution_count": 1,
   "metadata": {
    "collapsed": true
   },
   "outputs": [],
   "source": [
    "import requests\n",
    "from bs4 import BeautifulSoup\n",
    "import numpy as np\n",
    "import pandas as pd\n",
    "from time import sleep"
   ]
  },
  {
   "cell_type": "code",
   "execution_count": 12,
   "metadata": {
    "collapsed": true
   },
   "outputs": [],
   "source": [
    "leagues = [\"premier-league\", \"la-liga\", \"serie-a\", \"bundesliga\", \"ligue-1\"]\n",
    "point_dic = {}\n",
    "\n",
    "for league in leagues:\n",
    "    temp_dic = {}\n",
    "    start_year = 2008\n",
    "    \n",
    "    for i in range(10):\n",
    "        current_year = start_year + i\n",
    "        points = []\n",
    "        \n",
    "        point_url = \"http://www.skysports.com/\" + league + \"-table/\" + str(current_year)\n",
    "        page = requests.get(point_url)\n",
    "        soup = BeautifulSoup(page.content, 'html.parser')\n",
    "        \n",
    "        league_table = soup.select(\"tbody tr\")\n",
    "        for team in league_table:\n",
    "            points.append(float(team.select(\"td\")[9].text))\n",
    "        \n",
    "        temp_dic[current_year] = points\n",
    "        \n",
    "        sleep(5)\n",
    "        \n",
    "    point_dic[league] = temp_dic\n",
    "    sleep(10)\n",
    "        "
   ]
  },
  {
   "cell_type": "code",
   "execution_count": 14,
   "metadata": {
    "collapsed": false
   },
   "outputs": [
    {
     "data": {
      "text/plain": [
       "5"
      ]
     },
     "execution_count": 14,
     "metadata": {},
     "output_type": "execute_result"
    }
   ],
   "source": [
    "len(point_dic)"
   ]
  },
  {
   "cell_type": "markdown",
   "metadata": {},
   "source": [
    "---"
   ]
  },
  {
   "cell_type": "code",
   "execution_count": 17,
   "metadata": {
    "collapsed": false
   },
   "outputs": [],
   "source": [
    "premier_league = pd.DataFrame(point_dic['premier-league'])\n",
    "la_liga = pd.DataFrame(point_dic['la-liga'])\n",
    "serie_a = pd.DataFrame(point_dic['serie-a'])\n",
    "bundesliga = pd.DataFrame(point_dic['bundesliga'])\n",
    "ligue1 = pd.DataFrame(point_dic['ligue-1'])"
   ]
  },
  {
   "cell_type": "code",
   "execution_count": 23,
   "metadata": {
    "collapsed": false
   },
   "outputs": [],
   "source": [
    "import os\n",
    "\n",
    "if not os.path.exists('./data'):\n",
    "    os.mkdir('./data')"
   ]
  },
  {
   "cell_type": "code",
   "execution_count": 24,
   "metadata": {
    "collapsed": true
   },
   "outputs": [],
   "source": [
    "premier_league.to_csv('data/premier_league.csv', index=False)\n",
    "la_liga.to_csv('data/la_liga.csv', index=False)\n",
    "serie_a.to_csv('data/serie_a.csv', index=False)\n",
    "bundesliga.to_csv('data/bundesliga.csv', index=False)\n",
    "ligue1.to_csv('data/ligue1.csv', index=False)"
   ]
  },
  {
   "cell_type": "code",
   "execution_count": null,
   "metadata": {
    "collapsed": true
   },
   "outputs": [],
   "source": []
  }
 ],
 "metadata": {
  "kernelspec": {
   "display_name": "Python 3",
   "language": "python",
   "name": "python3"
  },
  "language_info": {
   "codemirror_mode": {
    "name": "ipython",
    "version": 3
   },
   "file_extension": ".py",
   "mimetype": "text/x-python",
   "name": "python",
   "nbconvert_exporter": "python",
   "pygments_lexer": "ipython3",
   "version": "3.6.5"
  }
 },
 "nbformat": 4,
 "nbformat_minor": 2
}
