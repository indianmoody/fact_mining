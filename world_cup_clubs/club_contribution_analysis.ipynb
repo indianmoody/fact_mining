{
 "cells": [
  {
   "cell_type": "code",
   "execution_count": 1,
   "metadata": {
    "collapsed": true
   },
   "outputs": [],
   "source": [
    "import numpy as np\n",
    "import pandas as pd\n",
    "import matplotlib.pyplot as plt\n",
    "import seaborn as sns\n",
    "%matplotlib inline"
   ]
  },
  {
   "cell_type": "code",
   "execution_count": 2,
   "metadata": {
    "collapsed": true
   },
   "outputs": [],
   "source": [
    "sns.set_style('whitegrid')"
   ]
  },
  {
   "cell_type": "code",
   "execution_count": 3,
   "metadata": {
    "collapsed": false
   },
   "outputs": [
    {
     "data": {
      "text/html": [
       "<div>\n",
       "<style scoped>\n",
       "    .dataframe tbody tr th:only-of-type {\n",
       "        vertical-align: middle;\n",
       "    }\n",
       "\n",
       "    .dataframe tbody tr th {\n",
       "        vertical-align: top;\n",
       "    }\n",
       "\n",
       "    .dataframe thead th {\n",
       "        text-align: right;\n",
       "    }\n",
       "</style>\n",
       "<table border=\"1\" class=\"dataframe\">\n",
       "  <thead>\n",
       "    <tr style=\"text-align: right;\">\n",
       "      <th></th>\n",
       "      <th>age</th>\n",
       "      <th>club</th>\n",
       "      <th>country</th>\n",
       "      <th>player</th>\n",
       "      <th>year</th>\n",
       "    </tr>\n",
       "  </thead>\n",
       "  <tbody>\n",
       "    <tr>\n",
       "      <th>0</th>\n",
       "      <td>28</td>\n",
       "      <td>Nacional</td>\n",
       "      <td>Uruguay</td>\n",
       "      <td>José Leandro Andrade</td>\n",
       "      <td>1930</td>\n",
       "    </tr>\n",
       "    <tr>\n",
       "      <th>1</th>\n",
       "      <td>28</td>\n",
       "      <td>Peñarol</td>\n",
       "      <td>Uruguay</td>\n",
       "      <td>Peregrino Anselmo</td>\n",
       "      <td>1930</td>\n",
       "    </tr>\n",
       "    <tr>\n",
       "      <th>2</th>\n",
       "      <td>25</td>\n",
       "      <td>Rampla Juniors</td>\n",
       "      <td>Uruguay</td>\n",
       "      <td>Enrique Ballestrero</td>\n",
       "      <td>1930</td>\n",
       "    </tr>\n",
       "    <tr>\n",
       "      <th>3</th>\n",
       "      <td>24</td>\n",
       "      <td>Miramar Misiones</td>\n",
       "      <td>Uruguay</td>\n",
       "      <td>Juan Carlos Calvo</td>\n",
       "      <td>1930</td>\n",
       "    </tr>\n",
       "    <tr>\n",
       "      <th>4</th>\n",
       "      <td>26</td>\n",
       "      <td>Peñarol</td>\n",
       "      <td>Uruguay</td>\n",
       "      <td>Miguel Capuccini</td>\n",
       "      <td>1930</td>\n",
       "    </tr>\n",
       "  </tbody>\n",
       "</table>\n",
       "</div>"
      ],
      "text/plain": [
       "   age              club  country                player  year\n",
       "0   28          Nacional  Uruguay  José Leandro Andrade  1930\n",
       "1   28           Peñarol  Uruguay     Peregrino Anselmo  1930\n",
       "2   25    Rampla Juniors  Uruguay   Enrique Ballestrero  1930\n",
       "3   24  Miramar Misiones  Uruguay     Juan Carlos Calvo  1930\n",
       "4   26           Peñarol  Uruguay      Miguel Capuccini  1930"
      ]
     },
     "execution_count": 3,
     "metadata": {},
     "output_type": "execute_result"
    }
   ],
   "source": [
    "df = pd.read_csv('data/winning_squads.csv')\n",
    "df.head()"
   ]
  },
  {
   "cell_type": "code",
   "execution_count": 4,
   "metadata": {
    "collapsed": false
   },
   "outputs": [
    {
     "data": {
      "text/plain": [
       "Juventus            25\n",
       "Bayern Munich       24\n",
       "Roma                16\n",
       "Santos              15\n",
       "Peñarol             14\n",
       "São Paulo           13\n",
       "Nacional            13\n",
       "Real Madrid         11\n",
       "Barcelona           11\n",
       "Botafogo            11\n",
       "Milan               10\n",
       "Internazionale       9\n",
       "River Plate          9\n",
       "Ambrosiana-Inter     9\n",
       "Palmeiras            9\n",
       "Name: club, dtype: int64"
      ]
     },
     "execution_count": 4,
     "metadata": {},
     "output_type": "execute_result"
    }
   ],
   "source": [
    "df['club'].value_counts()[:15]"
   ]
  },
  {
   "cell_type": "code",
   "execution_count": 5,
   "metadata": {
    "collapsed": true
   },
   "outputs": [],
   "source": [
    "aa = df['club'].value_counts()[:5]"
   ]
  },
  {
   "cell_type": "code",
   "execution_count": 6,
   "metadata": {
    "collapsed": false
   },
   "outputs": [
    {
     "data": {
      "text/plain": [
       "array([25, 24, 16, 15, 14])"
      ]
     },
     "execution_count": 6,
     "metadata": {},
     "output_type": "execute_result"
    }
   ],
   "source": [
    "aa.values"
   ]
  },
  {
   "cell_type": "code",
   "execution_count": 7,
   "metadata": {
    "collapsed": false
   },
   "outputs": [
    {
     "name": "stderr",
     "output_type": "stream",
     "text": [
      "/anaconda/lib/python3.6/site-packages/seaborn/categorical.py:1428: FutureWarning: remove_na is deprecated and is a private function. Do not use.\n",
      "  stat_data = remove_na(group_data)\n"
     ]
    },
    {
     "data": {
      "text/plain": [
       "<matplotlib.axes._subplots.AxesSubplot at 0x1a0afcfd30>"
      ]
     },
     "execution_count": 7,
     "metadata": {},
     "output_type": "execute_result"
    },
    {
     "data": {
      "image/png": "[encoded data removed]",
      "text/plain": [
       "<matplotlib.figure.Figure at 0x1a0afcfda0>"
      ]
     },
     "metadata": {},
     "output_type": "display_data"
    }
   ],
   "source": [
    "plt.figure(figsize=(10,6))\n",
    "sns.barplot(aa.index, aa.values, color='black')"
   ]
  },
  {
   "cell_type": "code",
   "execution_count": 8,
   "metadata": {
    "collapsed": false
   },
   "outputs": [],
   "source": [
    "top15_clubs = list(df['club'].value_counts()[:15].index)"
   ]
  },
  {
   "cell_type": "code",
   "execution_count": 9,
   "metadata": {
    "collapsed": false
   },
   "outputs": [
    {
     "data": {
      "text/plain": [
       "Italy     22\n",
       "France     3\n",
       "Name: country, dtype: int64"
      ]
     },
     "execution_count": 9,
     "metadata": {},
     "output_type": "execute_result"
    }
   ],
   "source": [
    "df[df['club'] == 'Juventus']['country'].value_counts()"
   ]
  },
  {
   "cell_type": "code",
   "execution_count": 10,
   "metadata": {
    "collapsed": false
   },
   "outputs": [
    {
     "name": "stdout",
     "output_type": "stream",
     "text": [
      "Juventus:\n",
      "--------------------\n",
      "Italy     22\n",
      "France     3\n",
      "Name: country, dtype: int64\n",
      "\n",
      "Bayern Munich:\n",
      "--------------------\n",
      "West Germany    14\n",
      "Germany          7\n",
      "France           2\n",
      "Brazil           1\n",
      "Name: country, dtype: int64\n",
      "\n",
      "Roma:\n",
      "--------------------\n",
      "Italy           11\n",
      "Brazil           2\n",
      "West Germany     2\n",
      "France           1\n",
      "Name: country, dtype: int64\n",
      "\n",
      "Santos:\n",
      "--------------------\n",
      "Brazil    15\n",
      "Name: country, dtype: int64\n",
      "\n",
      "Peñarol:\n",
      "--------------------\n",
      "Uruguay    14\n",
      "Name: country, dtype: int64\n",
      "\n",
      "São Paulo:\n",
      "--------------------\n",
      "Brazil    13\n",
      "Name: country, dtype: int64\n",
      "\n",
      "Nacional:\n",
      "--------------------\n",
      "Uruguay    13\n",
      "Name: country, dtype: int64\n",
      "\n",
      "Real Madrid:\n",
      "--------------------\n",
      "Spain           5\n",
      "France          2\n",
      "Brazil          1\n",
      "Germany         1\n",
      "Argentina       1\n",
      "West Germany    1\n",
      "Name: country, dtype: int64\n",
      "\n",
      "Barcelona:\n",
      "--------------------\n",
      "Spain     7\n",
      "Brazil    2\n",
      "France    2\n",
      "Name: country, dtype: int64\n",
      "\n",
      "Botafogo:\n",
      "--------------------\n",
      "Brazil    11\n",
      "Name: country, dtype: int64\n",
      "\n",
      "Milan:\n",
      "--------------------\n",
      "Italy     8\n",
      "Brazil    1\n",
      "France    1\n",
      "Name: country, dtype: int64\n",
      "\n",
      "Internazionale:\n",
      "--------------------\n",
      "Italy           6\n",
      "West Germany    3\n",
      "Name: country, dtype: int64\n",
      "\n",
      "River Plate:\n",
      "--------------------\n",
      "Argentina    8\n",
      "Uruguay      1\n",
      "Name: country, dtype: int64\n",
      "\n",
      "Ambrosiana-Inter:\n",
      "--------------------\n",
      "Italy    9\n",
      "Name: country, dtype: int64\n",
      "\n",
      "Palmeiras:\n",
      "--------------------\n",
      "Brazil    9\n",
      "Name: country, dtype: int64\n",
      "\n"
     ]
    }
   ],
   "source": [
    "for club in top15_clubs:\n",
    "    country_counts = df[df['club'] == club]['country'].value_counts()\n",
    "    print(\"{}:\\n--------------------\\n{}\\n\".format(club, country_counts))"
   ]
  },
  {
   "cell_type": "markdown",
   "metadata": {
    "collapsed": true
   },
   "source": [
    "Ambrosiana-Inter and Internazionale are same: Inter Milan. Germany and West Germany should be considered same."
   ]
  },
  {
   "cell_type": "code",
   "execution_count": null,
   "metadata": {
    "collapsed": false
   },
   "outputs": [],
   "source": []
  },
  {
   "cell_type": "code",
   "execution_count": 11,
   "metadata": {
    "collapsed": true
   },
   "outputs": [],
   "source": [
    "def correct_club(x):\n",
    "    if x == \"Ambrosiana-Inter\" or x == \"Internazionale\":\n",
    "        x = \"Inter Milan\"\n",
    "    return x\n",
    "\n",
    "def correct_country(x):\n",
    "    if x == \"West Germany\":\n",
    "        x = \"Germany\"\n",
    "    return x"
   ]
  },
  {
   "cell_type": "code",
   "execution_count": 12,
   "metadata": {
    "collapsed": false
   },
   "outputs": [
    {
     "data": {
      "text/plain": [
       "Brazil          111\n",
       "Italy            89\n",
       "West Germany     66\n",
       "France           45\n",
       "Argentina        44\n",
       "Uruguay          44\n",
       "Germany          23\n",
       "Spain            23\n",
       "England          22\n",
       "Name: country, dtype: int64"
      ]
     },
     "execution_count": 12,
     "metadata": {},
     "output_type": "execute_result"
    }
   ],
   "source": [
    "df['country'].value_counts()"
   ]
  },
  {
   "cell_type": "code",
   "execution_count": 13,
   "metadata": {
    "collapsed": true
   },
   "outputs": [],
   "source": [
    "df['club'] = df['club'].apply(correct_club)\n",
    "df['country'] = df['country'].apply(correct_country)"
   ]
  },
  {
   "cell_type": "code",
   "execution_count": 14,
   "metadata": {
    "collapsed": false
   },
   "outputs": [
    {
     "data": {
      "text/plain": [
       "Brazil       111\n",
       "Germany       89\n",
       "Italy         89\n",
       "France        45\n",
       "Argentina     44\n",
       "Uruguay       44\n",
       "Spain         23\n",
       "England       22\n",
       "Name: country, dtype: int64"
      ]
     },
     "execution_count": 14,
     "metadata": {},
     "output_type": "execute_result"
    }
   ],
   "source": [
    "df['country'].value_counts()"
   ]
  },
  {
   "cell_type": "code",
   "execution_count": 15,
   "metadata": {
    "collapsed": false
   },
   "outputs": [
    {
     "data": {
      "text/plain": [
       "Juventus         25\n",
       "Bayern Munich    24\n",
       "Inter Milan      20\n",
       "Roma             16\n",
       "Santos           15\n",
       "Peñarol          14\n",
       "Nacional         13\n",
       "São Paulo        13\n",
       "Real Madrid      11\n",
       "Barcelona        11\n",
       "Botafogo         11\n",
       "Name: club, dtype: int64"
      ]
     },
     "execution_count": 15,
     "metadata": {},
     "output_type": "execute_result"
    }
   ],
   "source": [
    "df['club'].value_counts()[:11]"
   ]
  },
  {
   "cell_type": "code",
   "execution_count": null,
   "metadata": {
    "collapsed": false
   },
   "outputs": [],
   "source": []
  },
  {
   "cell_type": "code",
   "execution_count": null,
   "metadata": {
    "collapsed": true
   },
   "outputs": [],
   "source": []
  },
  {
   "cell_type": "markdown",
   "metadata": {
    "collapsed": true
   },
   "source": [
    "## Visualization"
   ]
  },
  {
   "cell_type": "code",
   "execution_count": 16,
   "metadata": {
    "collapsed": true
   },
   "outputs": [],
   "source": [
    "import plotly\n",
    "import plotly.graph_objs as go\n",
    "from plotly import tools"
   ]
  },
  {
   "cell_type": "code",
   "execution_count": 17,
   "metadata": {
    "collapsed": false
   },
   "outputs": [
    {
     "data": {
      "text/html": [
       "<script>requirejs.config({paths: { 'plotly': ['https://cdn.plot.ly/plotly-latest.min']},});if(!window.Plotly) {{require(['plotly'],function(plotly) {window.Plotly=plotly;});}}</script>"
      ],
      "text/vnd.plotly.v1+html": [
       "<script>requirejs.config({paths: { 'plotly': ['https://cdn.plot.ly/plotly-latest.min']},});if(!window.Plotly) {{require(['plotly'],function(plotly) {window.Plotly=plotly;});}}</script>"
      ]
     },
     "metadata": {},
     "output_type": "display_data"
    }
   ],
   "source": [
    "plotly.offline.init_notebook_mode(connected=True)"
   ]
  },
  {
   "cell_type": "code",
   "execution_count": 18,
   "metadata": {
    "collapsed": true
   },
   "outputs": [],
   "source": [
    "top_clubs_ser = df['club'].value_counts()[:11]"
   ]
  },
  {
   "cell_type": "code",
   "execution_count": 19,
   "metadata": {
    "collapsed": false
   },
   "outputs": [
    {
     "data": {
      "text/plain": [
       "Juventus         25\n",
       "Bayern Munich    24\n",
       "Inter Milan      20\n",
       "Roma             16\n",
       "Santos           15\n",
       "Peñarol          14\n",
       "Nacional         13\n",
       "São Paulo        13\n",
       "Real Madrid      11\n",
       "Barcelona        11\n",
       "Botafogo         11\n",
       "Name: club, dtype: int64"
      ]
     },
     "execution_count": 19,
     "metadata": {},
     "output_type": "execute_result"
    }
   ],
   "source": [
    "top_clubs_ser"
   ]
  },
  {
   "cell_type": "code",
   "execution_count": 20,
   "metadata": {
    "collapsed": false
   },
   "outputs": [
    {
     "data": {
      "text/plain": [
       "['Juventus (Italy)',\n",
       " 'Bayern Munich (Germany)',\n",
       " 'Inter Milan (Italy)',\n",
       " 'Roma (Italy)',\n",
       " 'Santos (Brazil)',\n",
       " 'Peñarol (Uruguay)',\n",
       " 'Nacional (Brazil)',\n",
       " 'São Paulo (Uruguay)',\n",
       " 'Real Madrid (Spain)',\n",
       " 'Barcelona (Brazil)',\n",
       " 'Botafogo (Spain)']"
      ]
     },
     "execution_count": 20,
     "metadata": {},
     "output_type": "execute_result"
    }
   ],
   "source": [
    "club_countries = ['Italy','Germany','Italy','Italy','Brazil','Uruguay','Brazil','Uruguay','Spain','Brazil','Spain']\n",
    "club_text = []\n",
    "for i in range(11):\n",
    "    club_text.append(list(top_clubs_ser.index)[i] + \" (\" + club_countries[i] + \")\")\n",
    "club_text"
   ]
  },
  {
   "cell_type": "code",
   "execution_count": 25,
   "metadata": {
    "collapsed": false
   },
   "outputs": [
    {
     "data": {
      "application/vnd.plotly.v1+json": {
       "data": [
        {
         "marker": {
          "color": "rgba(50, 171, 96, 0.6)",
          "line": {
           "color": "rgba(50, 171, 96, 1.0)",
           "width": 1
          }
         },
         "orientation": "h",
         "text": [
          "Juventus (Italy)",
          "Bayern Munich (Germany)",
          "Inter Milan (Italy)",
          "Roma (Italy)",
          "Santos (Brazil)",
          "Peñarol (Uruguay)",
          "Nacional (Brazil)",
          "São Paulo (Uruguay)",
          "Real Madrid (Spain)",
          "Barcelona (Brazil)",
          "Botafogo (Spain)"
         ],
         "textposition": "auto",
         "type": "bar",
         "uid": "126d7b5e-ceed-11e8-82a9-784f438dbc8b",
         "width": 0.6,
         "x": [
          25,
          24,
          20,
          16,
          15,
          14,
          13,
          13,
          11,
          11,
          11
         ],
         "y": [
          "Juventus",
          "Bayern Munich",
          "Inter Milan",
          "Roma",
          "Santos",
          "Peñarol",
          "Nacional",
          "São Paulo",
          "Real Madrid",
          "Barcelona",
          "Botafogo"
         ]
        }
       ],
       "layout": {
        "title": "Football Clubs Contributing Most World Cup Winners",
        "yaxis": {
         "autorange": "reversed",
         "showticklabels": false
        }
       }
      },
      "text/html": [
       "<div id=\"5c5e9a01-f7b9-4887-885c-f1c1004bac87\" style=\"height: 525px; width: 100%;\" class=\"plotly-graph-div\"></div><script type=\"text/javascript\">require([\"plotly\"], function(Plotly) { window.PLOTLYENV=window.PLOTLYENV || {};window.PLOTLYENV.BASE_URL=\"https://plot.ly\";Plotly.newPlot(\"5c5e9a01-f7b9-4887-885c-f1c1004bac87\", [{\"marker\": {\"color\": \"rgba(50, 171, 96, 0.6)\", \"line\": {\"color\": \"rgba(50, 171, 96, 1.0)\", \"width\": 1}}, \"orientation\": \"h\", \"text\": [\"Juventus (Italy)\", \"Bayern Munich (Germany)\", \"Inter Milan (Italy)\", \"Roma (Italy)\", \"Santos (Brazil)\", \"Pe\\u00f1arol (Uruguay)\", \"Nacional (Brazil)\", \"S\\u00e3o Paulo (Uruguay)\", \"Real Madrid (Spain)\", \"Barcelona (Brazil)\", \"Botafogo (Spain)\"], \"textposition\": \"auto\", \"width\": 0.6, \"x\": [25.0, 24.0, 20.0, 16.0, 15.0, 14.0, 13.0, 13.0, 11.0, 11.0, 11.0], \"y\": [\"Juventus\", \"Bayern Munich\", \"Inter Milan\", \"Roma\", \"Santos\", \"Pe\\u00f1arol\", \"Nacional\", \"S\\u00e3o Paulo\", \"Real Madrid\", \"Barcelona\", \"Botafogo\"], \"type\": \"bar\", \"uid\": \"12725746-ceed-11e8-82f0-784f438dbc8b\"}], {\"title\": \"Football Clubs Contributing Most World Cup Winners\", \"yaxis\": {\"autorange\": \"reversed\", \"showticklabels\": false}}, {\"showLink\": true, \"linkText\": \"Export to plot.ly\"})});</script>"
      ],
      "text/vnd.plotly.v1+html": [
       "<div id=\"5c5e9a01-f7b9-4887-885c-f1c1004bac87\" style=\"height: 525px; width: 100%;\" class=\"plotly-graph-div\"></div><script type=\"text/javascript\">require([\"plotly\"], function(Plotly) { window.PLOTLYENV=window.PLOTLYENV || {};window.PLOTLYENV.BASE_URL=\"https://plot.ly\";Plotly.newPlot(\"5c5e9a01-f7b9-4887-885c-f1c1004bac87\", [{\"marker\": {\"color\": \"rgba(50, 171, 96, 0.6)\", \"line\": {\"color\": \"rgba(50, 171, 96, 1.0)\", \"width\": 1}}, \"orientation\": \"h\", \"text\": [\"Juventus (Italy)\", \"Bayern Munich (Germany)\", \"Inter Milan (Italy)\", \"Roma (Italy)\", \"Santos (Brazil)\", \"Pe\\u00f1arol (Uruguay)\", \"Nacional (Brazil)\", \"S\\u00e3o Paulo (Uruguay)\", \"Real Madrid (Spain)\", \"Barcelona (Brazil)\", \"Botafogo (Spain)\"], \"textposition\": \"auto\", \"width\": 0.6, \"x\": [25.0, 24.0, 20.0, 16.0, 15.0, 14.0, 13.0, 13.0, 11.0, 11.0, 11.0], \"y\": [\"Juventus\", \"Bayern Munich\", \"Inter Milan\", \"Roma\", \"Santos\", \"Pe\\u00f1arol\", \"Nacional\", \"S\\u00e3o Paulo\", \"Real Madrid\", \"Barcelona\", \"Botafogo\"], \"type\": \"bar\", \"uid\": \"12725746-ceed-11e8-82f0-784f438dbc8b\"}], {\"title\": \"Football Clubs Contributing Most World Cup Winners\", \"yaxis\": {\"autorange\": \"reversed\", \"showticklabels\": false}}, {\"showLink\": true, \"linkText\": \"Export to plot.ly\"})});</script>"
      ]
     },
     "metadata": {},
     "output_type": "display_data"
    }
   ],
   "source": [
    "trace = go.Bar(\n",
    "    y = top_clubs_ser.index,\n",
    "    x = top_clubs_ser.values,\n",
    "    orientation = 'h',\n",
    "    width = 0.6,\n",
    "    text = club_text,\n",
    "    textposition = 'auto',\n",
    "    marker=dict(\n",
    "        color='rgba(50, 171, 96, 0.6)',\n",
    "        line=dict(\n",
    "            color='rgba(50, 171, 96, 1.0)',\n",
    "            width=1),\n",
    "    )\n",
    ")\n",
    "\n",
    "data = [trace]\n",
    "\n",
    "layout = dict(\n",
    "    title = 'Football Clubs Contributing Most World Cup Winners',\n",
    "    yaxis = dict(\n",
    "        autorange = 'reversed',\n",
    "        showticklabels = False\n",
    "    )\n",
    ")\n",
    "\n",
    "plotly.offline.iplot({'data':data, 'layout':layout})"
   ]
  },
  {
   "cell_type": "code",
   "execution_count": 26,
   "metadata": {
    "collapsed": false
   },
   "outputs": [],
   "source": [
    "# to save svg image of above graph\n",
    "#plotly.offline.iplot({'data' : data, 'layout' : layout}, show_link=False, image='jpeg', image_height=1200, image_width=800)"
   ]
  },
  {
   "cell_type": "code",
   "execution_count": 27,
   "metadata": {
    "collapsed": false
   },
   "outputs": [
    {
     "data": {
      "text/plain": [
       "'<div id=\"1a010934-9739-41eb-bcdf-124bc9c05bd7\" style=\"height: 100%; width: 100%;\" class=\"plotly-graph-div\"></div><script type=\"text/javascript\">window.PLOTLYENV=window.PLOTLYENV || {};window.PLOTLYENV.BASE_URL=\"https://plot.ly\";Plotly.newPlot(\"1a010934-9739-41eb-bcdf-124bc9c05bd7\", [{\"marker\": {\"color\": \"rgba(50, 171, 96, 0.6)\", \"line\": {\"color\": \"rgba(50, 171, 96, 1.0)\", \"width\": 1}}, \"orientation\": \"h\", \"text\": [\"Juventus (Italy)\", \"Bayern Munich (Germany)\", \"Inter Milan (Italy)\", \"Roma (Italy)\", \"Santos (Brazil)\", \"Pe\\\\u00f1arol (Uruguay)\", \"Nacional (Brazil)\", \"S\\\\u00e3o Paulo (Uruguay)\", \"Real Madrid (Spain)\", \"Barcelona (Brazil)\", \"Botafogo (Spain)\"], \"textposition\": \"auto\", \"width\": 0.6, \"x\": [25.0, 24.0, 20.0, 16.0, 15.0, 14.0, 13.0, 13.0, 11.0, 11.0, 11.0], \"y\": [\"Juventus\", \"Bayern Munich\", \"Inter Milan\", \"Roma\", \"Santos\", \"Pe\\\\u00f1arol\", \"Nacional\", \"S\\\\u00e3o Paulo\", \"Real Madrid\", \"Barcelona\", \"Botafogo\"], \"type\": \"bar\"}], {\"title\": \"Football Clubs Contributing Most World Cup Winners\", \"yaxis\": {\"autorange\": \"reversed\", \"showticklabels\": false}}, {\"showLink\": false, \"linkText\": \"Export to plot.ly\"})</script>'"
      ]
     },
     "execution_count": 27,
     "metadata": {},
     "output_type": "execute_result"
    }
   ],
   "source": [
    "plotly.offline.plot({'data' : data, 'layout' : layout}, validate=False, show_link=False, include_plotlyjs=False, output_type='div')"
   ]
  },
  {
   "cell_type": "code",
   "execution_count": null,
   "metadata": {
    "collapsed": true
   },
   "outputs": [],
   "source": []
  }
 ],
 "metadata": {
  "kernelspec": {
   "display_name": "Python 3",
   "language": "python",
   "name": "python3"
  },
  "language_info": {
   "codemirror_mode": {
    "name": "ipython",
    "version": 3
   },
   "file_extension": ".py",
   "mimetype": "text/x-python",
   "name": "python",
   "nbconvert_exporter": "python",
   "pygments_lexer": "ipython3",
   "version": "3.6.5"
  }
 },
 "nbformat": 4,
 "nbformat_minor": 2
}
