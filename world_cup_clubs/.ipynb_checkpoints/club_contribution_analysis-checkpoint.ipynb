{
 "cells": [
  {
   "cell_type": "code",
   "execution_count": 1,
   "metadata": {
    "collapsed": true
   },
   "outputs": [],
   "source": [
    "import numpy as np\n",
    "import pandas as pd\n",
    "import matplotlib.pyplot as plt\n",
    "import seaborn as sns\n",
    "%matplotlib inline"
   ]
  },
  {
   "cell_type": "code",
   "execution_count": 2,
   "metadata": {
    "collapsed": true
   },
   "outputs": [],
   "source": [
    "sns.set_style('whitegrid')"
   ]
  },
  {
   "cell_type": "code",
   "execution_count": 3,
   "metadata": {
    "collapsed": false
   },
   "outputs": [
    {
     "data": {
      "text/html": [
       "<div>\n",
       "<style scoped>\n",
       "    .dataframe tbody tr th:only-of-type {\n",
       "        vertical-align: middle;\n",
       "    }\n",
       "\n",
       "    .dataframe tbody tr th {\n",
       "        vertical-align: top;\n",
       "    }\n",
       "\n",
       "    .dataframe thead th {\n",
       "        text-align: right;\n",
       "    }\n",
       "</style>\n",
       "<table border=\"1\" class=\"dataframe\">\n",
       "  <thead>\n",
       "    <tr style=\"text-align: right;\">\n",
       "      <th></th>\n",
       "      <th>age</th>\n",
       "      <th>club</th>\n",
       "      <th>country</th>\n",
       "      <th>player</th>\n",
       "      <th>year</th>\n",
       "    </tr>\n",
       "  </thead>\n",
       "  <tbody>\n",
       "    <tr>\n",
       "      <th>0</th>\n",
       "      <td>28</td>\n",
       "      <td>Nacional</td>\n",
       "      <td>Uruguay</td>\n",
       "      <td>José Leandro Andrade</td>\n",
       "      <td>1930</td>\n",
       "    </tr>\n",
       "    <tr>\n",
       "      <th>1</th>\n",
       "      <td>28</td>\n",
       "      <td>Peñarol</td>\n",
       "      <td>Uruguay</td>\n",
       "      <td>Peregrino Anselmo</td>\n",
       "      <td>1930</td>\n",
       "    </tr>\n",
       "    <tr>\n",
       "      <th>2</th>\n",
       "      <td>25</td>\n",
       "      <td>Rampla Juniors</td>\n",
       "      <td>Uruguay</td>\n",
       "      <td>Enrique Ballestrero</td>\n",
       "      <td>1930</td>\n",
       "    </tr>\n",
       "    <tr>\n",
       "      <th>3</th>\n",
       "      <td>24</td>\n",
       "      <td>Miramar Misiones</td>\n",
       "      <td>Uruguay</td>\n",
       "      <td>Juan Carlos Calvo</td>\n",
       "      <td>1930</td>\n",
       "    </tr>\n",
       "    <tr>\n",
       "      <th>4</th>\n",
       "      <td>26</td>\n",
       "      <td>Peñarol</td>\n",
       "      <td>Uruguay</td>\n",
       "      <td>Miguel Capuccini</td>\n",
       "      <td>1930</td>\n",
       "    </tr>\n",
       "  </tbody>\n",
       "</table>\n",
       "</div>"
      ],
      "text/plain": [
       "   age              club  country                player  year\n",
       "0   28          Nacional  Uruguay  José Leandro Andrade  1930\n",
       "1   28           Peñarol  Uruguay     Peregrino Anselmo  1930\n",
       "2   25    Rampla Juniors  Uruguay   Enrique Ballestrero  1930\n",
       "3   24  Miramar Misiones  Uruguay     Juan Carlos Calvo  1930\n",
       "4   26           Peñarol  Uruguay      Miguel Capuccini  1930"
      ]
     },
     "execution_count": 3,
     "metadata": {},
     "output_type": "execute_result"
    }
   ],
   "source": [
    "df = pd.read_csv('data/winning_squads.csv')\n",
    "df.head()"
   ]
  },
  {
   "cell_type": "code",
   "execution_count": 6,
   "metadata": {
    "collapsed": false
   },
   "outputs": [
    {
     "data": {
      "text/plain": [
       "Juventus            25\n",
       "Bayern Munich       24\n",
       "Roma                16\n",
       "Santos              15\n",
       "Peñarol             14\n",
       "Nacional            13\n",
       "São Paulo           13\n",
       "Barcelona           11\n",
       "Real Madrid         11\n",
       "Botafogo            11\n",
       "Milan               10\n",
       "Palmeiras            9\n",
       "Ambrosiana-Inter     9\n",
       "River Plate          9\n",
       "Internazionale       9\n",
       "Name: club, dtype: int64"
      ]
     },
     "execution_count": 6,
     "metadata": {},
     "output_type": "execute_result"
    }
   ],
   "source": [
    "df['club'].value_counts()[:15]"
   ]
  },
  {
   "cell_type": "code",
   "execution_count": 8,
   "metadata": {
    "collapsed": true
   },
   "outputs": [],
   "source": [
    "aa = df['club'].value_counts()[:5]"
   ]
  },
  {
   "cell_type": "code",
   "execution_count": 12,
   "metadata": {
    "collapsed": false
   },
   "outputs": [
    {
     "data": {
      "text/plain": [
       "array([25, 24, 16, 15, 14])"
      ]
     },
     "execution_count": 12,
     "metadata": {},
     "output_type": "execute_result"
    }
   ],
   "source": [
    "aa.values"
   ]
  },
  {
   "cell_type": "code",
   "execution_count": 19,
   "metadata": {
    "collapsed": false
   },
   "outputs": [
    {
     "name": "stderr",
     "output_type": "stream",
     "text": [
      "/anaconda/lib/python3.6/site-packages/seaborn/categorical.py:1428: FutureWarning: remove_na is deprecated and is a private function. Do not use.\n",
      "  stat_data = remove_na(group_data)\n"
     ]
    },
    {
     "data": {
      "text/plain": [
       "<matplotlib.axes._subplots.AxesSubplot at 0x1a19ff7828>"
      ]
     },
     "execution_count": 19,
     "metadata": {},
     "output_type": "execute_result"
    },
    {
     "data": {
      "image/png": "[encoded data removed]",
      "text/plain": [
       "<matplotlib.figure.Figure at 0x1a19ff2e80>"
      ]
     },
     "metadata": {},
     "output_type": "display_data"
    }
   ],
   "source": [
    "plt.figure(figsize=(10,6))\n",
    "sns.barplot(aa.index, aa.values, color='black')"
   ]
  },
  {
   "cell_type": "code",
   "execution_count": 31,
   "metadata": {
    "collapsed": false
   },
   "outputs": [],
   "source": [
    "top15_clubs = list(df['club'].value_counts()[:15].index)"
   ]
  },
  {
   "cell_type": "code",
   "execution_count": 37,
   "metadata": {
    "collapsed": false
   },
   "outputs": [
    {
     "data": {
      "text/plain": [
       "Italy     22\n",
       "France     3\n",
       "Name: country, dtype: int64"
      ]
     },
     "execution_count": 37,
     "metadata": {},
     "output_type": "execute_result"
    }
   ],
   "source": [
    "df[df['club'] == 'Juventus']['country'].value_counts()"
   ]
  },
  {
   "cell_type": "code",
   "execution_count": 39,
   "metadata": {
    "collapsed": false
   },
   "outputs": [
    {
     "name": "stdout",
     "output_type": "stream",
     "text": [
      "Juventus:\n",
      "--------------------\n",
      "Italy     22\n",
      "France     3\n",
      "Name: country, dtype: int64\n",
      "\n",
      "Bayern Munich:\n",
      "--------------------\n",
      "West Germany    14\n",
      "Germany          7\n",
      "France           2\n",
      "Brazil           1\n",
      "Name: country, dtype: int64\n",
      "\n",
      "Roma:\n",
      "--------------------\n",
      "Italy           11\n",
      "Brazil           2\n",
      "West Germany     2\n",
      "France           1\n",
      "Name: country, dtype: int64\n",
      "\n",
      "Santos:\n",
      "--------------------\n",
      "Brazil    15\n",
      "Name: country, dtype: int64\n",
      "\n",
      "Peñarol:\n",
      "--------------------\n",
      "Uruguay    14\n",
      "Name: country, dtype: int64\n",
      "\n",
      "Nacional:\n",
      "--------------------\n",
      "Uruguay    13\n",
      "Name: country, dtype: int64\n",
      "\n",
      "São Paulo:\n",
      "--------------------\n",
      "Brazil    13\n",
      "Name: country, dtype: int64\n",
      "\n",
      "Barcelona:\n",
      "--------------------\n",
      "Spain     7\n",
      "France    2\n",
      "Brazil    2\n",
      "Name: country, dtype: int64\n",
      "\n",
      "Real Madrid:\n",
      "--------------------\n",
      "Spain           5\n",
      "France          2\n",
      "Germany         1\n",
      "Brazil          1\n",
      "Argentina       1\n",
      "West Germany    1\n",
      "Name: country, dtype: int64\n",
      "\n",
      "Botafogo:\n",
      "--------------------\n",
      "Brazil    11\n",
      "Name: country, dtype: int64\n",
      "\n",
      "Milan:\n",
      "--------------------\n",
      "Italy     8\n",
      "France    1\n",
      "Brazil    1\n",
      "Name: country, dtype: int64\n",
      "\n",
      "Palmeiras:\n",
      "--------------------\n",
      "Brazil    9\n",
      "Name: country, dtype: int64\n",
      "\n",
      "Ambrosiana-Inter:\n",
      "--------------------\n",
      "Italy    9\n",
      "Name: country, dtype: int64\n",
      "\n",
      "River Plate:\n",
      "--------------------\n",
      "Argentina    8\n",
      "Uruguay      1\n",
      "Name: country, dtype: int64\n",
      "\n",
      "Internazionale:\n",
      "--------------------\n",
      "Italy           6\n",
      "West Germany    3\n",
      "Name: country, dtype: int64\n",
      "\n"
     ]
    }
   ],
   "source": [
    "for club in top15_clubs:\n",
    "    country_counts = df[df['club'] == club]['country'].value_counts()\n",
    "    print(\"{}:\\n--------------------\\n{}\\n\".format(club, country_counts))"
   ]
  },
  {
   "cell_type": "code",
   "execution_count": null,
   "metadata": {
    "collapsed": true
   },
   "outputs": [],
   "source": []
  }
 ],
 "metadata": {
  "kernelspec": {
   "display_name": "Python 3",
   "language": "python",
   "name": "python3"
  },
  "language_info": {
   "codemirror_mode": {
    "name": "ipython",
    "version": 3
   },
   "file_extension": ".py",
   "mimetype": "text/x-python",
   "name": "python",
   "nbconvert_exporter": "python",
   "pygments_lexer": "ipython3",
   "version": "3.6.5"
  }
 },
 "nbformat": 4,
 "nbformat_minor": 2
}
