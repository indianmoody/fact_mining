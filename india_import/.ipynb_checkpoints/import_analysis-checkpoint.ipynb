{
 "cells": [
  {
   "cell_type": "code",
   "execution_count": 1,
   "metadata": {
    "collapsed": true
   },
   "outputs": [],
   "source": [
    "import numpy as np\n",
    "import pandas as pd"
   ]
  },
  {
   "cell_type": "code",
   "execution_count": 2,
   "metadata": {
    "collapsed": true
   },
   "outputs": [],
   "source": [
    "df = pd.read_excel('india_import_list.xlsx')"
   ]
  },
  {
   "cell_type": "code",
   "execution_count": 3,
   "metadata": {
    "collapsed": false
   },
   "outputs": [
    {
     "data": {
      "text/html": [
       "<div>\n",
       "<style scoped>\n",
       "    .dataframe tbody tr th:only-of-type {\n",
       "        vertical-align: middle;\n",
       "    }\n",
       "\n",
       "    .dataframe tbody tr th {\n",
       "        vertical-align: top;\n",
       "    }\n",
       "\n",
       "    .dataframe thead th {\n",
       "        text-align: right;\n",
       "    }\n",
       "</style>\n",
       "<table border=\"1\" class=\"dataframe\">\n",
       "  <thead>\n",
       "    <tr style=\"text-align: right;\">\n",
       "      <th></th>\n",
       "      <th>Country</th>\n",
       "      <th>Value</th>\n",
       "      <th>Year</th>\n",
       "    </tr>\n",
       "  </thead>\n",
       "  <tbody>\n",
       "    <tr>\n",
       "      <th>0</th>\n",
       "      <td>China</td>\n",
       "      <td>$55.89B</td>\n",
       "      <td>2017</td>\n",
       "    </tr>\n",
       "    <tr>\n",
       "      <th>1</th>\n",
       "      <td>United States</td>\n",
       "      <td>$19.14B</td>\n",
       "      <td>2017</td>\n",
       "    </tr>\n",
       "    <tr>\n",
       "      <th>2</th>\n",
       "      <td>United Arab Emirates</td>\n",
       "      <td>$16.68B</td>\n",
       "      <td>2017</td>\n",
       "    </tr>\n",
       "    <tr>\n",
       "      <th>3</th>\n",
       "      <td>Saudi Arabia</td>\n",
       "      <td>$15.44B</td>\n",
       "      <td>2017</td>\n",
       "    </tr>\n",
       "    <tr>\n",
       "      <th>4</th>\n",
       "      <td>Switzerland</td>\n",
       "      <td>$14.93B</td>\n",
       "      <td>2017</td>\n",
       "    </tr>\n",
       "  </tbody>\n",
       "</table>\n",
       "</div>"
      ],
      "text/plain": [
       "                Country    Value  Year\n",
       "0                 China  $55.89B  2017\n",
       "1         United States  $19.14B  2017\n",
       "2  United Arab Emirates  $16.68B  2017\n",
       "3          Saudi Arabia  $15.44B  2017\n",
       "4           Switzerland  $14.93B  2017"
      ]
     },
     "execution_count": 3,
     "metadata": {},
     "output_type": "execute_result"
    }
   ],
   "source": [
    "df.head()"
   ]
  },
  {
   "cell_type": "code",
   "execution_count": 4,
   "metadata": {
    "collapsed": false
   },
   "outputs": [],
   "source": [
    "# remove countries India doesn't imported from in 2017. \n",
    "df = df[df['Year'] == 2017]"
   ]
  },
  {
   "cell_type": "code",
   "execution_count": 5,
   "metadata": {
    "collapsed": true
   },
   "outputs": [],
   "source": [
    "# Get country names with codes from Plotly csv file of country-wise GDP on GitHub\n",
    "codes_df = pd.read_csv('https://raw.githubusercontent.com/plotly/datasets/master/2014_world_gdp_with_codes.csv')"
   ]
  },
  {
   "cell_type": "code",
   "execution_count": 6,
   "metadata": {
    "collapsed": false
   },
   "outputs": [
    {
     "data": {
      "text/html": [
       "<div>\n",
       "<style scoped>\n",
       "    .dataframe tbody tr th:only-of-type {\n",
       "        vertical-align: middle;\n",
       "    }\n",
       "\n",
       "    .dataframe tbody tr th {\n",
       "        vertical-align: top;\n",
       "    }\n",
       "\n",
       "    .dataframe thead th {\n",
       "        text-align: right;\n",
       "    }\n",
       "</style>\n",
       "<table border=\"1\" class=\"dataframe\">\n",
       "  <thead>\n",
       "    <tr style=\"text-align: right;\">\n",
       "      <th></th>\n",
       "      <th>COUNTRY</th>\n",
       "      <th>GDP (BILLIONS)</th>\n",
       "      <th>CODE</th>\n",
       "    </tr>\n",
       "  </thead>\n",
       "  <tbody>\n",
       "    <tr>\n",
       "      <th>0</th>\n",
       "      <td>Afghanistan</td>\n",
       "      <td>21.71</td>\n",
       "      <td>AFG</td>\n",
       "    </tr>\n",
       "    <tr>\n",
       "      <th>1</th>\n",
       "      <td>Albania</td>\n",
       "      <td>13.40</td>\n",
       "      <td>ALB</td>\n",
       "    </tr>\n",
       "    <tr>\n",
       "      <th>2</th>\n",
       "      <td>Algeria</td>\n",
       "      <td>227.80</td>\n",
       "      <td>DZA</td>\n",
       "    </tr>\n",
       "    <tr>\n",
       "      <th>3</th>\n",
       "      <td>American Samoa</td>\n",
       "      <td>0.75</td>\n",
       "      <td>ASM</td>\n",
       "    </tr>\n",
       "    <tr>\n",
       "      <th>4</th>\n",
       "      <td>Andorra</td>\n",
       "      <td>4.80</td>\n",
       "      <td>AND</td>\n",
       "    </tr>\n",
       "  </tbody>\n",
       "</table>\n",
       "</div>"
      ],
      "text/plain": [
       "          COUNTRY  GDP (BILLIONS) CODE\n",
       "0     Afghanistan           21.71  AFG\n",
       "1         Albania           13.40  ALB\n",
       "2         Algeria          227.80  DZA\n",
       "3  American Samoa            0.75  ASM\n",
       "4         Andorra            4.80  AND"
      ]
     },
     "execution_count": 6,
     "metadata": {},
     "output_type": "execute_result"
    }
   ],
   "source": [
    "codes_df.head()"
   ]
  },
  {
   "cell_type": "code",
   "execution_count": 7,
   "metadata": {
    "collapsed": false
   },
   "outputs": [
    {
     "data": {
      "text/plain": [
       "(222, 3)"
      ]
     },
     "execution_count": 7,
     "metadata": {},
     "output_type": "execute_result"
    }
   ],
   "source": [
    "codes_df.shape"
   ]
  },
  {
   "cell_type": "code",
   "execution_count": 8,
   "metadata": {
    "collapsed": false
   },
   "outputs": [
    {
     "data": {
      "text/plain": [
       "COUNTRY           0\n",
       "GDP (BILLIONS)    0\n",
       "CODE              0\n",
       "dtype: int64"
      ]
     },
     "execution_count": 8,
     "metadata": {},
     "output_type": "execute_result"
    }
   ],
   "source": [
    "pd.isnull(codes_df).sum()"
   ]
  },
  {
   "cell_type": "code",
   "execution_count": 9,
   "metadata": {
    "collapsed": false
   },
   "outputs": [
    {
     "data": {
      "text/plain": [
       "Country    0\n",
       "Value      0\n",
       "Year       0\n",
       "dtype: int64"
      ]
     },
     "execution_count": 9,
     "metadata": {},
     "output_type": "execute_result"
    }
   ],
   "source": [
    "pd.isnull(df).sum()"
   ]
  },
  {
   "cell_type": "code",
   "execution_count": 10,
   "metadata": {
    "collapsed": false
   },
   "outputs": [],
   "source": [
    "codes_df.drop('GDP (BILLIONS)', axis=1, inplace=True)"
   ]
  },
  {
   "cell_type": "code",
   "execution_count": 11,
   "metadata": {
    "collapsed": false
   },
   "outputs": [],
   "source": [
    "# rename columns of codes_df\n",
    "codes_df.columns = ['Country', 'Code']"
   ]
  },
  {
   "cell_type": "code",
   "execution_count": 12,
   "metadata": {
    "collapsed": false
   },
   "outputs": [
    {
     "data": {
      "text/html": [
       "<div>\n",
       "<style scoped>\n",
       "    .dataframe tbody tr th:only-of-type {\n",
       "        vertical-align: middle;\n",
       "    }\n",
       "\n",
       "    .dataframe tbody tr th {\n",
       "        vertical-align: top;\n",
       "    }\n",
       "\n",
       "    .dataframe thead th {\n",
       "        text-align: right;\n",
       "    }\n",
       "</style>\n",
       "<table border=\"1\" class=\"dataframe\">\n",
       "  <thead>\n",
       "    <tr style=\"text-align: right;\">\n",
       "      <th></th>\n",
       "      <th>Country</th>\n",
       "      <th>Code</th>\n",
       "    </tr>\n",
       "  </thead>\n",
       "  <tbody>\n",
       "    <tr>\n",
       "      <th>0</th>\n",
       "      <td>Afghanistan</td>\n",
       "      <td>AFG</td>\n",
       "    </tr>\n",
       "    <tr>\n",
       "      <th>1</th>\n",
       "      <td>Albania</td>\n",
       "      <td>ALB</td>\n",
       "    </tr>\n",
       "    <tr>\n",
       "      <th>2</th>\n",
       "      <td>Algeria</td>\n",
       "      <td>DZA</td>\n",
       "    </tr>\n",
       "    <tr>\n",
       "      <th>3</th>\n",
       "      <td>American Samoa</td>\n",
       "      <td>ASM</td>\n",
       "    </tr>\n",
       "    <tr>\n",
       "      <th>4</th>\n",
       "      <td>Andorra</td>\n",
       "      <td>AND</td>\n",
       "    </tr>\n",
       "  </tbody>\n",
       "</table>\n",
       "</div>"
      ],
      "text/plain": [
       "          Country Code\n",
       "0     Afghanistan  AFG\n",
       "1         Albania  ALB\n",
       "2         Algeria  DZA\n",
       "3  American Samoa  ASM\n",
       "4         Andorra  AND"
      ]
     },
     "execution_count": 12,
     "metadata": {},
     "output_type": "execute_result"
    }
   ],
   "source": [
    "codes_df.head()"
   ]
  },
  {
   "cell_type": "code",
   "execution_count": 13,
   "metadata": {
    "collapsed": true
   },
   "outputs": [],
   "source": [
    "df['country'] = df['Country'].apply(lambda x: x.lower()) \n",
    "codes_df['country'] = codes_df['Country'].apply(lambda x: x.lower())"
   ]
  },
  {
   "cell_type": "code",
   "execution_count": 14,
   "metadata": {
    "collapsed": false
   },
   "outputs": [
    {
     "data": {
      "text/html": [
       "<div>\n",
       "<style scoped>\n",
       "    .dataframe tbody tr th:only-of-type {\n",
       "        vertical-align: middle;\n",
       "    }\n",
       "\n",
       "    .dataframe tbody tr th {\n",
       "        vertical-align: top;\n",
       "    }\n",
       "\n",
       "    .dataframe thead th {\n",
       "        text-align: right;\n",
       "    }\n",
       "</style>\n",
       "<table border=\"1\" class=\"dataframe\">\n",
       "  <thead>\n",
       "    <tr style=\"text-align: right;\">\n",
       "      <th></th>\n",
       "      <th>Country_x</th>\n",
       "      <th>Value</th>\n",
       "      <th>Year</th>\n",
       "      <th>country</th>\n",
       "      <th>Country_y</th>\n",
       "      <th>Code</th>\n",
       "    </tr>\n",
       "  </thead>\n",
       "  <tbody>\n",
       "    <tr>\n",
       "      <th>0</th>\n",
       "      <td>China</td>\n",
       "      <td>$55.89B</td>\n",
       "      <td>2017</td>\n",
       "      <td>china</td>\n",
       "      <td>China</td>\n",
       "      <td>CHN</td>\n",
       "    </tr>\n",
       "    <tr>\n",
       "      <th>1</th>\n",
       "      <td>United States</td>\n",
       "      <td>$19.14B</td>\n",
       "      <td>2017</td>\n",
       "      <td>united states</td>\n",
       "      <td>United States</td>\n",
       "      <td>USA</td>\n",
       "    </tr>\n",
       "    <tr>\n",
       "      <th>2</th>\n",
       "      <td>United Arab Emirates</td>\n",
       "      <td>$16.68B</td>\n",
       "      <td>2017</td>\n",
       "      <td>united arab emirates</td>\n",
       "      <td>United Arab Emirates</td>\n",
       "      <td>ARE</td>\n",
       "    </tr>\n",
       "    <tr>\n",
       "      <th>3</th>\n",
       "      <td>Saudi Arabia</td>\n",
       "      <td>$15.44B</td>\n",
       "      <td>2017</td>\n",
       "      <td>saudi arabia</td>\n",
       "      <td>Saudi Arabia</td>\n",
       "      <td>SAU</td>\n",
       "    </tr>\n",
       "    <tr>\n",
       "      <th>4</th>\n",
       "      <td>Switzerland</td>\n",
       "      <td>$14.93B</td>\n",
       "      <td>2017</td>\n",
       "      <td>switzerland</td>\n",
       "      <td>Switzerland</td>\n",
       "      <td>CHE</td>\n",
       "    </tr>\n",
       "  </tbody>\n",
       "</table>\n",
       "</div>"
      ],
      "text/plain": [
       "              Country_x    Value  Year               country  \\\n",
       "0                 China  $55.89B  2017                 china   \n",
       "1         United States  $19.14B  2017         united states   \n",
       "2  United Arab Emirates  $16.68B  2017  united arab emirates   \n",
       "3          Saudi Arabia  $15.44B  2017          saudi arabia   \n",
       "4           Switzerland  $14.93B  2017           switzerland   \n",
       "\n",
       "              Country_y Code  \n",
       "0                 China  CHN  \n",
       "1         United States  USA  \n",
       "2  United Arab Emirates  ARE  \n",
       "3          Saudi Arabia  SAU  \n",
       "4           Switzerland  CHE  "
      ]
     },
     "execution_count": 14,
     "metadata": {},
     "output_type": "execute_result"
    }
   ],
   "source": [
    "# take inner join of df and codes_df\n",
    "import_df = pd.merge(df, codes_df, how='inner', on='country')\n",
    "import_df.head()"
   ]
  },
  {
   "cell_type": "code",
   "execution_count": 15,
   "metadata": {
    "collapsed": false
   },
   "outputs": [],
   "source": [
    "import_df.drop(['country','Country_y'], axis=1, inplace=True)"
   ]
  },
  {
   "cell_type": "code",
   "execution_count": 16,
   "metadata": {
    "collapsed": false
   },
   "outputs": [
    {
     "data": {
      "text/html": [
       "<div>\n",
       "<style scoped>\n",
       "    .dataframe tbody tr th:only-of-type {\n",
       "        vertical-align: middle;\n",
       "    }\n",
       "\n",
       "    .dataframe tbody tr th {\n",
       "        vertical-align: top;\n",
       "    }\n",
       "\n",
       "    .dataframe thead th {\n",
       "        text-align: right;\n",
       "    }\n",
       "</style>\n",
       "<table border=\"1\" class=\"dataframe\">\n",
       "  <thead>\n",
       "    <tr style=\"text-align: right;\">\n",
       "      <th></th>\n",
       "      <th>Country_x</th>\n",
       "      <th>Value</th>\n",
       "      <th>Year</th>\n",
       "      <th>Code</th>\n",
       "    </tr>\n",
       "  </thead>\n",
       "  <tbody>\n",
       "    <tr>\n",
       "      <th>0</th>\n",
       "      <td>China</td>\n",
       "      <td>$55.89B</td>\n",
       "      <td>2017</td>\n",
       "      <td>CHN</td>\n",
       "    </tr>\n",
       "    <tr>\n",
       "      <th>1</th>\n",
       "      <td>United States</td>\n",
       "      <td>$19.14B</td>\n",
       "      <td>2017</td>\n",
       "      <td>USA</td>\n",
       "    </tr>\n",
       "    <tr>\n",
       "      <th>2</th>\n",
       "      <td>United Arab Emirates</td>\n",
       "      <td>$16.68B</td>\n",
       "      <td>2017</td>\n",
       "      <td>ARE</td>\n",
       "    </tr>\n",
       "    <tr>\n",
       "      <th>3</th>\n",
       "      <td>Saudi Arabia</td>\n",
       "      <td>$15.44B</td>\n",
       "      <td>2017</td>\n",
       "      <td>SAU</td>\n",
       "    </tr>\n",
       "    <tr>\n",
       "      <th>4</th>\n",
       "      <td>Switzerland</td>\n",
       "      <td>$14.93B</td>\n",
       "      <td>2017</td>\n",
       "      <td>CHE</td>\n",
       "    </tr>\n",
       "  </tbody>\n",
       "</table>\n",
       "</div>"
      ],
      "text/plain": [
       "              Country_x    Value  Year Code\n",
       "0                 China  $55.89B  2017  CHN\n",
       "1         United States  $19.14B  2017  USA\n",
       "2  United Arab Emirates  $16.68B  2017  ARE\n",
       "3          Saudi Arabia  $15.44B  2017  SAU\n",
       "4           Switzerland  $14.93B  2017  CHE"
      ]
     },
     "execution_count": 16,
     "metadata": {},
     "output_type": "execute_result"
    }
   ],
   "source": [
    "import_df.head()"
   ]
  },
  {
   "cell_type": "code",
   "execution_count": 17,
   "metadata": {
    "collapsed": false
   },
   "outputs": [
    {
     "data": {
      "text/html": [
       "<div>\n",
       "<style scoped>\n",
       "    .dataframe tbody tr th:only-of-type {\n",
       "        vertical-align: middle;\n",
       "    }\n",
       "\n",
       "    .dataframe tbody tr th {\n",
       "        vertical-align: top;\n",
       "    }\n",
       "\n",
       "    .dataframe thead th {\n",
       "        text-align: right;\n",
       "    }\n",
       "</style>\n",
       "<table border=\"1\" class=\"dataframe\">\n",
       "  <thead>\n",
       "    <tr style=\"text-align: right;\">\n",
       "      <th></th>\n",
       "      <th>country</th>\n",
       "      <th>import</th>\n",
       "      <th>year</th>\n",
       "      <th>code</th>\n",
       "    </tr>\n",
       "  </thead>\n",
       "  <tbody>\n",
       "    <tr>\n",
       "      <th>0</th>\n",
       "      <td>China</td>\n",
       "      <td>$55.89B</td>\n",
       "      <td>2017</td>\n",
       "      <td>CHN</td>\n",
       "    </tr>\n",
       "    <tr>\n",
       "      <th>1</th>\n",
       "      <td>United States</td>\n",
       "      <td>$19.14B</td>\n",
       "      <td>2017</td>\n",
       "      <td>USA</td>\n",
       "    </tr>\n",
       "    <tr>\n",
       "      <th>2</th>\n",
       "      <td>United Arab Emirates</td>\n",
       "      <td>$16.68B</td>\n",
       "      <td>2017</td>\n",
       "      <td>ARE</td>\n",
       "    </tr>\n",
       "    <tr>\n",
       "      <th>3</th>\n",
       "      <td>Saudi Arabia</td>\n",
       "      <td>$15.44B</td>\n",
       "      <td>2017</td>\n",
       "      <td>SAU</td>\n",
       "    </tr>\n",
       "    <tr>\n",
       "      <th>4</th>\n",
       "      <td>Switzerland</td>\n",
       "      <td>$14.93B</td>\n",
       "      <td>2017</td>\n",
       "      <td>CHE</td>\n",
       "    </tr>\n",
       "  </tbody>\n",
       "</table>\n",
       "</div>"
      ],
      "text/plain": [
       "                country   import  year code\n",
       "0                 China  $55.89B  2017  CHN\n",
       "1         United States  $19.14B  2017  USA\n",
       "2  United Arab Emirates  $16.68B  2017  ARE\n",
       "3          Saudi Arabia  $15.44B  2017  SAU\n",
       "4           Switzerland  $14.93B  2017  CHE"
      ]
     },
     "execution_count": 17,
     "metadata": {},
     "output_type": "execute_result"
    }
   ],
   "source": [
    "import_df.columns = ['country','import','year','code']\n",
    "import_df.head()"
   ]
  },
  {
   "cell_type": "code",
   "execution_count": 18,
   "metadata": {
    "collapsed": false
   },
   "outputs": [
    {
     "data": {
      "text/plain": [
       "array(['B', 'M', 'K', '9'], dtype=object)"
      ]
     },
     "execution_count": 18,
     "metadata": {},
     "output_type": "execute_result"
    }
   ],
   "source": [
    "import_df['import'].apply(lambda x: str(x)[-1]).unique()"
   ]
  },
  {
   "cell_type": "code",
   "execution_count": 19,
   "metadata": {
    "collapsed": false
   },
   "outputs": [],
   "source": [
    "def clean_import(x):\n",
    "    x = str(x)[1:]\n",
    "    if x[-1] == 'B':\n",
    "        return float(x[:-1])\n",
    "    elif x[-1] == 'M':\n",
    "        return float(x[:-1])/1000\n",
    "    elif x[-1] == 'K':\n",
    "        return float(x[:-1])/1000000\n",
    "    else:\n",
    "        return float(x)"
   ]
  },
  {
   "cell_type": "code",
   "execution_count": 20,
   "metadata": {
    "collapsed": false
   },
   "outputs": [],
   "source": [
    "import_df['import'] = import_df['import'].apply(clean_import)"
   ]
  },
  {
   "cell_type": "code",
   "execution_count": 21,
   "metadata": {
    "collapsed": false
   },
   "outputs": [
    {
     "data": {
      "text/html": [
       "<div>\n",
       "<style scoped>\n",
       "    .dataframe tbody tr th:only-of-type {\n",
       "        vertical-align: middle;\n",
       "    }\n",
       "\n",
       "    .dataframe tbody tr th {\n",
       "        vertical-align: top;\n",
       "    }\n",
       "\n",
       "    .dataframe thead th {\n",
       "        text-align: right;\n",
       "    }\n",
       "</style>\n",
       "<table border=\"1\" class=\"dataframe\">\n",
       "  <thead>\n",
       "    <tr style=\"text-align: right;\">\n",
       "      <th></th>\n",
       "      <th>country</th>\n",
       "      <th>import</th>\n",
       "      <th>year</th>\n",
       "      <th>code</th>\n",
       "    </tr>\n",
       "  </thead>\n",
       "  <tbody>\n",
       "    <tr>\n",
       "      <th>0</th>\n",
       "      <td>China</td>\n",
       "      <td>55.89</td>\n",
       "      <td>2017</td>\n",
       "      <td>CHN</td>\n",
       "    </tr>\n",
       "    <tr>\n",
       "      <th>1</th>\n",
       "      <td>United States</td>\n",
       "      <td>19.14</td>\n",
       "      <td>2017</td>\n",
       "      <td>USA</td>\n",
       "    </tr>\n",
       "    <tr>\n",
       "      <th>2</th>\n",
       "      <td>United Arab Emirates</td>\n",
       "      <td>16.68</td>\n",
       "      <td>2017</td>\n",
       "      <td>ARE</td>\n",
       "    </tr>\n",
       "    <tr>\n",
       "      <th>3</th>\n",
       "      <td>Saudi Arabia</td>\n",
       "      <td>15.44</td>\n",
       "      <td>2017</td>\n",
       "      <td>SAU</td>\n",
       "    </tr>\n",
       "    <tr>\n",
       "      <th>4</th>\n",
       "      <td>Switzerland</td>\n",
       "      <td>14.93</td>\n",
       "      <td>2017</td>\n",
       "      <td>CHE</td>\n",
       "    </tr>\n",
       "  </tbody>\n",
       "</table>\n",
       "</div>"
      ],
      "text/plain": [
       "                country  import  year code\n",
       "0                 China   55.89  2017  CHN\n",
       "1         United States   19.14  2017  USA\n",
       "2  United Arab Emirates   16.68  2017  ARE\n",
       "3          Saudi Arabia   15.44  2017  SAU\n",
       "4           Switzerland   14.93  2017  CHE"
      ]
     },
     "execution_count": 21,
     "metadata": {},
     "output_type": "execute_result"
    }
   ],
   "source": [
    "import_df.head()"
   ]
  },
  {
   "cell_type": "code",
   "execution_count": 23,
   "metadata": {
    "collapsed": false
   },
   "outputs": [
    {
     "data": {
      "text/plain": [
       "362.80026476"
      ]
     },
     "execution_count": 23,
     "metadata": {},
     "output_type": "execute_result"
    }
   ],
   "source": [
    "# Total import by India in 2017\n",
    "import_df['import'].sum()"
   ]
  },
  {
   "cell_type": "code",
   "execution_count": 22,
   "metadata": {
    "collapsed": true
   },
   "outputs": [],
   "source": [
    "import_df.to_csv('import_cleaned.csv',index=False)"
   ]
  },
  {
   "cell_type": "code",
   "execution_count": null,
   "metadata": {
    "collapsed": true
   },
   "outputs": [],
   "source": []
  },
  {
   "cell_type": "code",
   "execution_count": null,
   "metadata": {
    "collapsed": true
   },
   "outputs": [],
   "source": []
  },
  {
   "cell_type": "code",
   "execution_count": 80,
   "metadata": {
    "collapsed": true
   },
   "outputs": [],
   "source": [
    "import plotly\n",
    "import plotly.graph_objs as go\n",
    "from plotly import tools"
   ]
  },
  {
   "cell_type": "code",
   "execution_count": 81,
   "metadata": {
    "collapsed": false
   },
   "outputs": [
    {
     "data": {
      "text/html": [
       "<script>requirejs.config({paths: { 'plotly': ['https://cdn.plot.ly/plotly-latest.min']},});if(!window.Plotly) {{require(['plotly'],function(plotly) {window.Plotly=plotly;});}}</script>"
      ],
      "text/vnd.plotly.v1+html": [
       "<script>requirejs.config({paths: { 'plotly': ['https://cdn.plot.ly/plotly-latest.min']},});if(!window.Plotly) {{require(['plotly'],function(plotly) {window.Plotly=plotly;});}}</script>"
      ]
     },
     "metadata": {},
     "output_type": "display_data"
    }
   ],
   "source": [
    "plotly.offline.init_notebook_mode(connected=True)"
   ]
  },
  {
   "cell_type": "code",
   "execution_count": 112,
   "metadata": {
    "collapsed": false
   },
   "outputs": [
    {
     "data": {
      "application/vnd.plotly.v1+json": {
       "data": [
        {
         "colorbar": {
          "tickprefix": "$",
          "title": "Import<br>Billions US$"
         },
         "locations": [
          "CHN",
          "USA",
          "ARE",
          "SAU",
          "CHE",
          "IDN",
          "IRQ",
          "AUS",
          "DEU",
          "HKG",
          "JPN",
          "IRN",
          "MYS",
          "NGA",
          "RUS",
          "QAT",
          "SGP",
          "ZAF",
          "THA",
          "KWT",
          "FRA",
          "BEL",
          "VEN",
          "BRA",
          "CAN",
          "GBR",
          "ITA",
          "VNM",
          "AGO",
          "OMN",
          "MEX",
          "ARG",
          "GHA",
          "NLD",
          "UKR",
          "PER",
          "ISR",
          "CHL",
          "BWA",
          "ESP",
          "SWE",
          "EGY",
          "FIN",
          "DZA",
          "TUR",
          "KAZ",
          "ZMB",
          "MOZ",
          "TZA",
          "JOR",
          "AUT",
          "NOR",
          "MAR",
          "PHL",
          "LKA",
          "GNQ",
          "POL",
          "IRL",
          "BFA",
          "NZL",
          "BOL",
          "CZE",
          "SEN",
          "DOM",
          "BGD",
          "COL",
          "GIN",
          "DNK",
          "PAK",
          "AZE",
          "BRN",
          "SDN",
          "AFG",
          "NPL",
          "BHR",
          "ROU",
          "GAB",
          "BTN",
          "CMR",
          "HUN",
          "BEN",
          "ECU",
          "LAO",
          "PRT",
          "LTU",
          "PNG",
          "TGO",
          "PRY",
          "BLR",
          "BGR",
          "MLI",
          "TUN",
          "MDG",
          "UZB",
          "SVN",
          "YEM",
          "SUR",
          "SSD",
          "SVK",
          "GRC",
          "LSO",
          "CRI",
          "TCD",
          "KEN",
          "SLB",
          "ZWE",
          "EST",
          "LVA",
          "UGA",
          "NAM",
          "TTO",
          "TJK",
          "KHM",
          "PAN",
          "LUX",
          "LBR",
          "ALB",
          "ETH",
          "KGZ",
          "LBN",
          "MKD",
          "LBY",
          "HRV",
          "GEO",
          "COM",
          "SYR",
          "URY",
          "NER",
          "SRB",
          "SLE",
          "MWI",
          "MUS",
          "TKM",
          "MLT",
          "GTM",
          "HND",
          "BDI",
          "CYP",
          "NCL",
          "SLV",
          "SWZ",
          "BIH",
          "MAC",
          "CUW",
          "HTI",
          "CYM",
          "ISL",
          "GUY",
          "MDV",
          "NIC",
          "JAM",
          "DJI",
          "RWA",
          "SOM",
          "MRT",
          "CAF",
          "ERI",
          "CUB",
          "MNG",
          "BLZ",
          "MDA",
          "PLW",
          "SYC",
          "SMR",
          "VGB",
          "ARM",
          "ABW",
          "FJI",
          "LCA",
          "WSM",
          "DMA",
          "GRD",
          "MNP",
          "AIA",
          "MHL",
          "BRB",
          "PYF",
          "ATG",
          "GRL",
          "MNE",
          "COK",
          "GIB",
          "TUV",
          "VUT"
         ],
         "text": [
          "China",
          "United States",
          "United Arab Emirates",
          "Saudi Arabia",
          "Switzerland",
          "Indonesia",
          "Iraq",
          "Australia",
          "Germany",
          "Hong Kong",
          "Japan",
          "Iran",
          "Malaysia",
          "Nigeria",
          "Russia",
          "Qatar",
          "Singapore",
          "South Africa",
          "Thailand",
          "Kuwait",
          "France",
          "Belgium",
          "Venezuela",
          "Brazil",
          "Canada",
          "United Kingdom",
          "Italy",
          "Vietnam",
          "Angola",
          "Oman",
          "Mexico",
          "Argentina",
          "Ghana",
          "Netherlands",
          "Ukraine",
          "Peru",
          "Israel",
          "Chile",
          "Botswana",
          "Spain",
          "Sweden",
          "Egypt",
          "Finland",
          "Algeria",
          "Turkey",
          "Kazakhstan",
          "Zambia",
          "Mozambique",
          "Tanzania",
          "Jordan",
          "Austria",
          "Norway",
          "Morocco",
          "Philippines",
          "Sri Lanka",
          "Equatorial Guinea",
          "Poland",
          "Ireland",
          "Burkina Faso",
          "New Zealand",
          "Bolivia",
          "Czech Republic",
          "Senegal",
          "Dominican Republic",
          "Bangladesh",
          "Colombia",
          "Guinea",
          "Denmark",
          "Pakistan",
          "Azerbaijan",
          "Brunei",
          "Sudan",
          "Afghanistan",
          "Nepal",
          "Bahrain",
          "Romania",
          "Gabon",
          "Bhutan",
          "Cameroon",
          "Hungary",
          "Benin",
          "Ecuador",
          "Laos",
          "Portugal",
          "Lithuania",
          "Papua New Guinea",
          "Togo",
          "Paraguay",
          "Belarus",
          "Bulgaria",
          "Mali",
          "Tunisia",
          "Madagascar",
          "Uzbekistan",
          "Slovenia",
          "Yemen",
          "Suriname",
          "South Sudan",
          "Slovakia",
          "Greece",
          "Lesotho",
          "Costa Rica",
          "Chad",
          "Kenya",
          "Solomon Islands",
          "Zimbabwe",
          "Estonia",
          "Latvia",
          "Uganda",
          "Namibia",
          "Trinidad And Tobago",
          "Tajikistan",
          "Cambodia",
          "Panama",
          "Luxembourg",
          "Liberia",
          "Albania",
          "Ethiopia",
          "Kyrgyzstan",
          "Lebanon",
          "Macedonia",
          "Libya",
          "Croatia",
          "Georgia",
          "Comoros",
          "Syria",
          "Uruguay",
          "Niger",
          "Serbia",
          "Sierra Leone",
          "Malawi",
          "Mauritius",
          "Turkmenistan",
          "Malta",
          "Guatemala",
          "Honduras",
          "Burundi",
          "Cyprus",
          "New Caledonia",
          "El Salvador",
          "Swaziland",
          "Bosnia And Herzegovina",
          "Macau",
          "Curacao",
          "Haiti",
          "Cayman Islands",
          "Iceland",
          "Guyana",
          "Maldives",
          "Nicaragua",
          "Jamaica",
          "Djibouti",
          "Rwanda",
          "Somalia",
          "Mauritania",
          "Central African Republic",
          "Eritrea",
          "Cuba",
          "Mongolia",
          "Belize",
          "Moldova",
          "Palau",
          "Seychelles",
          "San Marino",
          "British Virgin Islands",
          "Armenia",
          "Aruba",
          "Fiji",
          "Saint Lucia",
          "Samoa",
          "Dominica",
          "Grenada",
          "Northern Mariana Islands",
          "Anguilla",
          "Marshall Islands",
          "Barbados",
          "French Polynesia",
          "Antigua and Barbuda",
          "Greenland",
          "Montenegro",
          "Cook Islands",
          "Gibraltar",
          "Tuvalu",
          "Vanuatu"
         ],
         "type": "choropleth",
         "z": [
          55.89,
          19.14,
          16.68,
          15.44,
          14.93,
          12.21,
          11.51,
          10.08,
          9.8,
          8.24,
          7.99,
          7.66,
          6.57,
          6.33,
          6.13,
          5.94,
          5.26,
          5.09,
          5.06,
          4.72,
          4.71,
          4.57,
          4.29,
          3.94,
          3.53,
          3.43,
          3.4,
          3.29,
          3.07,
          2.76,
          2.64,
          1.89,
          1.89,
          1.79,
          1.76,
          1.75,
          1.5,
          1.38,
          1.28,
          1.25,
          1.11,
          0.9586399999999999,
          0.95725,
          0.9317799999999999,
          0.8588899999999999,
          0.78001,
          0.77147,
          0.7601,
          0.7001000000000001,
          0.6900499999999999,
          0.66911,
          0.6381,
          0.6049500000000001,
          0.57916,
          0.57035,
          0.56686,
          0.55377,
          0.54139,
          0.53106,
          0.49782,
          0.49736,
          0.49226,
          0.48816000000000004,
          0.46793,
          0.45941000000000004,
          0.43751999999999996,
          0.4155,
          0.40108,
          0.38397000000000003,
          0.35643,
          0.35149,
          0.33925,
          0.33056,
          0.31125,
          0.30569999999999997,
          0.3018,
          0.24722,
          0.24169,
          0.20628,
          0.19699,
          0.19326,
          0.16527,
          0.15102000000000002,
          0.14686000000000002,
          0.13696,
          0.13306,
          0.13201,
          0.12897999999999998,
          0.12262,
          0.11109999999999999,
          0.10643000000000001,
          0.09974,
          0.09348999999999999,
          0.09017,
          0.08081,
          0.07820999999999999,
          0.06985,
          0.06704,
          0.06576,
          0.06519,
          0.062340000000000007,
          0.05866,
          0.05643,
          0.05319,
          0.04985,
          0.04949,
          0.0444,
          0.04307,
          0.04254,
          0.04244,
          0.04102,
          0.038799999999999994,
          0.038200000000000005,
          0.0373,
          0.03651,
          0.03372,
          0.03286,
          0.03134,
          0.03053,
          0.02816,
          0.027100000000000003,
          0.024579999999999998,
          0.024550000000000002,
          0.02336,
          0.02144,
          0.02133,
          0.020149999999999998,
          0.019579999999999997,
          0.019059999999999997,
          0.01864,
          0.01445,
          0.01436,
          0.013099999999999999,
          0.01289,
          0.01134,
          0.01109,
          0.01057,
          0.009720000000000001,
          0.009519999999999999,
          0.00744,
          0.00698,
          0.00691,
          0.00638,
          0.00574,
          0.00553,
          0.00523,
          0.00497,
          0.00477,
          0.00425,
          0.00349,
          0.00348,
          0.0034300000000000003,
          0.00332,
          0.0028599999999999997,
          0.00273,
          0.0022299999999999998,
          0.0019399999999999999,
          0.00163,
          0.00151,
          0.00116,
          0.0010500000000000002,
          0.00075981,
          0.0006902400000000001,
          0.00053788,
          0.00050738,
          0.00044207,
          0.00031208,
          0.00028719,
          0.00026488,
          0.00023849,
          0.00019277,
          0.00018108000000000002,
          0.00017218,
          0.00013276,
          0.00010865999999999999,
          7.681e-05,
          5.224e-05,
          2.352e-05,
          1.066e-05,
          9.9e-06,
          7.37e-06,
          5.6e-06,
          1.19e-06,
          49
         ]
        }
       ],
       "layout": {
        "geo": {
         "projection": {
          "type": "Mercator"
         },
         "showframe": false
        },
        "title": "Import by India from Countries around the World in USD Billions"
       }
      },
      "text/html": [
       "<div id=\"9d22d593-038f-45ee-8f82-4cbe5b8ef173\" style=\"height: 525px; width: 100%;\" class=\"plotly-graph-div\"></div><script type=\"text/javascript\">require([\"plotly\"], function(Plotly) { window.PLOTLYENV=window.PLOTLYENV || {};window.PLOTLYENV.BASE_URL=\"https://plot.ly\";Plotly.newPlot(\"9d22d593-038f-45ee-8f82-4cbe5b8ef173\", [{\"type\": \"choropleth\", \"locations\": [\"CHN\", \"USA\", \"ARE\", \"SAU\", \"CHE\", \"IDN\", \"IRQ\", \"AUS\", \"DEU\", \"HKG\", \"JPN\", \"IRN\", \"MYS\", \"NGA\", \"RUS\", \"QAT\", \"SGP\", \"ZAF\", \"THA\", \"KWT\", \"FRA\", \"BEL\", \"VEN\", \"BRA\", \"CAN\", \"GBR\", \"ITA\", \"VNM\", \"AGO\", \"OMN\", \"MEX\", \"ARG\", \"GHA\", \"NLD\", \"UKR\", \"PER\", \"ISR\", \"CHL\", \"BWA\", \"ESP\", \"SWE\", \"EGY\", \"FIN\", \"DZA\", \"TUR\", \"KAZ\", \"ZMB\", \"MOZ\", \"TZA\", \"JOR\", \"AUT\", \"NOR\", \"MAR\", \"PHL\", \"LKA\", \"GNQ\", \"POL\", \"IRL\", \"BFA\", \"NZL\", \"BOL\", \"CZE\", \"SEN\", \"DOM\", \"BGD\", \"COL\", \"GIN\", \"DNK\", \"PAK\", \"AZE\", \"BRN\", \"SDN\", \"AFG\", \"NPL\", \"BHR\", \"ROU\", \"GAB\", \"BTN\", \"CMR\", \"HUN\", \"BEN\", \"ECU\", \"LAO\", \"PRT\", \"LTU\", \"PNG\", \"TGO\", \"PRY\", \"BLR\", \"BGR\", \"MLI\", \"TUN\", \"MDG\", \"UZB\", \"SVN\", \"YEM\", \"SUR\", \"SSD\", \"SVK\", \"GRC\", \"LSO\", \"CRI\", \"TCD\", \"KEN\", \"SLB\", \"ZWE\", \"EST\", \"LVA\", \"UGA\", \"NAM\", \"TTO\", \"TJK\", \"KHM\", \"PAN\", \"LUX\", \"LBR\", \"ALB\", \"ETH\", \"KGZ\", \"LBN\", \"MKD\", \"LBY\", \"HRV\", \"GEO\", \"COM\", \"SYR\", \"URY\", \"NER\", \"SRB\", \"SLE\", \"MWI\", \"MUS\", \"TKM\", \"MLT\", \"GTM\", \"HND\", \"BDI\", \"CYP\", \"NCL\", \"SLV\", \"SWZ\", \"BIH\", \"MAC\", \"CUW\", \"HTI\", \"CYM\", \"ISL\", \"GUY\", \"MDV\", \"NIC\", \"JAM\", \"DJI\", \"RWA\", \"SOM\", \"MRT\", \"CAF\", \"ERI\", \"CUB\", \"MNG\", \"BLZ\", \"MDA\", \"PLW\", \"SYC\", \"SMR\", \"VGB\", \"ARM\", \"ABW\", \"FJI\", \"LCA\", \"WSM\", \"DMA\", \"GRD\", \"MNP\", \"AIA\", \"MHL\", \"BRB\", \"PYF\", \"ATG\", \"GRL\", \"MNE\", \"COK\", \"GIB\", \"TUV\", \"VUT\"], \"z\": [55.89, 19.14, 16.68, 15.44, 14.93, 12.21, 11.51, 10.08, 9.8, 8.24, 7.99, 7.66, 6.57, 6.33, 6.13, 5.94, 5.26, 5.09, 5.06, 4.72, 4.71, 4.57, 4.29, 3.94, 3.53, 3.43, 3.4, 3.29, 3.07, 2.76, 2.64, 1.89, 1.89, 1.79, 1.76, 1.75, 1.5, 1.38, 1.28, 1.25, 1.11, 0.9586399999999999, 0.95725, 0.9317799999999999, 0.8588899999999999, 0.78001, 0.77147, 0.7601, 0.7001000000000001, 0.6900499999999999, 0.66911, 0.6381, 0.6049500000000001, 0.57916, 0.57035, 0.56686, 0.55377, 0.54139, 0.53106, 0.49782, 0.49736, 0.49226, 0.48816000000000004, 0.46793, 0.45941000000000004, 0.43751999999999996, 0.4155, 0.40108, 0.38397000000000003, 0.35643, 0.35149, 0.33925, 0.33056, 0.31125, 0.30569999999999997, 0.3018, 0.24722, 0.24169, 0.20628, 0.19699, 0.19326, 0.16527, 0.15102000000000002, 0.14686000000000002, 0.13696, 0.13306, 0.13201, 0.12897999999999998, 0.12262, 0.11109999999999999, 0.10643000000000001, 0.09974, 0.09348999999999999, 0.09017, 0.08081, 0.07820999999999999, 0.06985, 0.06704, 0.06576, 0.06519, 0.062340000000000007, 0.05866, 0.05643, 0.05319, 0.04985, 0.04949, 0.0444, 0.04307, 0.04254, 0.04244, 0.04102, 0.038799999999999994, 0.038200000000000005, 0.0373, 0.03651, 0.03372, 0.03286, 0.03134, 0.03053, 0.02816, 0.027100000000000003, 0.024579999999999998, 0.024550000000000002, 0.02336, 0.02144, 0.02133, 0.020149999999999998, 0.019579999999999997, 0.019059999999999997, 0.01864, 0.01445, 0.01436, 0.013099999999999999, 0.01289, 0.01134, 0.01109, 0.01057, 0.009720000000000001, 0.009519999999999999, 0.00744, 0.00698, 0.00691, 0.00638, 0.00574, 0.00553, 0.00523, 0.00497, 0.00477, 0.00425, 0.00349, 0.00348, 0.0034300000000000003, 0.00332, 0.0028599999999999997, 0.00273, 0.0022299999999999998, 0.0019399999999999999, 0.00163, 0.00151, 0.00116, 0.0010500000000000002, 0.00075981, 0.0006902400000000001, 0.00053788, 0.00050738, 0.00044207, 0.00031208, 0.00028719, 0.00026488, 0.00023849, 0.00019277, 0.00018108000000000002, 0.00017218, 0.00013276, 0.00010865999999999999, 7.681e-05, 5.224e-05, 2.352e-05, 1.066e-05, 9.9e-06, 7.37e-06, 5.6e-06, 1.19e-06, 49.0], \"text\": [\"China\", \"United States\", \"United Arab Emirates\", \"Saudi Arabia\", \"Switzerland\", \"Indonesia\", \"Iraq\", \"Australia\", \"Germany\", \"Hong Kong\", \"Japan\", \"Iran\", \"Malaysia\", \"Nigeria\", \"Russia\", \"Qatar\", \"Singapore\", \"South Africa\", \"Thailand\", \"Kuwait\", \"France\", \"Belgium\", \"Venezuela\", \"Brazil\", \"Canada\", \"United Kingdom\", \"Italy\", \"Vietnam\", \"Angola\", \"Oman\", \"Mexico\", \"Argentina\", \"Ghana\", \"Netherlands\", \"Ukraine\", \"Peru\", \"Israel\", \"Chile\", \"Botswana\", \"Spain\", \"Sweden\", \"Egypt\", \"Finland\", \"Algeria\", \"Turkey\", \"Kazakhstan\", \"Zambia\", \"Mozambique\", \"Tanzania\", \"Jordan\", \"Austria\", \"Norway\", \"Morocco\", \"Philippines\", \"Sri Lanka\", \"Equatorial Guinea\", \"Poland\", \"Ireland\", \"Burkina Faso\", \"New Zealand\", \"Bolivia\", \"Czech Republic\", \"Senegal\", \"Dominican Republic\", \"Bangladesh\", \"Colombia\", \"Guinea\", \"Denmark\", \"Pakistan\", \"Azerbaijan\", \"Brunei\", \"Sudan\", \"Afghanistan\", \"Nepal\", \"Bahrain\", \"Romania\", \"Gabon\", \"Bhutan\", \"Cameroon\", \"Hungary\", \"Benin\", \"Ecuador\", \"Laos\", \"Portugal\", \"Lithuania\", \"Papua New Guinea\", \"Togo\", \"Paraguay\", \"Belarus\", \"Bulgaria\", \"Mali\", \"Tunisia\", \"Madagascar\", \"Uzbekistan\", \"Slovenia\", \"Yemen\", \"Suriname\", \"South Sudan\", \"Slovakia\", \"Greece\", \"Lesotho\", \"Costa Rica\", \"Chad\", \"Kenya\", \"Solomon Islands\", \"Zimbabwe\", \"Estonia\", \"Latvia\", \"Uganda\", \"Namibia\", \"Trinidad And Tobago\", \"Tajikistan\", \"Cambodia\", \"Panama\", \"Luxembourg\", \"Liberia\", \"Albania\", \"Ethiopia\", \"Kyrgyzstan\", \"Lebanon\", \"Macedonia\", \"Libya\", \"Croatia\", \"Georgia\", \"Comoros\", \"Syria\", \"Uruguay\", \"Niger\", \"Serbia\", \"Sierra Leone\", \"Malawi\", \"Mauritius\", \"Turkmenistan\", \"Malta\", \"Guatemala\", \"Honduras\", \"Burundi\", \"Cyprus\", \"New Caledonia\", \"El Salvador\", \"Swaziland\", \"Bosnia And Herzegovina\", \"Macau\", \"Curacao\", \"Haiti\", \"Cayman Islands\", \"Iceland\", \"Guyana\", \"Maldives\", \"Nicaragua\", \"Jamaica\", \"Djibouti\", \"Rwanda\", \"Somalia\", \"Mauritania\", \"Central African Republic\", \"Eritrea\", \"Cuba\", \"Mongolia\", \"Belize\", \"Moldova\", \"Palau\", \"Seychelles\", \"San Marino\", \"British Virgin Islands\", \"Armenia\", \"Aruba\", \"Fiji\", \"Saint Lucia\", \"Samoa\", \"Dominica\", \"Grenada\", \"Northern Mariana Islands\", \"Anguilla\", \"Marshall Islands\", \"Barbados\", \"French Polynesia\", \"Antigua and Barbuda\", \"Greenland\", \"Montenegro\", \"Cook Islands\", \"Gibraltar\", \"Tuvalu\", \"Vanuatu\"], \"colorbar\": {\"tickprefix\": \"$\", \"title\": \"Import<br>Billions US$\"}}], {\"title\": \"Import by India from Countries around the World in USD Billions\", \"geo\": {\"showframe\": false, \"projection\": {\"type\": \"Mercator\"}}}, {\"showLink\": true, \"linkText\": \"Export to plot.ly\"})});</script>"
      ],
      "text/vnd.plotly.v1+html": [
       "<div id=\"9d22d593-038f-45ee-8f82-4cbe5b8ef173\" style=\"height: 525px; width: 100%;\" class=\"plotly-graph-div\"></div><script type=\"text/javascript\">require([\"plotly\"], function(Plotly) { window.PLOTLYENV=window.PLOTLYENV || {};window.PLOTLYENV.BASE_URL=\"https://plot.ly\";Plotly.newPlot(\"9d22d593-038f-45ee-8f82-4cbe5b8ef173\", [{\"type\": \"choropleth\", \"locations\": [\"CHN\", \"USA\", \"ARE\", \"SAU\", \"CHE\", \"IDN\", \"IRQ\", \"AUS\", \"DEU\", \"HKG\", \"JPN\", \"IRN\", \"MYS\", \"NGA\", \"RUS\", \"QAT\", \"SGP\", \"ZAF\", \"THA\", \"KWT\", \"FRA\", \"BEL\", \"VEN\", \"BRA\", \"CAN\", \"GBR\", \"ITA\", \"VNM\", \"AGO\", \"OMN\", \"MEX\", \"ARG\", \"GHA\", \"NLD\", \"UKR\", \"PER\", \"ISR\", \"CHL\", \"BWA\", \"ESP\", \"SWE\", \"EGY\", \"FIN\", \"DZA\", \"TUR\", \"KAZ\", \"ZMB\", \"MOZ\", \"TZA\", \"JOR\", \"AUT\", \"NOR\", \"MAR\", \"PHL\", \"LKA\", \"GNQ\", \"POL\", \"IRL\", \"BFA\", \"NZL\", \"BOL\", \"CZE\", \"SEN\", \"DOM\", \"BGD\", \"COL\", \"GIN\", \"DNK\", \"PAK\", \"AZE\", \"BRN\", \"SDN\", \"AFG\", \"NPL\", \"BHR\", \"ROU\", \"GAB\", \"BTN\", \"CMR\", \"HUN\", \"BEN\", \"ECU\", \"LAO\", \"PRT\", \"LTU\", \"PNG\", \"TGO\", \"PRY\", \"BLR\", \"BGR\", \"MLI\", \"TUN\", \"MDG\", \"UZB\", \"SVN\", \"YEM\", \"SUR\", \"SSD\", \"SVK\", \"GRC\", \"LSO\", \"CRI\", \"TCD\", \"KEN\", \"SLB\", \"ZWE\", \"EST\", \"LVA\", \"UGA\", \"NAM\", \"TTO\", \"TJK\", \"KHM\", \"PAN\", \"LUX\", \"LBR\", \"ALB\", \"ETH\", \"KGZ\", \"LBN\", \"MKD\", \"LBY\", \"HRV\", \"GEO\", \"COM\", \"SYR\", \"URY\", \"NER\", \"SRB\", \"SLE\", \"MWI\", \"MUS\", \"TKM\", \"MLT\", \"GTM\", \"HND\", \"BDI\", \"CYP\", \"NCL\", \"SLV\", \"SWZ\", \"BIH\", \"MAC\", \"CUW\", \"HTI\", \"CYM\", \"ISL\", \"GUY\", \"MDV\", \"NIC\", \"JAM\", \"DJI\", \"RWA\", \"SOM\", \"MRT\", \"CAF\", \"ERI\", \"CUB\", \"MNG\", \"BLZ\", \"MDA\", \"PLW\", \"SYC\", \"SMR\", \"VGB\", \"ARM\", \"ABW\", \"FJI\", \"LCA\", \"WSM\", \"DMA\", \"GRD\", \"MNP\", \"AIA\", \"MHL\", \"BRB\", \"PYF\", \"ATG\", \"GRL\", \"MNE\", \"COK\", \"GIB\", \"TUV\", \"VUT\"], \"z\": [55.89, 19.14, 16.68, 15.44, 14.93, 12.21, 11.51, 10.08, 9.8, 8.24, 7.99, 7.66, 6.57, 6.33, 6.13, 5.94, 5.26, 5.09, 5.06, 4.72, 4.71, 4.57, 4.29, 3.94, 3.53, 3.43, 3.4, 3.29, 3.07, 2.76, 2.64, 1.89, 1.89, 1.79, 1.76, 1.75, 1.5, 1.38, 1.28, 1.25, 1.11, 0.9586399999999999, 0.95725, 0.9317799999999999, 0.8588899999999999, 0.78001, 0.77147, 0.7601, 0.7001000000000001, 0.6900499999999999, 0.66911, 0.6381, 0.6049500000000001, 0.57916, 0.57035, 0.56686, 0.55377, 0.54139, 0.53106, 0.49782, 0.49736, 0.49226, 0.48816000000000004, 0.46793, 0.45941000000000004, 0.43751999999999996, 0.4155, 0.40108, 0.38397000000000003, 0.35643, 0.35149, 0.33925, 0.33056, 0.31125, 0.30569999999999997, 0.3018, 0.24722, 0.24169, 0.20628, 0.19699, 0.19326, 0.16527, 0.15102000000000002, 0.14686000000000002, 0.13696, 0.13306, 0.13201, 0.12897999999999998, 0.12262, 0.11109999999999999, 0.10643000000000001, 0.09974, 0.09348999999999999, 0.09017, 0.08081, 0.07820999999999999, 0.06985, 0.06704, 0.06576, 0.06519, 0.062340000000000007, 0.05866, 0.05643, 0.05319, 0.04985, 0.04949, 0.0444, 0.04307, 0.04254, 0.04244, 0.04102, 0.038799999999999994, 0.038200000000000005, 0.0373, 0.03651, 0.03372, 0.03286, 0.03134, 0.03053, 0.02816, 0.027100000000000003, 0.024579999999999998, 0.024550000000000002, 0.02336, 0.02144, 0.02133, 0.020149999999999998, 0.019579999999999997, 0.019059999999999997, 0.01864, 0.01445, 0.01436, 0.013099999999999999, 0.01289, 0.01134, 0.01109, 0.01057, 0.009720000000000001, 0.009519999999999999, 0.00744, 0.00698, 0.00691, 0.00638, 0.00574, 0.00553, 0.00523, 0.00497, 0.00477, 0.00425, 0.00349, 0.00348, 0.0034300000000000003, 0.00332, 0.0028599999999999997, 0.00273, 0.0022299999999999998, 0.0019399999999999999, 0.00163, 0.00151, 0.00116, 0.0010500000000000002, 0.00075981, 0.0006902400000000001, 0.00053788, 0.00050738, 0.00044207, 0.00031208, 0.00028719, 0.00026488, 0.00023849, 0.00019277, 0.00018108000000000002, 0.00017218, 0.00013276, 0.00010865999999999999, 7.681e-05, 5.224e-05, 2.352e-05, 1.066e-05, 9.9e-06, 7.37e-06, 5.6e-06, 1.19e-06, 49.0], \"text\": [\"China\", \"United States\", \"United Arab Emirates\", \"Saudi Arabia\", \"Switzerland\", \"Indonesia\", \"Iraq\", \"Australia\", \"Germany\", \"Hong Kong\", \"Japan\", \"Iran\", \"Malaysia\", \"Nigeria\", \"Russia\", \"Qatar\", \"Singapore\", \"South Africa\", \"Thailand\", \"Kuwait\", \"France\", \"Belgium\", \"Venezuela\", \"Brazil\", \"Canada\", \"United Kingdom\", \"Italy\", \"Vietnam\", \"Angola\", \"Oman\", \"Mexico\", \"Argentina\", \"Ghana\", \"Netherlands\", \"Ukraine\", \"Peru\", \"Israel\", \"Chile\", \"Botswana\", \"Spain\", \"Sweden\", \"Egypt\", \"Finland\", \"Algeria\", \"Turkey\", \"Kazakhstan\", \"Zambia\", \"Mozambique\", \"Tanzania\", \"Jordan\", \"Austria\", \"Norway\", \"Morocco\", \"Philippines\", \"Sri Lanka\", \"Equatorial Guinea\", \"Poland\", \"Ireland\", \"Burkina Faso\", \"New Zealand\", \"Bolivia\", \"Czech Republic\", \"Senegal\", \"Dominican Republic\", \"Bangladesh\", \"Colombia\", \"Guinea\", \"Denmark\", \"Pakistan\", \"Azerbaijan\", \"Brunei\", \"Sudan\", \"Afghanistan\", \"Nepal\", \"Bahrain\", \"Romania\", \"Gabon\", \"Bhutan\", \"Cameroon\", \"Hungary\", \"Benin\", \"Ecuador\", \"Laos\", \"Portugal\", \"Lithuania\", \"Papua New Guinea\", \"Togo\", \"Paraguay\", \"Belarus\", \"Bulgaria\", \"Mali\", \"Tunisia\", \"Madagascar\", \"Uzbekistan\", \"Slovenia\", \"Yemen\", \"Suriname\", \"South Sudan\", \"Slovakia\", \"Greece\", \"Lesotho\", \"Costa Rica\", \"Chad\", \"Kenya\", \"Solomon Islands\", \"Zimbabwe\", \"Estonia\", \"Latvia\", \"Uganda\", \"Namibia\", \"Trinidad And Tobago\", \"Tajikistan\", \"Cambodia\", \"Panama\", \"Luxembourg\", \"Liberia\", \"Albania\", \"Ethiopia\", \"Kyrgyzstan\", \"Lebanon\", \"Macedonia\", \"Libya\", \"Croatia\", \"Georgia\", \"Comoros\", \"Syria\", \"Uruguay\", \"Niger\", \"Serbia\", \"Sierra Leone\", \"Malawi\", \"Mauritius\", \"Turkmenistan\", \"Malta\", \"Guatemala\", \"Honduras\", \"Burundi\", \"Cyprus\", \"New Caledonia\", \"El Salvador\", \"Swaziland\", \"Bosnia And Herzegovina\", \"Macau\", \"Curacao\", \"Haiti\", \"Cayman Islands\", \"Iceland\", \"Guyana\", \"Maldives\", \"Nicaragua\", \"Jamaica\", \"Djibouti\", \"Rwanda\", \"Somalia\", \"Mauritania\", \"Central African Republic\", \"Eritrea\", \"Cuba\", \"Mongolia\", \"Belize\", \"Moldova\", \"Palau\", \"Seychelles\", \"San Marino\", \"British Virgin Islands\", \"Armenia\", \"Aruba\", \"Fiji\", \"Saint Lucia\", \"Samoa\", \"Dominica\", \"Grenada\", \"Northern Mariana Islands\", \"Anguilla\", \"Marshall Islands\", \"Barbados\", \"French Polynesia\", \"Antigua and Barbuda\", \"Greenland\", \"Montenegro\", \"Cook Islands\", \"Gibraltar\", \"Tuvalu\", \"Vanuatu\"], \"colorbar\": {\"tickprefix\": \"$\", \"title\": \"Import<br>Billions US$\"}}], {\"title\": \"Import by India from Countries around the World in USD Billions\", \"geo\": {\"showframe\": false, \"projection\": {\"type\": \"Mercator\"}}}, {\"showLink\": true, \"linkText\": \"Export to plot.ly\"})});</script>"
      ]
     },
     "metadata": {},
     "output_type": "display_data"
    }
   ],
   "source": [
    "data = [dict(\n",
    "    type = 'choropleth',\n",
    "    locations = import_df['code'],\n",
    "    z = import_df['import'],\n",
    "    text = import_df['country'],\n",
    "    #colorscale = 'RdBu',\n",
    "    #reversescale = True,\n",
    "    colorbar = dict(\n",
    "        tickprefix = '$',\n",
    "        title = 'Import<br>Billions US$',\n",
    "    )\n",
    ")]\n",
    "\n",
    "layout = dict(\n",
    "    title = 'Import by India from Countries around the World in USD Billions',\n",
    "    geo = dict(\n",
    "        showframe = False,\n",
    "        #showcoastlines = False,\n",
    "        projection = dict(\n",
    "            type = 'Mercator'\n",
    "        )\n",
    "    )\n",
    ")\n",
    "\n",
    "plotly.offline.iplot(dict(data = data, layout = layout), validate=False)"
   ]
  },
  {
   "cell_type": "code",
   "execution_count": 115,
   "metadata": {
    "collapsed": false
   },
   "outputs": [
    {
     "data": {
      "text/plain": [
       "'<div id=\"22c33b8b-cdc4-4a53-a3aa-e221daeb03b5\" style=\"height: 100%; width: 100%;\" class=\"plotly-graph-div\"></div><script type=\"text/javascript\">window.PLOTLYENV=window.PLOTLYENV || {};window.PLOTLYENV.BASE_URL=\"https://plot.ly\";Plotly.newPlot(\"22c33b8b-cdc4-4a53-a3aa-e221daeb03b5\", [{\"type\": \"choropleth\", \"locations\": [\"CHN\", \"USA\", \"ARE\", \"SAU\", \"CHE\", \"IDN\", \"IRQ\", \"AUS\", \"DEU\", \"HKG\", \"JPN\", \"IRN\", \"MYS\", \"NGA\", \"RUS\", \"QAT\", \"SGP\", \"ZAF\", \"THA\", \"KWT\", \"FRA\", \"BEL\", \"VEN\", \"BRA\", \"CAN\", \"GBR\", \"ITA\", \"VNM\", \"AGO\", \"OMN\", \"MEX\", \"ARG\", \"GHA\", \"NLD\", \"UKR\", \"PER\", \"ISR\", \"CHL\", \"BWA\", \"ESP\", \"SWE\", \"EGY\", \"FIN\", \"DZA\", \"TUR\", \"KAZ\", \"ZMB\", \"MOZ\", \"TZA\", \"JOR\", \"AUT\", \"NOR\", \"MAR\", \"PHL\", \"LKA\", \"GNQ\", \"POL\", \"IRL\", \"BFA\", \"NZL\", \"BOL\", \"CZE\", \"SEN\", \"DOM\", \"BGD\", \"COL\", \"GIN\", \"DNK\", \"PAK\", \"AZE\", \"BRN\", \"SDN\", \"AFG\", \"NPL\", \"BHR\", \"ROU\", \"GAB\", \"BTN\", \"CMR\", \"HUN\", \"BEN\", \"ECU\", \"LAO\", \"PRT\", \"LTU\", \"PNG\", \"TGO\", \"PRY\", \"BLR\", \"BGR\", \"MLI\", \"TUN\", \"MDG\", \"UZB\", \"SVN\", \"YEM\", \"SUR\", \"SSD\", \"SVK\", \"GRC\", \"LSO\", \"CRI\", \"TCD\", \"KEN\", \"SLB\", \"ZWE\", \"EST\", \"LVA\", \"UGA\", \"NAM\", \"TTO\", \"TJK\", \"KHM\", \"PAN\", \"LUX\", \"LBR\", \"ALB\", \"ETH\", \"KGZ\", \"LBN\", \"MKD\", \"LBY\", \"HRV\", \"GEO\", \"COM\", \"SYR\", \"URY\", \"NER\", \"SRB\", \"SLE\", \"MWI\", \"MUS\", \"TKM\", \"MLT\", \"GTM\", \"HND\", \"BDI\", \"CYP\", \"NCL\", \"SLV\", \"SWZ\", \"BIH\", \"MAC\", \"CUW\", \"HTI\", \"CYM\", \"ISL\", \"GUY\", \"MDV\", \"NIC\", \"JAM\", \"DJI\", \"RWA\", \"SOM\", \"MRT\", \"CAF\", \"ERI\", \"CUB\", \"MNG\", \"BLZ\", \"MDA\", \"PLW\", \"SYC\", \"SMR\", \"VGB\", \"ARM\", \"ABW\", \"FJI\", \"LCA\", \"WSM\", \"DMA\", \"GRD\", \"MNP\", \"AIA\", \"MHL\", \"BRB\", \"PYF\", \"ATG\", \"GRL\", \"MNE\", \"COK\", \"GIB\", \"TUV\", \"VUT\"], \"z\": [55.89, 19.14, 16.68, 15.44, 14.93, 12.21, 11.51, 10.08, 9.8, 8.24, 7.99, 7.66, 6.57, 6.33, 6.13, 5.94, 5.26, 5.09, 5.06, 4.72, 4.71, 4.57, 4.29, 3.94, 3.53, 3.43, 3.4, 3.29, 3.07, 2.76, 2.64, 1.89, 1.89, 1.79, 1.76, 1.75, 1.5, 1.38, 1.28, 1.25, 1.11, 0.9586399999999999, 0.95725, 0.9317799999999999, 0.8588899999999999, 0.78001, 0.77147, 0.7601, 0.7001000000000001, 0.6900499999999999, 0.66911, 0.6381, 0.6049500000000001, 0.57916, 0.57035, 0.56686, 0.55377, 0.54139, 0.53106, 0.49782, 0.49736, 0.49226, 0.48816000000000004, 0.46793, 0.45941000000000004, 0.43751999999999996, 0.4155, 0.40108, 0.38397000000000003, 0.35643, 0.35149, 0.33925, 0.33056, 0.31125, 0.30569999999999997, 0.3018, 0.24722, 0.24169, 0.20628, 0.19699, 0.19326, 0.16527, 0.15102000000000002, 0.14686000000000002, 0.13696, 0.13306, 0.13201, 0.12897999999999998, 0.12262, 0.11109999999999999, 0.10643000000000001, 0.09974, 0.09348999999999999, 0.09017, 0.08081, 0.07820999999999999, 0.06985, 0.06704, 0.06576, 0.06519, 0.062340000000000007, 0.05866, 0.05643, 0.05319, 0.04985, 0.04949, 0.0444, 0.04307, 0.04254, 0.04244, 0.04102, 0.038799999999999994, 0.038200000000000005, 0.0373, 0.03651, 0.03372, 0.03286, 0.03134, 0.03053, 0.02816, 0.027100000000000003, 0.024579999999999998, 0.024550000000000002, 0.02336, 0.02144, 0.02133, 0.020149999999999998, 0.019579999999999997, 0.019059999999999997, 0.01864, 0.01445, 0.01436, 0.013099999999999999, 0.01289, 0.01134, 0.01109, 0.01057, 0.009720000000000001, 0.009519999999999999, 0.00744, 0.00698, 0.00691, 0.00638, 0.00574, 0.00553, 0.00523, 0.00497, 0.00477, 0.00425, 0.00349, 0.00348, 0.0034300000000000003, 0.00332, 0.0028599999999999997, 0.00273, 0.0022299999999999998, 0.0019399999999999999, 0.00163, 0.00151, 0.00116, 0.0010500000000000002, 0.00075981, 0.0006902400000000001, 0.00053788, 0.00050738, 0.00044207, 0.00031208, 0.00028719, 0.00026488, 0.00023849, 0.00019277, 0.00018108000000000002, 0.00017218, 0.00013276, 0.00010865999999999999, 7.681e-05, 5.224e-05, 2.352e-05, 1.066e-05, 9.9e-06, 7.37e-06, 5.6e-06, 1.19e-06, 49.0], \"text\": [\"China\", \"United States\", \"United Arab Emirates\", \"Saudi Arabia\", \"Switzerland\", \"Indonesia\", \"Iraq\", \"Australia\", \"Germany\", \"Hong Kong\", \"Japan\", \"Iran\", \"Malaysia\", \"Nigeria\", \"Russia\", \"Qatar\", \"Singapore\", \"South Africa\", \"Thailand\", \"Kuwait\", \"France\", \"Belgium\", \"Venezuela\", \"Brazil\", \"Canada\", \"United Kingdom\", \"Italy\", \"Vietnam\", \"Angola\", \"Oman\", \"Mexico\", \"Argentina\", \"Ghana\", \"Netherlands\", \"Ukraine\", \"Peru\", \"Israel\", \"Chile\", \"Botswana\", \"Spain\", \"Sweden\", \"Egypt\", \"Finland\", \"Algeria\", \"Turkey\", \"Kazakhstan\", \"Zambia\", \"Mozambique\", \"Tanzania\", \"Jordan\", \"Austria\", \"Norway\", \"Morocco\", \"Philippines\", \"Sri Lanka\", \"Equatorial Guinea\", \"Poland\", \"Ireland\", \"Burkina Faso\", \"New Zealand\", \"Bolivia\", \"Czech Republic\", \"Senegal\", \"Dominican Republic\", \"Bangladesh\", \"Colombia\", \"Guinea\", \"Denmark\", \"Pakistan\", \"Azerbaijan\", \"Brunei\", \"Sudan\", \"Afghanistan\", \"Nepal\", \"Bahrain\", \"Romania\", \"Gabon\", \"Bhutan\", \"Cameroon\", \"Hungary\", \"Benin\", \"Ecuador\", \"Laos\", \"Portugal\", \"Lithuania\", \"Papua New Guinea\", \"Togo\", \"Paraguay\", \"Belarus\", \"Bulgaria\", \"Mali\", \"Tunisia\", \"Madagascar\", \"Uzbekistan\", \"Slovenia\", \"Yemen\", \"Suriname\", \"South Sudan\", \"Slovakia\", \"Greece\", \"Lesotho\", \"Costa Rica\", \"Chad\", \"Kenya\", \"Solomon Islands\", \"Zimbabwe\", \"Estonia\", \"Latvia\", \"Uganda\", \"Namibia\", \"Trinidad And Tobago\", \"Tajikistan\", \"Cambodia\", \"Panama\", \"Luxembourg\", \"Liberia\", \"Albania\", \"Ethiopia\", \"Kyrgyzstan\", \"Lebanon\", \"Macedonia\", \"Libya\", \"Croatia\", \"Georgia\", \"Comoros\", \"Syria\", \"Uruguay\", \"Niger\", \"Serbia\", \"Sierra Leone\", \"Malawi\", \"Mauritius\", \"Turkmenistan\", \"Malta\", \"Guatemala\", \"Honduras\", \"Burundi\", \"Cyprus\", \"New Caledonia\", \"El Salvador\", \"Swaziland\", \"Bosnia And Herzegovina\", \"Macau\", \"Curacao\", \"Haiti\", \"Cayman Islands\", \"Iceland\", \"Guyana\", \"Maldives\", \"Nicaragua\", \"Jamaica\", \"Djibouti\", \"Rwanda\", \"Somalia\", \"Mauritania\", \"Central African Republic\", \"Eritrea\", \"Cuba\", \"Mongolia\", \"Belize\", \"Moldova\", \"Palau\", \"Seychelles\", \"San Marino\", \"British Virgin Islands\", \"Armenia\", \"Aruba\", \"Fiji\", \"Saint Lucia\", \"Samoa\", \"Dominica\", \"Grenada\", \"Northern Mariana Islands\", \"Anguilla\", \"Marshall Islands\", \"Barbados\", \"French Polynesia\", \"Antigua and Barbuda\", \"Greenland\", \"Montenegro\", \"Cook Islands\", \"Gibraltar\", \"Tuvalu\", \"Vanuatu\"], \"colorbar\": {\"tickprefix\": \"$\", \"title\": \"Import<br>Billions US$\"}}], {\"title\": \"Import by India from Countries around the World in USD Billions\", \"geo\": {\"showframe\": false, \"projection\": {\"type\": \"Mercator\"}}}, {\"showLink\": false, \"linkText\": \"Export to plot.ly\"})</script>'"
      ]
     },
     "execution_count": 115,
     "metadata": {},
     "output_type": "execute_result"
    }
   ],
   "source": [
    "data = [dict(\n",
    "    type = 'choropleth',\n",
    "    locations = import_df['code'],\n",
    "    z = import_df['import'],\n",
    "    text = import_df['country'],\n",
    "    #colorscale = 'RdBu',\n",
    "    #reversescale = True,\n",
    "    colorbar = dict(\n",
    "        tickprefix = '$',\n",
    "        title = 'Import<br>Billions US$',\n",
    "    )\n",
    ")]\n",
    "\n",
    "layout = dict(\n",
    "    title = 'Import by India from Countries around the World in USD Billions',\n",
    "    geo = dict(\n",
    "        showframe = False,\n",
    "        #showcoastlines = False,\n",
    "        projection = dict(\n",
    "            type = 'Mercator'\n",
    "        )\n",
    "    )\n",
    ")\n",
    "\n",
    "plotly.offline.plot(dict(data = data, layout = layout), validate=False, show_link=False, include_plotlyjs=False, output_type='div')"
   ]
  },
  {
   "cell_type": "code",
   "execution_count": 117,
   "metadata": {
    "collapsed": false
   },
   "outputs": [],
   "source": [
    "# create svg image\n",
    "#plotly.offline.iplot(dict(data = data, layout = layout), validate=False, show_link=False, image='svg')"
   ]
  },
  {
   "cell_type": "code",
   "execution_count": null,
   "metadata": {
    "collapsed": true
   },
   "outputs": [],
   "source": []
  }
 ],
 "metadata": {
  "kernelspec": {
   "display_name": "Python 3",
   "language": "python",
   "name": "python3"
  },
  "language_info": {
   "codemirror_mode": {
    "name": "ipython",
    "version": 3
   },
   "file_extension": ".py",
   "mimetype": "text/x-python",
   "name": "python",
   "nbconvert_exporter": "python",
   "pygments_lexer": "ipython3",
   "version": "3.6.5"
  }
 },
 "nbformat": 4,
 "nbformat_minor": 2
}
