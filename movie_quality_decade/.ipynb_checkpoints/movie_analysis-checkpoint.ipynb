{
 "cells": [
  {
   "cell_type": "code",
   "execution_count": 1,
   "metadata": {
    "collapsed": true
   },
   "outputs": [],
   "source": [
    "import numpy as np\n",
    "import pandas as pd\n",
    "import matplotlib.pyplot as plt\n",
    "import seaborn as sns"
   ]
  },
  {
   "cell_type": "code",
   "execution_count": 2,
   "metadata": {
    "collapsed": false
   },
   "outputs": [],
   "source": [
    "%matplotlib inline\n",
    "sns.set_style(\"whitegrid\")"
   ]
  },
  {
   "cell_type": "code",
   "execution_count": 3,
   "metadata": {
    "collapsed": false
   },
   "outputs": [
    {
     "data": {
      "text/html": [
       "<div>\n",
       "<style scoped>\n",
       "    .dataframe tbody tr th:only-of-type {\n",
       "        vertical-align: middle;\n",
       "    }\n",
       "\n",
       "    .dataframe tbody tr th {\n",
       "        vertical-align: top;\n",
       "    }\n",
       "\n",
       "    .dataframe thead th {\n",
       "        text-align: right;\n",
       "    }\n",
       "</style>\n",
       "<table border=\"1\" class=\"dataframe\">\n",
       "  <thead>\n",
       "    <tr style=\"text-align: right;\">\n",
       "      <th></th>\n",
       "      <th>2008</th>\n",
       "      <th>2009</th>\n",
       "      <th>2010</th>\n",
       "      <th>2011</th>\n",
       "      <th>2012</th>\n",
       "      <th>2013</th>\n",
       "      <th>2014</th>\n",
       "      <th>2015</th>\n",
       "      <th>2016</th>\n",
       "      <th>2017</th>\n",
       "    </tr>\n",
       "  </thead>\n",
       "  <tbody>\n",
       "    <tr>\n",
       "      <th>0</th>\n",
       "      <td>9.0</td>\n",
       "      <td>8.3</td>\n",
       "      <td>8.8</td>\n",
       "      <td>8.2</td>\n",
       "      <td>8.4</td>\n",
       "      <td>8.2</td>\n",
       "      <td>8.6</td>\n",
       "      <td>8.2</td>\n",
       "      <td>8.2</td>\n",
       "      <td>8.5</td>\n",
       "    </tr>\n",
       "    <tr>\n",
       "      <th>1</th>\n",
       "      <td>8.4</td>\n",
       "      <td>8.3</td>\n",
       "      <td>8.3</td>\n",
       "      <td>8.1</td>\n",
       "      <td>8.4</td>\n",
       "      <td>8.1</td>\n",
       "      <td>8.5</td>\n",
       "      <td>8.2</td>\n",
       "      <td>8.1</td>\n",
       "      <td>8.2</td>\n",
       "    </tr>\n",
       "    <tr>\n",
       "      <th>2</th>\n",
       "      <td>8.1</td>\n",
       "      <td>8.1</td>\n",
       "      <td>8.1</td>\n",
       "      <td>8.1</td>\n",
       "      <td>8.1</td>\n",
       "      <td>8.1</td>\n",
       "      <td>8.1</td>\n",
       "      <td>8.1</td>\n",
       "      <td>8.1</td>\n",
       "      <td>8.1</td>\n",
       "    </tr>\n",
       "    <tr>\n",
       "      <th>3</th>\n",
       "      <td>8.0</td>\n",
       "      <td>8.0</td>\n",
       "      <td>8.1</td>\n",
       "      <td>7.9</td>\n",
       "      <td>8.0</td>\n",
       "      <td>8.1</td>\n",
       "      <td>8.1</td>\n",
       "      <td>8.1</td>\n",
       "      <td>8.0</td>\n",
       "      <td>8.1</td>\n",
       "    </tr>\n",
       "    <tr>\n",
       "      <th>4</th>\n",
       "      <td>8.0</td>\n",
       "      <td>7.9</td>\n",
       "      <td>8.0</td>\n",
       "      <td>7.8</td>\n",
       "      <td>7.9</td>\n",
       "      <td>8.0</td>\n",
       "      <td>8.1</td>\n",
       "      <td>8.0</td>\n",
       "      <td>8.0</td>\n",
       "      <td>8.0</td>\n",
       "    </tr>\n",
       "  </tbody>\n",
       "</table>\n",
       "</div>"
      ],
      "text/plain": [
       "   2008  2009  2010  2011  2012  2013  2014  2015  2016  2017\n",
       "0   9.0   8.3   8.8   8.2   8.4   8.2   8.6   8.2   8.2   8.5\n",
       "1   8.4   8.3   8.3   8.1   8.4   8.1   8.5   8.2   8.1   8.2\n",
       "2   8.1   8.1   8.1   8.1   8.1   8.1   8.1   8.1   8.1   8.1\n",
       "3   8.0   8.0   8.1   7.9   8.0   8.1   8.1   8.1   8.0   8.1\n",
       "4   8.0   7.9   8.0   7.8   7.9   8.0   8.1   8.0   8.0   8.0"
      ]
     },
     "execution_count": 3,
     "metadata": {},
     "output_type": "execute_result"
    }
   ],
   "source": [
    "df = pd.read_csv('data/top_ratings.csv')\n",
    "df.head()"
   ]
  },
  {
   "cell_type": "code",
   "execution_count": 4,
   "metadata": {
    "collapsed": false
   },
   "outputs": [
    {
     "data": {
      "text/plain": [
       "<matplotlib.text.Text at 0x1155004a8>"
      ]
     },
     "execution_count": 4,
     "metadata": {},
     "output_type": "execute_result"
    },
    {
     "data": {
      "image/png": "[encoded data removed]",
      "text/plain": [
       "<matplotlib.figure.Figure at 0x10d78c080>"
      ]
     },
     "metadata": {},
     "output_type": "display_data"
    }
   ],
   "source": [
    "plt.figure(figsize = (10,6))\n",
    "df.boxplot(sym='k.')\n",
    "plt.ylabel('IMDB Rating')\n",
    "plt.xlabel('Release Year')\n",
    "plt.title('Top 50 Movie Ratings each Year over the Last Decade')"
   ]
  },
  {
   "cell_type": "code",
   "execution_count": 32,
   "metadata": {
    "collapsed": false
   },
   "outputs": [
    {
     "data": {
      "text/plain": [
       "2008    2.2\n",
       "2009    1.5\n",
       "2010    2.0\n",
       "2011    1.3\n",
       "2012    1.4\n",
       "2013    1.2\n",
       "2014    1.6\n",
       "2015    1.3\n",
       "2016    1.1\n",
       "2017    1.5\n",
       "dtype: float64"
      ]
     },
     "execution_count": 32,
     "metadata": {},
     "output_type": "execute_result"
    }
   ],
   "source": [
    "df.max() - df.min()"
   ]
  },
  {
   "cell_type": "code",
   "execution_count": 4,
   "metadata": {
    "collapsed": true
   },
   "outputs": [],
   "source": [
    "def bootstrap_mean_diff(x, y):\n",
    "    meanx = np.mean(np.random.choice(x, size=len(x)))\n",
    "    meany = np.mean(np.random.choice(y, size=len(y)))\n",
    "    return meany - meanx"
   ]
  },
  {
   "cell_type": "code",
   "execution_count": 9,
   "metadata": {
    "collapsed": false
   },
   "outputs": [
    {
     "data": {
      "text/plain": [
       "0.12600000000000566"
      ]
     },
     "execution_count": 9,
     "metadata": {},
     "output_type": "execute_result"
    }
   ],
   "source": [
    "# difference between average of rating between 2017 and 2008\n",
    "mean_diff = df['2017'].mean() - df['2008'].mean()\n",
    "mean_diff"
   ]
  },
  {
   "cell_type": "code",
   "execution_count": 11,
   "metadata": {
    "collapsed": false
   },
   "outputs": [],
   "source": [
    "mean_diff_replicates = np.empty(10000)"
   ]
  },
  {
   "cell_type": "code",
   "execution_count": 12,
   "metadata": {
    "collapsed": true
   },
   "outputs": [],
   "source": [
    "for i in range(10000):\n",
    "    mean_diff_replicates[i] = bootstrap_mean_diff(df['2008'], df['2017'])"
   ]
  },
  {
   "cell_type": "code",
   "execution_count": 13,
   "metadata": {
    "collapsed": false
   },
   "outputs": [
    {
     "data": {
      "text/plain": [
       "0.50149999999999995"
      ]
     },
     "execution_count": 13,
     "metadata": {},
     "output_type": "execute_result"
    }
   ],
   "source": [
    "# p-value\n",
    "np.sum(mean_diff_replicates >= mean_diff) / 10000"
   ]
  },
  {
   "cell_type": "markdown",
   "metadata": {},
   "source": [
    "Such large p-value states no significant improvement in movie qualities over last decade."
   ]
  },
  {
   "cell_type": "code",
   "execution_count": null,
   "metadata": {
    "collapsed": true
   },
   "outputs": [],
   "source": []
  },
  {
   "cell_type": "markdown",
   "metadata": {},
   "source": [
    "## Visualization"
   ]
  },
  {
   "cell_type": "code",
   "execution_count": 5,
   "metadata": {
    "collapsed": true
   },
   "outputs": [],
   "source": [
    "import plotly\n",
    "import plotly.graph_objs as go\n",
    "from plotly import tools"
   ]
  },
  {
   "cell_type": "code",
   "execution_count": 6,
   "metadata": {
    "collapsed": false
   },
   "outputs": [
    {
     "data": {
      "text/html": [
       "<script>requirejs.config({paths: { 'plotly': ['https://cdn.plot.ly/plotly-latest.min']},});if(!window.Plotly) {{require(['plotly'],function(plotly) {window.Plotly=plotly;});}}</script>"
      ],
      "text/vnd.plotly.v1+html": [
       "<script>requirejs.config({paths: { 'plotly': ['https://cdn.plot.ly/plotly-latest.min']},});if(!window.Plotly) {{require(['plotly'],function(plotly) {window.Plotly=plotly;});}}</script>"
      ]
     },
     "metadata": {},
     "output_type": "display_data"
    }
   ],
   "source": [
    "plotly.offline.init_notebook_mode(connected=True)"
   ]
  },
  {
   "cell_type": "code",
   "execution_count": 18,
   "metadata": {
    "collapsed": false
   },
   "outputs": [
    {
     "data": {
      "application/vnd.plotly.v1+json": {
       "data": [
        {
         "name": "2008",
         "type": "box",
         "uid": "af7b3964-cd20-11e8-9802-784f438dbc8b",
         "y": [
          9,
          8.4,
          8.1,
          8,
          8,
          7.9,
          7.9,
          7.9,
          7.8,
          7.8,
          7.8,
          7.8,
          7.7,
          7.6,
          7.6,
          7.6,
          7.6,
          7.6,
          7.5,
          7.5,
          7.5,
          7.5,
          7.3,
          7.3,
          7.3,
          7.2,
          7.2,
          7.2,
          7.2,
          7.2,
          7.1,
          7.1,
          7.1,
          7.1,
          7.1,
          7,
          7,
          7,
          7,
          7,
          7,
          7,
          7,
          6.9,
          6.9,
          6.9,
          6.9,
          6.9,
          6.9,
          6.8
         ]
        },
        {
         "name": "2009",
         "type": "box",
         "uid": "af7b3b1c-cd20-11e8-ad87-784f438dbc8b",
         "y": [
          8.3,
          8.3,
          8.1,
          8,
          7.9,
          7.9,
          7.8,
          7.8,
          7.7,
          7.7,
          7.7,
          7.7,
          7.7,
          7.6,
          7.6,
          7.6,
          7.6,
          7.6,
          7.4,
          7.4,
          7.4,
          7.4,
          7.4,
          7.4,
          7.3,
          7.3,
          7.3,
          7.3,
          7.3,
          7.2,
          7.2,
          7.2,
          7.1,
          7.1,
          7.1,
          7.1,
          7.1,
          7.1,
          7.1,
          7.1,
          7,
          7,
          7,
          7,
          7,
          7,
          7,
          6.9,
          6.9,
          6.8
         ]
        },
        {
         "name": "2010",
         "type": "box",
         "uid": "af7b3bf8-cd20-11e8-9d61-784f438dbc8b",
         "y": [
          8.8,
          8.3,
          8.1,
          8.1,
          8,
          8,
          7.8,
          7.8,
          7.7,
          7.7,
          7.7,
          7.7,
          7.6,
          7.6,
          7.6,
          7.6,
          7.6,
          7.5,
          7.4,
          7.4,
          7.4,
          7.3,
          7.3,
          7.3,
          7.2,
          7.2,
          7.2,
          7.2,
          7.1,
          7.1,
          7.1,
          7.1,
          7.1,
          7.1,
          7,
          7,
          7,
          7,
          7,
          7,
          6.9,
          6.9,
          6.9,
          6.9,
          6.8,
          6.8,
          6.8,
          6.8,
          6.8,
          6.8
         ]
        },
        {
         "name": "2011",
         "type": "box",
         "uid": "af7b3ca2-cd20-11e8-8a76-784f438dbc8b",
         "y": [
          8.2,
          8.1,
          8.1,
          7.9,
          7.8,
          7.8,
          7.8,
          7.7,
          7.7,
          7.7,
          7.6,
          7.6,
          7.6,
          7.5,
          7.5,
          7.5,
          7.5,
          7.4,
          7.4,
          7.4,
          7.4,
          7.4,
          7.4,
          7.3,
          7.3,
          7.3,
          7.3,
          7.3,
          7.2,
          7.2,
          7.2,
          7.2,
          7.2,
          7.1,
          7.1,
          7.1,
          7.1,
          7.1,
          7.1,
          7.1,
          7.1,
          7.1,
          7,
          7,
          7,
          7,
          7,
          7,
          6.9,
          6.9
         ]
        },
        {
         "name": "2012",
         "type": "box",
         "uid": "af7b3d4c-cd20-11e8-85e5-784f438dbc8b",
         "y": [
          8.4,
          8.4,
          8.1,
          8,
          7.9,
          7.9,
          7.8,
          7.8,
          7.8,
          7.7,
          7.7,
          7.6,
          7.6,
          7.6,
          7.6,
          7.5,
          7.4,
          7.4,
          7.4,
          7.4,
          7.4,
          7.3,
          7.3,
          7.3,
          7.3,
          7.3,
          7.3,
          7.2,
          7.2,
          7.2,
          7.2,
          7.2,
          7.2,
          7.2,
          7.1,
          7.1,
          7.1,
          7.1,
          7.1,
          7.1,
          7.1,
          7.1,
          7,
          7,
          7,
          7,
          7,
          7,
          7,
          7
         ]
        },
        {
         "name": "2013",
         "type": "box",
         "uid": "af7b3dec-cd20-11e8-8b92-784f438dbc8b",
         "y": [
          8.2,
          8.1,
          8.1,
          8.1,
          8,
          8,
          8,
          7.9,
          7.9,
          7.8,
          7.8,
          7.8,
          7.7,
          7.7,
          7.6,
          7.6,
          7.5,
          7.5,
          7.5,
          7.5,
          7.5,
          7.5,
          7.5,
          7.5,
          7.4,
          7.4,
          7.4,
          7.3,
          7.3,
          7.3,
          7.3,
          7.3,
          7.3,
          7.3,
          7.2,
          7.2,
          7.2,
          7.2,
          7.2,
          7.2,
          7.1,
          7.1,
          7.1,
          7.1,
          7.1,
          7.1,
          7.1,
          7.1,
          7,
          7
         ]
        },
        {
         "name": "2014",
         "type": "box",
         "uid": "af7b3f9a-cd20-11e8-9331-784f438dbc8b",
         "y": [
          8.6,
          8.5,
          8.1,
          8.1,
          8.1,
          8,
          8,
          8,
          7.9,
          7.9,
          7.9,
          7.8,
          7.8,
          7.8,
          7.8,
          7.8,
          7.7,
          7.7,
          7.7,
          7.6,
          7.6,
          7.6,
          7.5,
          7.5,
          7.4,
          7.4,
          7.4,
          7.4,
          7.3,
          7.3,
          7.3,
          7.3,
          7.3,
          7.3,
          7.2,
          7.2,
          7.2,
          7.1,
          7.1,
          7.1,
          7.1,
          7.1,
          7,
          7,
          7,
          7,
          7,
          7,
          7,
          7
         ]
        },
        {
         "name": "2015",
         "type": "box",
         "uid": "af7b41de-cd20-11e8-958d-784f438dbc8b",
         "y": [
          8.2,
          8.2,
          8.1,
          8.1,
          8,
          8,
          8,
          7.9,
          7.8,
          7.8,
          7.8,
          7.8,
          7.8,
          7.6,
          7.6,
          7.6,
          7.5,
          7.5,
          7.4,
          7.4,
          7.4,
          7.4,
          7.3,
          7.3,
          7.3,
          7.3,
          7.2,
          7.2,
          7.2,
          7.2,
          7.2,
          7.2,
          7.1,
          7.1,
          7.1,
          7.1,
          7.1,
          7.1,
          7.1,
          7.1,
          7.1,
          7.1,
          7,
          7,
          7,
          7,
          7,
          7,
          6.9,
          6.9
         ]
        },
        {
         "name": "2016",
         "type": "box",
         "uid": "af7b4398-cd20-11e8-b903-784f438dbc8b",
         "y": [
          8.2,
          8.1,
          8.1,
          8,
          8,
          8,
          7.9,
          7.9,
          7.8,
          7.8,
          7.8,
          7.8,
          7.8,
          7.6,
          7.6,
          7.5,
          7.5,
          7.5,
          7.5,
          7.5,
          7.4,
          7.4,
          7.4,
          7.4,
          7.4,
          7.4,
          7.4,
          7.4,
          7.4,
          7.4,
          7.4,
          7.4,
          7.4,
          7.3,
          7.3,
          7.3,
          7.3,
          7.3,
          7.2,
          7.2,
          7.2,
          7.2,
          7.2,
          7.2,
          7.2,
          7.1,
          7.1,
          7.1,
          7.1,
          7.1
         ]
        },
        {
         "name": "2017",
         "type": "box",
         "uid": "af7b4526-cd20-11e8-aece-784f438dbc8b",
         "y": [
          8.5,
          8.2,
          8.1,
          8.1,
          8,
          8,
          8,
          7.9,
          7.9,
          7.9,
          7.8,
          7.7,
          7.7,
          7.7,
          7.7,
          7.7,
          7.6,
          7.6,
          7.6,
          7.6,
          7.5,
          7.5,
          7.5,
          7.5,
          7.5,
          7.5,
          7.5,
          7.5,
          7.4,
          7.4,
          7.4,
          7.4,
          7.4,
          7.4,
          7.3,
          7.3,
          7.3,
          7.3,
          7.2,
          7.2,
          7.2,
          7.2,
          7.1,
          7.1,
          7.1,
          7,
          7,
          7,
          7,
          7
         ]
        }
       ],
       "layout": {
        "title": "Top 50 Movie Ratings each Year over the Last Decade",
        "xaxis": {
         "title": "Year"
        },
        "yaxis": {
         "title": "Imdb Ratings"
        }
       }
      },
      "text/html": [
       "<div id=\"a248cfb3-01b7-4c81-84cf-46a4f969d4ba\" style=\"height: 525px; width: 100%;\" class=\"plotly-graph-div\"></div><script type=\"text/javascript\">require([\"plotly\"], function(Plotly) { window.PLOTLYENV=window.PLOTLYENV || {};window.PLOTLYENV.BASE_URL=\"https://plot.ly\";Plotly.newPlot(\"a248cfb3-01b7-4c81-84cf-46a4f969d4ba\", [{\"name\": \"2008\", \"y\": [9.0, 8.4, 8.1, 8.0, 8.0, 7.9, 7.9, 7.9, 7.8, 7.8, 7.8, 7.8, 7.7, 7.6, 7.6, 7.6, 7.6, 7.6, 7.5, 7.5, 7.5, 7.5, 7.3, 7.3, 7.3, 7.2, 7.2, 7.2, 7.2, 7.2, 7.1, 7.1, 7.1, 7.1, 7.1, 7.0, 7.0, 7.0, 7.0, 7.0, 7.0, 7.0, 7.0, 6.9, 6.9, 6.9, 6.9, 6.9, 6.9, 6.8], \"type\": \"box\", \"uid\": \"af80859a-cd20-11e8-a3af-784f438dbc8b\"}, {\"name\": \"2009\", \"y\": [8.3, 8.3, 8.1, 8.0, 7.9, 7.9, 7.8, 7.8, 7.7, 7.7, 7.7, 7.7, 7.7, 7.6, 7.6, 7.6, 7.6, 7.6, 7.4, 7.4, 7.4, 7.4, 7.4, 7.4, 7.3, 7.3, 7.3, 7.3, 7.3, 7.2, 7.2, 7.2, 7.1, 7.1, 7.1, 7.1, 7.1, 7.1, 7.1, 7.1, 7.0, 7.0, 7.0, 7.0, 7.0, 7.0, 7.0, 6.9, 6.9, 6.8], \"type\": \"box\", \"uid\": \"af8086f8-cd20-11e8-9dcd-784f438dbc8b\"}, {\"name\": \"2010\", \"y\": [8.8, 8.3, 8.1, 8.1, 8.0, 8.0, 7.8, 7.8, 7.7, 7.7, 7.7, 7.7, 7.6, 7.6, 7.6, 7.6, 7.6, 7.5, 7.4, 7.4, 7.4, 7.3, 7.3, 7.3, 7.2, 7.2, 7.2, 7.2, 7.1, 7.1, 7.1, 7.1, 7.1, 7.1, 7.0, 7.0, 7.0, 7.0, 7.0, 7.0, 6.9, 6.9, 6.9, 6.9, 6.8, 6.8, 6.8, 6.8, 6.8, 6.8], \"type\": \"box\", \"uid\": \"af8087c0-cd20-11e8-a2f9-784f438dbc8b\"}, {\"name\": \"2011\", \"y\": [8.2, 8.1, 8.1, 7.9, 7.8, 7.8, 7.8, 7.7, 7.7, 7.7, 7.6, 7.6, 7.6, 7.5, 7.5, 7.5, 7.5, 7.4, 7.4, 7.4, 7.4, 7.4, 7.4, 7.3, 7.3, 7.3, 7.3, 7.3, 7.2, 7.2, 7.2, 7.2, 7.2, 7.1, 7.1, 7.1, 7.1, 7.1, 7.1, 7.1, 7.1, 7.1, 7.0, 7.0, 7.0, 7.0, 7.0, 7.0, 6.9, 6.9], \"type\": \"box\", \"uid\": \"af808862-cd20-11e8-86e1-784f438dbc8b\"}, {\"name\": \"2012\", \"y\": [8.4, 8.4, 8.1, 8.0, 7.9, 7.9, 7.8, 7.8, 7.8, 7.7, 7.7, 7.6, 7.6, 7.6, 7.6, 7.5, 7.4, 7.4, 7.4, 7.4, 7.4, 7.3, 7.3, 7.3, 7.3, 7.3, 7.3, 7.2, 7.2, 7.2, 7.2, 7.2, 7.2, 7.2, 7.1, 7.1, 7.1, 7.1, 7.1, 7.1, 7.1, 7.1, 7.0, 7.0, 7.0, 7.0, 7.0, 7.0, 7.0, 7.0], \"type\": \"box\", \"uid\": \"af8088f6-cd20-11e8-add4-784f438dbc8b\"}, {\"name\": \"2013\", \"y\": [8.2, 8.1, 8.1, 8.1, 8.0, 8.0, 8.0, 7.9, 7.9, 7.8, 7.8, 7.8, 7.7, 7.7, 7.6, 7.6, 7.5, 7.5, 7.5, 7.5, 7.5, 7.5, 7.5, 7.5, 7.4, 7.4, 7.4, 7.3, 7.3, 7.3, 7.3, 7.3, 7.3, 7.3, 7.2, 7.2, 7.2, 7.2, 7.2, 7.2, 7.1, 7.1, 7.1, 7.1, 7.1, 7.1, 7.1, 7.1, 7.0, 7.0], \"type\": \"box\", \"uid\": \"af80898c-cd20-11e8-a505-784f438dbc8b\"}, {\"name\": \"2014\", \"y\": [8.6, 8.5, 8.1, 8.1, 8.1, 8.0, 8.0, 8.0, 7.9, 7.9, 7.9, 7.8, 7.8, 7.8, 7.8, 7.8, 7.7, 7.7, 7.7, 7.6, 7.6, 7.6, 7.5, 7.5, 7.4, 7.4, 7.4, 7.4, 7.3, 7.3, 7.3, 7.3, 7.3, 7.3, 7.2, 7.2, 7.2, 7.1, 7.1, 7.1, 7.1, 7.1, 7.0, 7.0, 7.0, 7.0, 7.0, 7.0, 7.0, 7.0], \"type\": \"box\", \"uid\": \"af808a18-cd20-11e8-bdbd-784f438dbc8b\"}, {\"name\": \"2015\", \"y\": [8.2, 8.2, 8.1, 8.1, 8.0, 8.0, 8.0, 7.9, 7.8, 7.8, 7.8, 7.8, 7.8, 7.6, 7.6, 7.6, 7.5, 7.5, 7.4, 7.4, 7.4, 7.4, 7.3, 7.3, 7.3, 7.3, 7.2, 7.2, 7.2, 7.2, 7.2, 7.2, 7.1, 7.1, 7.1, 7.1, 7.1, 7.1, 7.1, 7.1, 7.1, 7.1, 7.0, 7.0, 7.0, 7.0, 7.0, 7.0, 6.9, 6.9], \"type\": \"box\", \"uid\": \"af808aa4-cd20-11e8-a7c0-784f438dbc8b\"}, {\"name\": \"2016\", \"y\": [8.2, 8.1, 8.1, 8.0, 8.0, 8.0, 7.9, 7.9, 7.8, 7.8, 7.8, 7.8, 7.8, 7.6, 7.6, 7.5, 7.5, 7.5, 7.5, 7.5, 7.4, 7.4, 7.4, 7.4, 7.4, 7.4, 7.4, 7.4, 7.4, 7.4, 7.4, 7.4, 7.4, 7.3, 7.3, 7.3, 7.3, 7.3, 7.2, 7.2, 7.2, 7.2, 7.2, 7.2, 7.2, 7.1, 7.1, 7.1, 7.1, 7.1], \"type\": \"box\", \"uid\": \"af808b30-cd20-11e8-94b7-784f438dbc8b\"}, {\"name\": \"2017\", \"y\": [8.5, 8.2, 8.1, 8.1, 8.0, 8.0, 8.0, 7.9, 7.9, 7.9, 7.8, 7.7, 7.7, 7.7, 7.7, 7.7, 7.6, 7.6, 7.6, 7.6, 7.5, 7.5, 7.5, 7.5, 7.5, 7.5, 7.5, 7.5, 7.4, 7.4, 7.4, 7.4, 7.4, 7.4, 7.3, 7.3, 7.3, 7.3, 7.2, 7.2, 7.2, 7.2, 7.1, 7.1, 7.1, 7.0, 7.0, 7.0, 7.0, 7.0], \"type\": \"box\", \"uid\": \"af808bc6-cd20-11e8-8942-784f438dbc8b\"}], {\"title\": \"Top 50 Movie Ratings each Year over the Last Decade\", \"xaxis\": {\"title\": \"Year\"}, \"yaxis\": {\"title\": \"Imdb Ratings\"}}, {\"showLink\": true, \"linkText\": \"Export to plot.ly\"})});</script>"
      ],
      "text/vnd.plotly.v1+html": [
       "<div id=\"a248cfb3-01b7-4c81-84cf-46a4f969d4ba\" style=\"height: 525px; width: 100%;\" class=\"plotly-graph-div\"></div><script type=\"text/javascript\">require([\"plotly\"], function(Plotly) { window.PLOTLYENV=window.PLOTLYENV || {};window.PLOTLYENV.BASE_URL=\"https://plot.ly\";Plotly.newPlot(\"a248cfb3-01b7-4c81-84cf-46a4f969d4ba\", [{\"name\": \"2008\", \"y\": [9.0, 8.4, 8.1, 8.0, 8.0, 7.9, 7.9, 7.9, 7.8, 7.8, 7.8, 7.8, 7.7, 7.6, 7.6, 7.6, 7.6, 7.6, 7.5, 7.5, 7.5, 7.5, 7.3, 7.3, 7.3, 7.2, 7.2, 7.2, 7.2, 7.2, 7.1, 7.1, 7.1, 7.1, 7.1, 7.0, 7.0, 7.0, 7.0, 7.0, 7.0, 7.0, 7.0, 6.9, 6.9, 6.9, 6.9, 6.9, 6.9, 6.8], \"type\": \"box\", \"uid\": \"af80859a-cd20-11e8-a3af-784f438dbc8b\"}, {\"name\": \"2009\", \"y\": [8.3, 8.3, 8.1, 8.0, 7.9, 7.9, 7.8, 7.8, 7.7, 7.7, 7.7, 7.7, 7.7, 7.6, 7.6, 7.6, 7.6, 7.6, 7.4, 7.4, 7.4, 7.4, 7.4, 7.4, 7.3, 7.3, 7.3, 7.3, 7.3, 7.2, 7.2, 7.2, 7.1, 7.1, 7.1, 7.1, 7.1, 7.1, 7.1, 7.1, 7.0, 7.0, 7.0, 7.0, 7.0, 7.0, 7.0, 6.9, 6.9, 6.8], \"type\": \"box\", \"uid\": \"af8086f8-cd20-11e8-9dcd-784f438dbc8b\"}, {\"name\": \"2010\", \"y\": [8.8, 8.3, 8.1, 8.1, 8.0, 8.0, 7.8, 7.8, 7.7, 7.7, 7.7, 7.7, 7.6, 7.6, 7.6, 7.6, 7.6, 7.5, 7.4, 7.4, 7.4, 7.3, 7.3, 7.3, 7.2, 7.2, 7.2, 7.2, 7.1, 7.1, 7.1, 7.1, 7.1, 7.1, 7.0, 7.0, 7.0, 7.0, 7.0, 7.0, 6.9, 6.9, 6.9, 6.9, 6.8, 6.8, 6.8, 6.8, 6.8, 6.8], \"type\": \"box\", \"uid\": \"af8087c0-cd20-11e8-a2f9-784f438dbc8b\"}, {\"name\": \"2011\", \"y\": [8.2, 8.1, 8.1, 7.9, 7.8, 7.8, 7.8, 7.7, 7.7, 7.7, 7.6, 7.6, 7.6, 7.5, 7.5, 7.5, 7.5, 7.4, 7.4, 7.4, 7.4, 7.4, 7.4, 7.3, 7.3, 7.3, 7.3, 7.3, 7.2, 7.2, 7.2, 7.2, 7.2, 7.1, 7.1, 7.1, 7.1, 7.1, 7.1, 7.1, 7.1, 7.1, 7.0, 7.0, 7.0, 7.0, 7.0, 7.0, 6.9, 6.9], \"type\": \"box\", \"uid\": \"af808862-cd20-11e8-86e1-784f438dbc8b\"}, {\"name\": \"2012\", \"y\": [8.4, 8.4, 8.1, 8.0, 7.9, 7.9, 7.8, 7.8, 7.8, 7.7, 7.7, 7.6, 7.6, 7.6, 7.6, 7.5, 7.4, 7.4, 7.4, 7.4, 7.4, 7.3, 7.3, 7.3, 7.3, 7.3, 7.3, 7.2, 7.2, 7.2, 7.2, 7.2, 7.2, 7.2, 7.1, 7.1, 7.1, 7.1, 7.1, 7.1, 7.1, 7.1, 7.0, 7.0, 7.0, 7.0, 7.0, 7.0, 7.0, 7.0], \"type\": \"box\", \"uid\": \"af8088f6-cd20-11e8-add4-784f438dbc8b\"}, {\"name\": \"2013\", \"y\": [8.2, 8.1, 8.1, 8.1, 8.0, 8.0, 8.0, 7.9, 7.9, 7.8, 7.8, 7.8, 7.7, 7.7, 7.6, 7.6, 7.5, 7.5, 7.5, 7.5, 7.5, 7.5, 7.5, 7.5, 7.4, 7.4, 7.4, 7.3, 7.3, 7.3, 7.3, 7.3, 7.3, 7.3, 7.2, 7.2, 7.2, 7.2, 7.2, 7.2, 7.1, 7.1, 7.1, 7.1, 7.1, 7.1, 7.1, 7.1, 7.0, 7.0], \"type\": \"box\", \"uid\": \"af80898c-cd20-11e8-a505-784f438dbc8b\"}, {\"name\": \"2014\", \"y\": [8.6, 8.5, 8.1, 8.1, 8.1, 8.0, 8.0, 8.0, 7.9, 7.9, 7.9, 7.8, 7.8, 7.8, 7.8, 7.8, 7.7, 7.7, 7.7, 7.6, 7.6, 7.6, 7.5, 7.5, 7.4, 7.4, 7.4, 7.4, 7.3, 7.3, 7.3, 7.3, 7.3, 7.3, 7.2, 7.2, 7.2, 7.1, 7.1, 7.1, 7.1, 7.1, 7.0, 7.0, 7.0, 7.0, 7.0, 7.0, 7.0, 7.0], \"type\": \"box\", \"uid\": \"af808a18-cd20-11e8-bdbd-784f438dbc8b\"}, {\"name\": \"2015\", \"y\": [8.2, 8.2, 8.1, 8.1, 8.0, 8.0, 8.0, 7.9, 7.8, 7.8, 7.8, 7.8, 7.8, 7.6, 7.6, 7.6, 7.5, 7.5, 7.4, 7.4, 7.4, 7.4, 7.3, 7.3, 7.3, 7.3, 7.2, 7.2, 7.2, 7.2, 7.2, 7.2, 7.1, 7.1, 7.1, 7.1, 7.1, 7.1, 7.1, 7.1, 7.1, 7.1, 7.0, 7.0, 7.0, 7.0, 7.0, 7.0, 6.9, 6.9], \"type\": \"box\", \"uid\": \"af808aa4-cd20-11e8-a7c0-784f438dbc8b\"}, {\"name\": \"2016\", \"y\": [8.2, 8.1, 8.1, 8.0, 8.0, 8.0, 7.9, 7.9, 7.8, 7.8, 7.8, 7.8, 7.8, 7.6, 7.6, 7.5, 7.5, 7.5, 7.5, 7.5, 7.4, 7.4, 7.4, 7.4, 7.4, 7.4, 7.4, 7.4, 7.4, 7.4, 7.4, 7.4, 7.4, 7.3, 7.3, 7.3, 7.3, 7.3, 7.2, 7.2, 7.2, 7.2, 7.2, 7.2, 7.2, 7.1, 7.1, 7.1, 7.1, 7.1], \"type\": \"box\", \"uid\": \"af808b30-cd20-11e8-94b7-784f438dbc8b\"}, {\"name\": \"2017\", \"y\": [8.5, 8.2, 8.1, 8.1, 8.0, 8.0, 8.0, 7.9, 7.9, 7.9, 7.8, 7.7, 7.7, 7.7, 7.7, 7.7, 7.6, 7.6, 7.6, 7.6, 7.5, 7.5, 7.5, 7.5, 7.5, 7.5, 7.5, 7.5, 7.4, 7.4, 7.4, 7.4, 7.4, 7.4, 7.3, 7.3, 7.3, 7.3, 7.2, 7.2, 7.2, 7.2, 7.1, 7.1, 7.1, 7.0, 7.0, 7.0, 7.0, 7.0], \"type\": \"box\", \"uid\": \"af808bc6-cd20-11e8-8942-784f438dbc8b\"}], {\"title\": \"Top 50 Movie Ratings each Year over the Last Decade\", \"xaxis\": {\"title\": \"Year\"}, \"yaxis\": {\"title\": \"Imdb Ratings\"}}, {\"showLink\": true, \"linkText\": \"Export to plot.ly\"})});</script>"
      ]
     },
     "metadata": {},
     "output_type": "display_data"
    }
   ],
   "source": [
    "data = [go.Box(y=df.iloc[:,i], name=df.columns[i]) for i in range(10)]\n",
    "layout = {\n",
    "    'title' : 'Top 50 Movie Ratings each Year over the Last Decade',\n",
    "    'xaxis': {'title': 'Year'},\n",
    "    'yaxis': {'title': 'Imdb Ratings'},\n",
    "}\n",
    "plotly.offline.iplot({'data':data, 'layout':layout})"
   ]
  },
  {
   "cell_type": "code",
   "execution_count": 20,
   "metadata": {
    "collapsed": false
   },
   "outputs": [],
   "source": [
    "# to save svg image of above graph\n",
    "#plotly.offline.plot({'data' : data, 'layout' : layout}, show_link=False, image='svg')"
   ]
  },
  {
   "cell_type": "code",
   "execution_count": 21,
   "metadata": {
    "collapsed": false
   },
   "outputs": [
    {
     "data": {
      "text/plain": [
       "'<div id=\"0916e073-6583-4772-87f6-3c214e8dacaa\" style=\"height: 100%; width: 100%;\" class=\"plotly-graph-div\"></div><script type=\"text/javascript\">window.PLOTLYENV=window.PLOTLYENV || {};window.PLOTLYENV.BASE_URL=\"https://plot.ly\";Plotly.newPlot(\"0916e073-6583-4772-87f6-3c214e8dacaa\", [{\"name\": \"2008\", \"y\": [9.0, 8.4, 8.1, 8.0, 8.0, 7.9, 7.9, 7.9, 7.8, 7.8, 7.8, 7.8, 7.7, 7.6, 7.6, 7.6, 7.6, 7.6, 7.5, 7.5, 7.5, 7.5, 7.3, 7.3, 7.3, 7.2, 7.2, 7.2, 7.2, 7.2, 7.1, 7.1, 7.1, 7.1, 7.1, 7.0, 7.0, 7.0, 7.0, 7.0, 7.0, 7.0, 7.0, 6.9, 6.9, 6.9, 6.9, 6.9, 6.9, 6.8], \"type\": \"box\"}, {\"name\": \"2009\", \"y\": [8.3, 8.3, 8.1, 8.0, 7.9, 7.9, 7.8, 7.8, 7.7, 7.7, 7.7, 7.7, 7.7, 7.6, 7.6, 7.6, 7.6, 7.6, 7.4, 7.4, 7.4, 7.4, 7.4, 7.4, 7.3, 7.3, 7.3, 7.3, 7.3, 7.2, 7.2, 7.2, 7.1, 7.1, 7.1, 7.1, 7.1, 7.1, 7.1, 7.1, 7.0, 7.0, 7.0, 7.0, 7.0, 7.0, 7.0, 6.9, 6.9, 6.8], \"type\": \"box\"}, {\"name\": \"2010\", \"y\": [8.8, 8.3, 8.1, 8.1, 8.0, 8.0, 7.8, 7.8, 7.7, 7.7, 7.7, 7.7, 7.6, 7.6, 7.6, 7.6, 7.6, 7.5, 7.4, 7.4, 7.4, 7.3, 7.3, 7.3, 7.2, 7.2, 7.2, 7.2, 7.1, 7.1, 7.1, 7.1, 7.1, 7.1, 7.0, 7.0, 7.0, 7.0, 7.0, 7.0, 6.9, 6.9, 6.9, 6.9, 6.8, 6.8, 6.8, 6.8, 6.8, 6.8], \"type\": \"box\"}, {\"name\": \"2011\", \"y\": [8.2, 8.1, 8.1, 7.9, 7.8, 7.8, 7.8, 7.7, 7.7, 7.7, 7.6, 7.6, 7.6, 7.5, 7.5, 7.5, 7.5, 7.4, 7.4, 7.4, 7.4, 7.4, 7.4, 7.3, 7.3, 7.3, 7.3, 7.3, 7.2, 7.2, 7.2, 7.2, 7.2, 7.1, 7.1, 7.1, 7.1, 7.1, 7.1, 7.1, 7.1, 7.1, 7.0, 7.0, 7.0, 7.0, 7.0, 7.0, 6.9, 6.9], \"type\": \"box\"}, {\"name\": \"2012\", \"y\": [8.4, 8.4, 8.1, 8.0, 7.9, 7.9, 7.8, 7.8, 7.8, 7.7, 7.7, 7.6, 7.6, 7.6, 7.6, 7.5, 7.4, 7.4, 7.4, 7.4, 7.4, 7.3, 7.3, 7.3, 7.3, 7.3, 7.3, 7.2, 7.2, 7.2, 7.2, 7.2, 7.2, 7.2, 7.1, 7.1, 7.1, 7.1, 7.1, 7.1, 7.1, 7.1, 7.0, 7.0, 7.0, 7.0, 7.0, 7.0, 7.0, 7.0], \"type\": \"box\"}, {\"name\": \"2013\", \"y\": [8.2, 8.1, 8.1, 8.1, 8.0, 8.0, 8.0, 7.9, 7.9, 7.8, 7.8, 7.8, 7.7, 7.7, 7.6, 7.6, 7.5, 7.5, 7.5, 7.5, 7.5, 7.5, 7.5, 7.5, 7.4, 7.4, 7.4, 7.3, 7.3, 7.3, 7.3, 7.3, 7.3, 7.3, 7.2, 7.2, 7.2, 7.2, 7.2, 7.2, 7.1, 7.1, 7.1, 7.1, 7.1, 7.1, 7.1, 7.1, 7.0, 7.0], \"type\": \"box\"}, {\"name\": \"2014\", \"y\": [8.6, 8.5, 8.1, 8.1, 8.1, 8.0, 8.0, 8.0, 7.9, 7.9, 7.9, 7.8, 7.8, 7.8, 7.8, 7.8, 7.7, 7.7, 7.7, 7.6, 7.6, 7.6, 7.5, 7.5, 7.4, 7.4, 7.4, 7.4, 7.3, 7.3, 7.3, 7.3, 7.3, 7.3, 7.2, 7.2, 7.2, 7.1, 7.1, 7.1, 7.1, 7.1, 7.0, 7.0, 7.0, 7.0, 7.0, 7.0, 7.0, 7.0], \"type\": \"box\"}, {\"name\": \"2015\", \"y\": [8.2, 8.2, 8.1, 8.1, 8.0, 8.0, 8.0, 7.9, 7.8, 7.8, 7.8, 7.8, 7.8, 7.6, 7.6, 7.6, 7.5, 7.5, 7.4, 7.4, 7.4, 7.4, 7.3, 7.3, 7.3, 7.3, 7.2, 7.2, 7.2, 7.2, 7.2, 7.2, 7.1, 7.1, 7.1, 7.1, 7.1, 7.1, 7.1, 7.1, 7.1, 7.1, 7.0, 7.0, 7.0, 7.0, 7.0, 7.0, 6.9, 6.9], \"type\": \"box\"}, {\"name\": \"2016\", \"y\": [8.2, 8.1, 8.1, 8.0, 8.0, 8.0, 7.9, 7.9, 7.8, 7.8, 7.8, 7.8, 7.8, 7.6, 7.6, 7.5, 7.5, 7.5, 7.5, 7.5, 7.4, 7.4, 7.4, 7.4, 7.4, 7.4, 7.4, 7.4, 7.4, 7.4, 7.4, 7.4, 7.4, 7.3, 7.3, 7.3, 7.3, 7.3, 7.2, 7.2, 7.2, 7.2, 7.2, 7.2, 7.2, 7.1, 7.1, 7.1, 7.1, 7.1], \"type\": \"box\"}, {\"name\": \"2017\", \"y\": [8.5, 8.2, 8.1, 8.1, 8.0, 8.0, 8.0, 7.9, 7.9, 7.9, 7.8, 7.7, 7.7, 7.7, 7.7, 7.7, 7.6, 7.6, 7.6, 7.6, 7.5, 7.5, 7.5, 7.5, 7.5, 7.5, 7.5, 7.5, 7.4, 7.4, 7.4, 7.4, 7.4, 7.4, 7.3, 7.3, 7.3, 7.3, 7.2, 7.2, 7.2, 7.2, 7.1, 7.1, 7.1, 7.0, 7.0, 7.0, 7.0, 7.0], \"type\": \"box\"}], {\"title\": \"Top 50 Movie Ratings each Year over the Last Decade\", \"xaxis\": {\"title\": \"Year\"}, \"yaxis\": {\"title\": \"Imdb Ratings\"}}, {\"showLink\": false, \"linkText\": \"Export to plot.ly\"})</script>'"
      ]
     },
     "execution_count": 21,
     "metadata": {},
     "output_type": "execute_result"
    }
   ],
   "source": [
    "plotly.offline.plot({'data' : data, 'layout' : layout}, validate=False, show_link=False, include_plotlyjs=False, output_type='div')"
   ]
  },
  {
   "cell_type": "code",
   "execution_count": null,
   "metadata": {
    "collapsed": true
   },
   "outputs": [],
   "source": []
  }
 ],
 "metadata": {
  "kernelspec": {
   "display_name": "Python 3",
   "language": "python",
   "name": "python3"
  },
  "language_info": {
   "codemirror_mode": {
    "name": "ipython",
    "version": 3
   },
   "file_extension": ".py",
   "mimetype": "text/x-python",
   "name": "python",
   "nbconvert_exporter": "python",
   "pygments_lexer": "ipython3",
   "version": "3.6.5"
  }
 },
 "nbformat": 4,
 "nbformat_minor": 2
}
