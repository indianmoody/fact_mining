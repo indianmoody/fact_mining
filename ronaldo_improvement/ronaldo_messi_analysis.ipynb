{
 "cells": [
  {
   "cell_type": "code",
   "execution_count": 1,
   "metadata": {
    "collapsed": true
   },
   "outputs": [],
   "source": [
    "import numpy as np\n",
    "import pandas as pd\n",
    "import matplotlib.pyplot as plt\n",
    "import seaborn as sns"
   ]
  },
  {
   "cell_type": "code",
   "execution_count": 2,
   "metadata": {
    "collapsed": true
   },
   "outputs": [],
   "source": [
    "%matplotlib inline"
   ]
  },
  {
   "cell_type": "code",
   "execution_count": 3,
   "metadata": {
    "collapsed": true
   },
   "outputs": [],
   "source": [
    "sns.set_style('whitegrid')"
   ]
  },
  {
   "cell_type": "code",
   "execution_count": 4,
   "metadata": {
    "collapsed": false
   },
   "outputs": [],
   "source": [
    "df = pd.read_csv('data/ronaldo_messi_stats.csv')"
   ]
  },
  {
   "cell_type": "code",
   "execution_count": 5,
   "metadata": {
    "collapsed": false
   },
   "outputs": [
    {
     "data": {
      "text/html": [
       "<div>\n",
       "<style scoped>\n",
       "    .dataframe tbody tr th:only-of-type {\n",
       "        vertical-align: middle;\n",
       "    }\n",
       "\n",
       "    .dataframe tbody tr th {\n",
       "        vertical-align: top;\n",
       "    }\n",
       "\n",
       "    .dataframe thead th {\n",
       "        text-align: right;\n",
       "    }\n",
       "</style>\n",
       "<table border=\"1\" class=\"dataframe\">\n",
       "  <thead>\n",
       "    <tr style=\"text-align: right;\">\n",
       "      <th></th>\n",
       "      <th>clubr</th>\n",
       "      <th>age</th>\n",
       "      <th>mpr</th>\n",
       "      <th>gsr</th>\n",
       "      <th>astr</th>\n",
       "      <th>mpm</th>\n",
       "      <th>gsm</th>\n",
       "      <th>astm</th>\n",
       "    </tr>\n",
       "  </thead>\n",
       "  <tbody>\n",
       "    <tr>\n",
       "      <th>0</th>\n",
       "      <td>Manchester United</td>\n",
       "      <td>19</td>\n",
       "      <td>40</td>\n",
       "      <td>6</td>\n",
       "      <td>7</td>\n",
       "      <td>25</td>\n",
       "      <td>8</td>\n",
       "      <td>3</td>\n",
       "    </tr>\n",
       "    <tr>\n",
       "      <th>1</th>\n",
       "      <td>Manchester United</td>\n",
       "      <td>20</td>\n",
       "      <td>50</td>\n",
       "      <td>9</td>\n",
       "      <td>8</td>\n",
       "      <td>36</td>\n",
       "      <td>17</td>\n",
       "      <td>3</td>\n",
       "    </tr>\n",
       "    <tr>\n",
       "      <th>2</th>\n",
       "      <td>Manchester United</td>\n",
       "      <td>21</td>\n",
       "      <td>47</td>\n",
       "      <td>12</td>\n",
       "      <td>8</td>\n",
       "      <td>40</td>\n",
       "      <td>16</td>\n",
       "      <td>13</td>\n",
       "    </tr>\n",
       "    <tr>\n",
       "      <th>3</th>\n",
       "      <td>Manchester United</td>\n",
       "      <td>22</td>\n",
       "      <td>53</td>\n",
       "      <td>23</td>\n",
       "      <td>15</td>\n",
       "      <td>51</td>\n",
       "      <td>38</td>\n",
       "      <td>17</td>\n",
       "    </tr>\n",
       "    <tr>\n",
       "      <th>4</th>\n",
       "      <td>Manchester United</td>\n",
       "      <td>23</td>\n",
       "      <td>49</td>\n",
       "      <td>42</td>\n",
       "      <td>7</td>\n",
       "      <td>53</td>\n",
       "      <td>47</td>\n",
       "      <td>11</td>\n",
       "    </tr>\n",
       "    <tr>\n",
       "      <th>5</th>\n",
       "      <td>Manchester United</td>\n",
       "      <td>24</td>\n",
       "      <td>53</td>\n",
       "      <td>26</td>\n",
       "      <td>9</td>\n",
       "      <td>55</td>\n",
       "      <td>53</td>\n",
       "      <td>23</td>\n",
       "    </tr>\n",
       "    <tr>\n",
       "      <th>6</th>\n",
       "      <td>Real Madrid</td>\n",
       "      <td>25</td>\n",
       "      <td>35</td>\n",
       "      <td>33</td>\n",
       "      <td>7</td>\n",
       "      <td>60</td>\n",
       "      <td>73</td>\n",
       "      <td>29</td>\n",
       "    </tr>\n",
       "    <tr>\n",
       "      <th>7</th>\n",
       "      <td>Real Madrid</td>\n",
       "      <td>26</td>\n",
       "      <td>54</td>\n",
       "      <td>53</td>\n",
       "      <td>15</td>\n",
       "      <td>50</td>\n",
       "      <td>60</td>\n",
       "      <td>15</td>\n",
       "    </tr>\n",
       "    <tr>\n",
       "      <th>8</th>\n",
       "      <td>Real Madrid</td>\n",
       "      <td>27</td>\n",
       "      <td>55</td>\n",
       "      <td>60</td>\n",
       "      <td>15</td>\n",
       "      <td>46</td>\n",
       "      <td>41</td>\n",
       "      <td>14</td>\n",
       "    </tr>\n",
       "    <tr>\n",
       "      <th>9</th>\n",
       "      <td>Real Madrid</td>\n",
       "      <td>28</td>\n",
       "      <td>55</td>\n",
       "      <td>55</td>\n",
       "      <td>12</td>\n",
       "      <td>57</td>\n",
       "      <td>58</td>\n",
       "      <td>27</td>\n",
       "    </tr>\n",
       "    <tr>\n",
       "      <th>10</th>\n",
       "      <td>Real Madrid</td>\n",
       "      <td>29</td>\n",
       "      <td>47</td>\n",
       "      <td>51</td>\n",
       "      <td>14</td>\n",
       "      <td>49</td>\n",
       "      <td>41</td>\n",
       "      <td>23</td>\n",
       "    </tr>\n",
       "    <tr>\n",
       "      <th>11</th>\n",
       "      <td>Real Madrid</td>\n",
       "      <td>30</td>\n",
       "      <td>54</td>\n",
       "      <td>61</td>\n",
       "      <td>21</td>\n",
       "      <td>52</td>\n",
       "      <td>54</td>\n",
       "      <td>16</td>\n",
       "    </tr>\n",
       "    <tr>\n",
       "      <th>12</th>\n",
       "      <td>Real Madrid</td>\n",
       "      <td>31</td>\n",
       "      <td>48</td>\n",
       "      <td>51</td>\n",
       "      <td>15</td>\n",
       "      <td>54</td>\n",
       "      <td>45</td>\n",
       "      <td>18</td>\n",
       "    </tr>\n",
       "  </tbody>\n",
       "</table>\n",
       "</div>"
      ],
      "text/plain": [
       "                clubr  age  mpr  gsr  astr  mpm  gsm  astm\n",
       "0   Manchester United   19   40    6     7   25    8     3\n",
       "1   Manchester United   20   50    9     8   36   17     3\n",
       "2   Manchester United   21   47   12     8   40   16    13\n",
       "3   Manchester United   22   53   23    15   51   38    17\n",
       "4   Manchester United   23   49   42     7   53   47    11\n",
       "5   Manchester United   24   53   26     9   55   53    23\n",
       "6         Real Madrid   25   35   33     7   60   73    29\n",
       "7         Real Madrid   26   54   53    15   50   60    15\n",
       "8         Real Madrid   27   55   60    15   46   41    14\n",
       "9         Real Madrid   28   55   55    12   57   58    27\n",
       "10        Real Madrid   29   47   51    14   49   41    23\n",
       "11        Real Madrid   30   54   61    21   52   54    16\n",
       "12        Real Madrid   31   48   51    15   54   45    18"
      ]
     },
     "execution_count": 5,
     "metadata": {},
     "output_type": "execute_result"
    }
   ],
   "source": [
    "df"
   ]
  },
  {
   "cell_type": "markdown",
   "metadata": {},
   "source": [
    "Goals scored per season for club with age."
   ]
  },
  {
   "cell_type": "code",
   "execution_count": 6,
   "metadata": {
    "collapsed": false
   },
   "outputs": [
    {
     "data": {
      "text/plain": [
       "<matplotlib.legend.Legend at 0x1a1e209ba8>"
      ]
     },
     "execution_count": 6,
     "metadata": {},
     "output_type": "execute_result"
    },
    {
     "data": {
      "image/png": "[encoded data removed]",
      "text/plain": [
       "<matplotlib.figure.Figure at 0x1a12c614a8>"
      ]
     },
     "metadata": {},
     "output_type": "display_data"
    }
   ],
   "source": [
    "plt.figure(figsize=(10,6))\n",
    "plt.plot(df['age'], df['gsr'], c = 'black', label='Ronaldo')\n",
    "plt.plot(df['age'], df['gsm'], c = 'blue', label='Messi')\n",
    "plt.legend()"
   ]
  },
  {
   "cell_type": "markdown",
   "metadata": {},
   "source": [
    "Goals scored per match per season for club with age."
   ]
  },
  {
   "cell_type": "code",
   "execution_count": 7,
   "metadata": {
    "collapsed": false
   },
   "outputs": [
    {
     "data": {
      "text/plain": [
       "<matplotlib.legend.Legend at 0x1a1e2c6be0>"
      ]
     },
     "execution_count": 7,
     "metadata": {},
     "output_type": "execute_result"
    },
    {
     "data": {
      "image/png": "[encoded data removed]",
      "text/plain": [
       "<matplotlib.figure.Figure at 0x1a1e2b65f8>"
      ]
     },
     "metadata": {},
     "output_type": "display_data"
    }
   ],
   "source": [
    "plt.figure(figsize=(10,6))\n",
    "plt.plot(df['age'], df['gsr']/df['mpr'], c = 'black', label='Ronaldo')\n",
    "plt.plot(df['age'], df['gsm']/df['mpm'], c = 'blue', label='Messi')\n",
    "plt.legend()"
   ]
  },
  {
   "cell_type": "markdown",
   "metadata": {},
   "source": [
    "Assists provided per season for club with age."
   ]
  },
  {
   "cell_type": "code",
   "execution_count": 8,
   "metadata": {
    "collapsed": false
   },
   "outputs": [
    {
     "data": {
      "text/plain": [
       "<matplotlib.legend.Legend at 0x1a1e5daba8>"
      ]
     },
     "execution_count": 8,
     "metadata": {},
     "output_type": "execute_result"
    },
    {
     "data": {
      "image/png": "[encoded data removed]",
      "text/plain": [
       "<matplotlib.figure.Figure at 0x1a1e4915c0>"
      ]
     },
     "metadata": {},
     "output_type": "display_data"
    }
   ],
   "source": [
    "plt.figure(figsize=(10,6))\n",
    "plt.plot(df['age'], df['astr'], c = 'black', label='Ronaldo')\n",
    "plt.plot(df['age'], df['astm'], c = 'blue', label='Messi')\n",
    "plt.legend()"
   ]
  },
  {
   "cell_type": "markdown",
   "metadata": {},
   "source": [
    "Assists provided per match per season for club with age."
   ]
  },
  {
   "cell_type": "code",
   "execution_count": 9,
   "metadata": {
    "collapsed": false
   },
   "outputs": [
    {
     "data": {
      "text/plain": [
       "<matplotlib.legend.Legend at 0x1a1e61f668>"
      ]
     },
     "execution_count": 9,
     "metadata": {},
     "output_type": "execute_result"
    },
    {
     "data": {
      "image/png": "[encoded data removed]",
      "text/plain": [
       "<matplotlib.figure.Figure at 0x1a1e61f6a0>"
      ]
     },
     "metadata": {},
     "output_type": "display_data"
    }
   ],
   "source": [
    "plt.figure(figsize=(10,6))\n",
    "plt.plot(df['age'], df['astr']/df['mpr'], c = 'black', label='Ronaldo')\n",
    "plt.plot(df['age'], df['astm']/df['mpm'], c = 'blue', label='Messi')\n",
    "plt.legend()"
   ]
  },
  {
   "cell_type": "markdown",
   "metadata": {},
   "source": [
    "Ronaldo was always behind Messi in goals and assists while in Manchester United. But he has significantly reduced the gap."
   ]
  },
  {
   "cell_type": "code",
   "execution_count": 20,
   "metadata": {
    "collapsed": true
   },
   "outputs": [],
   "source": [
    "def bootstrap_mean_diff(x, y):\n",
    "    meanx = np.mean(np.random.choice(x, size=len(x)))\n",
    "    meany = np.mean(np.random.choice(y, size=len(y)))\n",
    "    return meany - meanx"
   ]
  },
  {
   "cell_type": "code",
   "execution_count": 21,
   "metadata": {
    "collapsed": true
   },
   "outputs": [],
   "source": [
    "#Manchester United dataset\n",
    "mu_df = df[df['clubr'] == \"Manchester United\"]\n",
    "#Real Madrid dataset\n",
    "rm_df = df[df['clubr'] == \"Real Madrid\"]"
   ]
  },
  {
   "cell_type": "code",
   "execution_count": 55,
   "metadata": {
    "collapsed": true
   },
   "outputs": [],
   "source": [
    "mu_gs_replicates = np.empty(10000)\n",
    "rm_gs_replicates = np.empty(10000)\n",
    "\n",
    "ronaldo_mu_ratio = mu_df['gsr']/mu_df['mpr']\n",
    "ronaldo_mu_mean = ronaldo_mu_ratio.mean()\n",
    "ronaldo_rm_ratio = rm_df['gsr']/rm_df['mpr']\n",
    "ronaldo_rm_mean = ronaldo_rm_ratio.mean()\n",
    "\n",
    "messi_mu_ratio = mu_df['gsm']/mu_df['mpm']\n",
    "messi_mu_mean = messi_mu_ratio.mean()\n",
    "messi_rm_ratio = rm_df['gsm']/rm_df['mpm']\n",
    "messi_rm_mean = messi_rm_ratio.mean()\n",
    "\n",
    "mu_gs_mean_diff = messi_mu_mean - ronaldo_mu_mean\n",
    "rm_gs_mean_diff = messi_rm_mean - ronaldo_rm_mean"
   ]
  },
  {
   "cell_type": "code",
   "execution_count": 56,
   "metadata": {
    "collapsed": true
   },
   "outputs": [],
   "source": [
    "# Shift means for hypothesis testing that both Roanldo and Messi have same average goals per game ratio.\n",
    "ronaldo_messi_mu_ratio = np.concatenate([ronaldo_mu_ratio, messi_mu_ratio])\n",
    "ronaldo_messi_rm_ratio = np.concatenate([ronaldo_rm_ratio, messi_rm_ratio])\n",
    "ronaldo_messi_mu_mean = ronaldo_messi_mu_ratio.mean()\n",
    "ronaldo_messi_rm_mean = ronaldo_messi_rm_ratio.mean()\n",
    "\n",
    "ronaldo_mu_ratio_shifted = ronaldo_mu_ratio - ronaldo_mu_mean + ronaldo_messi_mu_mean\n",
    "messi_mu_ratio_shifted = messi_mu_ratio - messi_mu_mean + ronaldo_messi_mu_mean\n",
    "\n",
    "ronaldo_rm_ratio_shifted = ronaldo_rm_ratio - ronaldo_rm_mean + ronaldo_messi_rm_mean\n",
    "messi_rm_ratio_shifted = messi_rm_ratio - messi_rm_mean + ronaldo_messi_rm_mean"
   ]
  },
  {
   "cell_type": "code",
   "execution_count": 57,
   "metadata": {
    "collapsed": false
   },
   "outputs": [],
   "source": [
    "for i in range(10000):\n",
    "    temp_diff_mu = bootstrap_mean_diff(ronaldo_mu_ratio_shifted, messi_mu_ratio_shifted)\n",
    "    mu_gs_replicates[i] = temp_diff_mu\n",
    "    temp_diff_rm = bootstrap_mean_diff(ronaldo_rm_ratio_shifted, messi_rm_ratio_shifted)\n",
    "    rm_gs_replicates[i] = temp_diff_rm"
   ]
  },
  {
   "cell_type": "code",
   "execution_count": null,
   "metadata": {
    "collapsed": true
   },
   "outputs": [],
   "source": []
  },
  {
   "cell_type": "code",
   "execution_count": 63,
   "metadata": {
    "collapsed": false
   },
   "outputs": [
    {
     "data": {
      "text/plain": [
       "0.23679312832310673"
      ]
     },
     "execution_count": 63,
     "metadata": {},
     "output_type": "execute_result"
    }
   ],
   "source": [
    "mu_gs_mean_diff"
   ]
  },
  {
   "cell_type": "code",
   "execution_count": 64,
   "metadata": {
    "collapsed": false
   },
   "outputs": [
    {
     "data": {
      "text/plain": [
       "-0.03691989829168141"
      ]
     },
     "execution_count": 64,
     "metadata": {},
     "output_type": "execute_result"
    }
   ],
   "source": [
    "rm_gs_mean_diff"
   ]
  },
  {
   "cell_type": "code",
   "execution_count": 60,
   "metadata": {
    "collapsed": false
   },
   "outputs": [
    {
     "data": {
      "text/plain": [
       "0.044999999999999998"
      ]
     },
     "execution_count": 60,
     "metadata": {},
     "output_type": "execute_result"
    }
   ],
   "source": [
    "np.sum(mu_gs_replicates >= mu_gs_mean_diff) / 10000"
   ]
  },
  {
   "cell_type": "markdown",
   "metadata": {},
   "source": [
    "So, with significance level of 0.05, Messi had significantly better goals per game ratio in Ronaldo MU age era."
   ]
  },
  {
   "cell_type": "code",
   "execution_count": 65,
   "metadata": {
    "collapsed": false
   },
   "outputs": [
    {
     "data": {
      "text/plain": [
       "0.28620000000000001"
      ]
     },
     "execution_count": 65,
     "metadata": {},
     "output_type": "execute_result"
    }
   ],
   "source": [
    "np.sum(rm_gs_replicates < rm_gs_mean_diff) / 10000"
   ]
  },
  {
   "cell_type": "markdown",
   "metadata": {},
   "source": [
    "No significant difference between goals per game ratio between Ronaldo and Messi in Ronaldo RM era."
   ]
  },
  {
   "cell_type": "markdown",
   "metadata": {},
   "source": [
    "##### Thus joining Real Madrid has helped increase Ronaldo's goalscoring rate."
   ]
  },
  {
   "cell_type": "code",
   "execution_count": null,
   "metadata": {
    "collapsed": true
   },
   "outputs": [],
   "source": []
  },
  {
   "cell_type": "code",
   "execution_count": null,
   "metadata": {
    "collapsed": true
   },
   "outputs": [],
   "source": []
  },
  {
   "cell_type": "code",
   "execution_count": 67,
   "metadata": {
    "collapsed": true
   },
   "outputs": [],
   "source": [
    "ronaldo_gs_mu_rm_replicates = np.empty(10000)"
   ]
  },
  {
   "cell_type": "code",
   "execution_count": 73,
   "metadata": {
    "collapsed": false
   },
   "outputs": [
    {
     "data": {
      "text/plain": [
       "0.6472850050327541"
      ]
     },
     "execution_count": 73,
     "metadata": {},
     "output_type": "execute_result"
    }
   ],
   "source": [
    "ronaldo_mu_rm_diff_mean = ronaldo_rm_mean - ronaldo_mu_mean\n",
    "ronaldo_mu_rm_diff_mean"
   ]
  },
  {
   "cell_type": "code",
   "execution_count": 70,
   "metadata": {
    "collapsed": true
   },
   "outputs": [],
   "source": [
    "ronaldo_rm_shifted = ronaldo_rm_ratio - ronaldo_rm_mean + (df['gsr']/df['mpr']).mean()\n",
    "ronaldo_mu_shifted = ronaldo_mu_ratio - ronaldo_mu_mean + (df['gsr']/df['mpr']).mean()"
   ]
  },
  {
   "cell_type": "code",
   "execution_count": 71,
   "metadata": {
    "collapsed": true
   },
   "outputs": [],
   "source": [
    "for i in range(10000):\n",
    "    temp = bootstrap_mean_diff(ronaldo_mu_shifted, ronaldo_rm_shifted)\n",
    "    ronaldo_gs_mu_rm_replicates[i] = temp"
   ]
  },
  {
   "cell_type": "code",
   "execution_count": 72,
   "metadata": {
    "collapsed": false
   },
   "outputs": [
    {
     "data": {
      "text/plain": [
       "0.0"
      ]
     },
     "execution_count": 72,
     "metadata": {},
     "output_type": "execute_result"
    }
   ],
   "source": [
    "np.sum(ronaldo_gs_mu_rm_replicates >= ronaldo_mu_rm_diff_mean) / 10000"
   ]
  },
  {
   "cell_type": "markdown",
   "metadata": {},
   "source": [
    "##### Ronaldo's goalscoring rate has been improved significantly after joining Real Madrid with almost 100% confidence interval."
   ]
  },
  {
   "cell_type": "code",
   "execution_count": null,
   "metadata": {
    "collapsed": false
   },
   "outputs": [],
   "source": []
  },
  {
   "cell_type": "markdown",
   "metadata": {
    "collapsed": true
   },
   "source": [
    "### Visualization"
   ]
  },
  {
   "cell_type": "code",
   "execution_count": 6,
   "metadata": {
    "collapsed": true
   },
   "outputs": [],
   "source": [
    "import plotly\n",
    "import plotly.graph_objs as go\n",
    "from plotly import tools"
   ]
  },
  {
   "cell_type": "code",
   "execution_count": 7,
   "metadata": {
    "collapsed": false
   },
   "outputs": [
    {
     "data": {
      "text/html": [
       "<script>requirejs.config({paths: { 'plotly': ['https://cdn.plot.ly/plotly-latest.min']},});if(!window.Plotly) {{require(['plotly'],function(plotly) {window.Plotly=plotly;});}}</script>"
      ],
      "text/vnd.plotly.v1+html": [
       "<script>requirejs.config({paths: { 'plotly': ['https://cdn.plot.ly/plotly-latest.min']},});if(!window.Plotly) {{require(['plotly'],function(plotly) {window.Plotly=plotly;});}}</script>"
      ]
     },
     "metadata": {},
     "output_type": "display_data"
    }
   ],
   "source": [
    "plotly.offline.init_notebook_mode(connected=True)"
   ]
  },
  {
   "cell_type": "markdown",
   "metadata": {},
   "source": [
    "### Ronaldo vs Messi goals per match"
   ]
  },
  {
   "cell_type": "code",
   "execution_count": 8,
   "metadata": {
    "collapsed": false
   },
   "outputs": [
    {
     "data": {
      "application/vnd.plotly.v1+json": {
       "data": [
        {
         "line": {
          "color": "#c6152a"
         },
         "name": "Ronaldo",
         "type": "scatter",
         "uid": "e0c84ada-ceeb-11e8-ab98-784f438dbc8b",
         "x": [
          19,
          20,
          21,
          22,
          23,
          24,
          25,
          26,
          27,
          28,
          29,
          30,
          31
         ],
         "y": [
          0.15,
          0.18,
          0.2553191489361702,
          0.4339622641509434,
          0.8571428571428571,
          0.49056603773584906,
          0.9428571428571428,
          0.9814814814814815,
          1.0909090909090908,
          1,
          1.0851063829787233,
          1.1296296296296295,
          1.0625
         ]
        },
        {
         "line": {
          "color": "#5861e2"
         },
         "name": "Messi",
         "type": "scatter",
         "uid": "e0c97950-ceeb-11e8-91ec-784f438dbc8b",
         "x": [
          19,
          20,
          21,
          22,
          23,
          24,
          25,
          26,
          27,
          28,
          29,
          30,
          31
         ],
         "y": [
          0.32,
          0.4722222222222222,
          0.4,
          0.7450980392156863,
          0.8867924528301887,
          0.9636363636363636,
          1.2166666666666666,
          1.2,
          0.8913043478260869,
          1.0175438596491229,
          0.8367346938775511,
          1.0384615384615385,
          0.8333333333333334
         ]
        }
       ],
       "layout": {
        "shapes": [
         {
          "fillcolor": "#d82d2d",
          "line": {
           "width": 0
          },
          "opacity": 0.2,
          "type": "rect",
          "x0": 19,
          "x1": 24,
          "xref": "x",
          "y0": 0,
          "y1": 1,
          "yref": "paper"
         }
        ],
        "title": "Ronaldo vs Messi: Goals Scored Per Match",
        "xaxis": {
         "showgrid": false,
         "title": "Age"
        },
        "yaxis": {
         "showgrid": false,
         "title": "Goals Per Match"
        }
       }
      },
      "text/html": [
       "<div id=\"db5a72c4-99cb-4f63-99b6-e11a5aa85d0a\" style=\"height: 525px; width: 100%;\" class=\"plotly-graph-div\"></div><script type=\"text/javascript\">require([\"plotly\"], function(Plotly) { window.PLOTLYENV=window.PLOTLYENV || {};window.PLOTLYENV.BASE_URL=\"https://plot.ly\";Plotly.newPlot(\"db5a72c4-99cb-4f63-99b6-e11a5aa85d0a\", [{\"line\": {\"color\": \"#c6152a\"}, \"name\": \"Ronaldo\", \"x\": [19.0, 20.0, 21.0, 22.0, 23.0, 24.0, 25.0, 26.0, 27.0, 28.0, 29.0, 30.0, 31.0], \"y\": [0.15, 0.18, 0.2553191489361702, 0.4339622641509434, 0.8571428571428571, 0.49056603773584906, 0.9428571428571428, 0.9814814814814815, 1.0909090909090908, 1.0, 1.0851063829787233, 1.1296296296296295, 1.0625], \"type\": \"scatter\", \"uid\": \"e14c5442-ceeb-11e8-b537-784f438dbc8b\"}, {\"line\": {\"color\": \"#5861e2\"}, \"name\": \"Messi\", \"x\": [19.0, 20.0, 21.0, 22.0, 23.0, 24.0, 25.0, 26.0, 27.0, 28.0, 29.0, 30.0, 31.0], \"y\": [0.32, 0.4722222222222222, 0.4, 0.7450980392156863, 0.8867924528301887, 0.9636363636363636, 1.2166666666666666, 1.2, 0.8913043478260869, 1.0175438596491229, 0.8367346938775511, 1.0384615384615385, 0.8333333333333334], \"type\": \"scatter\", \"uid\": \"e14c55fa-ceeb-11e8-b309-784f438dbc8b\"}], {\"shapes\": [{\"fillcolor\": \"#d82d2d\", \"line\": {\"width\": 0}, \"opacity\": 0.2, \"type\": \"rect\", \"x0\": 19, \"x1\": 24, \"xref\": \"x\", \"y0\": 0, \"y1\": 1, \"yref\": \"paper\"}], \"title\": \"Ronaldo vs Messi: Goals Scored Per Match\", \"xaxis\": {\"showgrid\": false, \"title\": \"Age\"}, \"yaxis\": {\"showgrid\": false, \"title\": \"Goals Per Match\"}}, {\"showLink\": true, \"linkText\": \"Export to plot.ly\"})});</script>"
      ],
      "text/vnd.plotly.v1+html": [
       "<div id=\"db5a72c4-99cb-4f63-99b6-e11a5aa85d0a\" style=\"height: 525px; width: 100%;\" class=\"plotly-graph-div\"></div><script type=\"text/javascript\">require([\"plotly\"], function(Plotly) { window.PLOTLYENV=window.PLOTLYENV || {};window.PLOTLYENV.BASE_URL=\"https://plot.ly\";Plotly.newPlot(\"db5a72c4-99cb-4f63-99b6-e11a5aa85d0a\", [{\"line\": {\"color\": \"#c6152a\"}, \"name\": \"Ronaldo\", \"x\": [19.0, 20.0, 21.0, 22.0, 23.0, 24.0, 25.0, 26.0, 27.0, 28.0, 29.0, 30.0, 31.0], \"y\": [0.15, 0.18, 0.2553191489361702, 0.4339622641509434, 0.8571428571428571, 0.49056603773584906, 0.9428571428571428, 0.9814814814814815, 1.0909090909090908, 1.0, 1.0851063829787233, 1.1296296296296295, 1.0625], \"type\": \"scatter\", \"uid\": \"e14c5442-ceeb-11e8-b537-784f438dbc8b\"}, {\"line\": {\"color\": \"#5861e2\"}, \"name\": \"Messi\", \"x\": [19.0, 20.0, 21.0, 22.0, 23.0, 24.0, 25.0, 26.0, 27.0, 28.0, 29.0, 30.0, 31.0], \"y\": [0.32, 0.4722222222222222, 0.4, 0.7450980392156863, 0.8867924528301887, 0.9636363636363636, 1.2166666666666666, 1.2, 0.8913043478260869, 1.0175438596491229, 0.8367346938775511, 1.0384615384615385, 0.8333333333333334], \"type\": \"scatter\", \"uid\": \"e14c55fa-ceeb-11e8-b309-784f438dbc8b\"}], {\"shapes\": [{\"fillcolor\": \"#d82d2d\", \"line\": {\"width\": 0}, \"opacity\": 0.2, \"type\": \"rect\", \"x0\": 19, \"x1\": 24, \"xref\": \"x\", \"y0\": 0, \"y1\": 1, \"yref\": \"paper\"}], \"title\": \"Ronaldo vs Messi: Goals Scored Per Match\", \"xaxis\": {\"showgrid\": false, \"title\": \"Age\"}, \"yaxis\": {\"showgrid\": false, \"title\": \"Goals Per Match\"}}, {\"showLink\": true, \"linkText\": \"Export to plot.ly\"})});</script>"
      ]
     },
     "metadata": {},
     "output_type": "display_data"
    }
   ],
   "source": [
    "trace0 = go.Scatter(x=df['age'], y=df['gsr']/df['mpr'], name='Ronaldo', line=dict(color='#c6152a'))\n",
    "trace1 = go.Scatter(x=df['age'], y=df['gsm']/df['mpm'], name='Messi', line=dict(color='#5861e2'))\n",
    "data = [trace0, trace1]\n",
    "\n",
    "layout = {\n",
    "    \n",
    "    'title': 'Ronaldo vs Messi: Goals Scored Per Match',\n",
    "    'xaxis': {'showgrid': False, 'title': 'Age'},\n",
    "    'yaxis': {'showgrid':False, 'title': 'Goals Per Match'},\n",
    "    \n",
    "    'shapes': [\n",
    "        {\n",
    "            'type': 'rect',\n",
    "            # x-reference is assigned to the x-values\n",
    "            'xref': 'x',\n",
    "            # y-reference is assigned to the plot paper [0,1]\n",
    "            'yref': 'paper',\n",
    "            'x0': 19,\n",
    "            'y0': 0,\n",
    "            'x1': 24,\n",
    "            'y1': 1,\n",
    "            'fillcolor': '#d82d2d',\n",
    "            'opacity': 0.2,\n",
    "            'line': {\n",
    "                'width': 0,\n",
    "            }\n",
    "        }\n",
    "    ]\n",
    "}\n",
    "\n",
    "plotly.offline.iplot({'data' : data, 'layout' : layout})"
   ]
  },
  {
   "cell_type": "code",
   "execution_count": 10,
   "metadata": {
    "collapsed": false
   },
   "outputs": [],
   "source": [
    "# to save svg image of above graph\n",
    "#plotly.offline.iplot({'data' : data, 'layout' : layout}, validate=False, show_link=False, image='jpeg', image_width=1200, image_height=600)"
   ]
  },
  {
   "cell_type": "code",
   "execution_count": 30,
   "metadata": {
    "collapsed": false
   },
   "outputs": [
    {
     "data": {
      "text/plain": [
       "'<div id=\"deac1440-afc6-4609-b797-6dc289f0bf2f\" style=\"height: 100%; width: 100%;\" class=\"plotly-graph-div\"></div><script type=\"text/javascript\">window.PLOTLYENV=window.PLOTLYENV || {};window.PLOTLYENV.BASE_URL=\"https://plot.ly\";Plotly.newPlot(\"deac1440-afc6-4609-b797-6dc289f0bf2f\", [{\"line\": {\"color\": \"#c6152a\"}, \"name\": \"Ronaldo\", \"x\": [19, 20, 21, 22, 23, 24, 25, 26, 27, 28, 29, 30, 31], \"y\": [0.15, 0.18, 0.2553191489361702, 0.4339622641509434, 0.8571428571428571, 0.49056603773584906, 0.9428571428571428, 0.9814814814814815, 1.0909090909090908, 1.0, 1.0851063829787233, 1.1296296296296295, 1.0625], \"type\": \"scatter\"}, {\"line\": {\"color\": \"#5861e2\"}, \"name\": \"Messi\", \"x\": [19, 20, 21, 22, 23, 24, 25, 26, 27, 28, 29, 30, 31], \"y\": [0.32, 0.4722222222222222, 0.4, 0.7450980392156863, 0.8867924528301887, 0.9636363636363636, 1.2166666666666666, 1.2, 0.8913043478260869, 1.0175438596491229, 0.8367346938775511, 1.0384615384615385, 0.8333333333333334], \"type\": \"scatter\"}], {\"title\": \"Ronaldo vs Messi: Goals Scored Per Match\", \"xaxis\": {\"showgrid\": false, \"title\": \"Age\"}, \"yaxis\": {\"showgrid\": false, \"title\": \"Goals Per Match\"}, \"shapes\": [{\"type\": \"rect\", \"xref\": \"x\", \"yref\": \"paper\", \"x0\": 19, \"y0\": 0, \"x1\": 24, \"y1\": 1, \"fillcolor\": \"#d82d2d\", \"opacity\": 0.2, \"line\": {\"width\": 0}}]}, {\"showLink\": false, \"linkText\": \"Export to plot.ly\"})</script>'"
      ]
     },
     "execution_count": 30,
     "metadata": {},
     "output_type": "execute_result"
    }
   ],
   "source": [
    "plotly.offline.plot({'data' : data, 'layout' : layout}, validate=False, show_link=False, include_plotlyjs=False, output_type='div')"
   ]
  },
  {
   "cell_type": "code",
   "execution_count": null,
   "metadata": {
    "collapsed": true
   },
   "outputs": [],
   "source": []
  },
  {
   "cell_type": "markdown",
   "metadata": {},
   "source": [
    "### Ronaldo vs Messi: Assists Per Match"
   ]
  },
  {
   "cell_type": "code",
   "execution_count": 33,
   "metadata": {
    "collapsed": false
   },
   "outputs": [
    {
     "data": {
      "application/vnd.plotly.v1+json": {
       "data": [
        {
         "line": {
          "color": "#c6152a"
         },
         "name": "Ronaldo",
         "type": "scatter",
         "uid": "75f11f1c-cd19-11e8-a410-784f438dbc8b",
         "x": [
          19,
          20,
          21,
          22,
          23,
          24,
          25,
          26,
          27,
          28,
          29,
          30,
          31
         ],
         "y": [
          0.175,
          0.16,
          0.1702127659574468,
          0.2830188679245283,
          0.14285714285714285,
          0.16981132075471697,
          0.2,
          0.2777777777777778,
          0.2727272727272727,
          0.21818181818181817,
          0.2978723404255319,
          0.3888888888888889,
          0.3125
         ]
        },
        {
         "line": {
          "color": "#5861e2"
         },
         "name": "Messi",
         "type": "scatter",
         "uid": "75f120a2-cd19-11e8-bdc1-784f438dbc8b",
         "x": [
          19,
          20,
          21,
          22,
          23,
          24,
          25,
          26,
          27,
          28,
          29,
          30,
          31
         ],
         "y": [
          0.12,
          0.08333333333333333,
          0.325,
          0.3333333333333333,
          0.20754716981132076,
          0.41818181818181815,
          0.48333333333333334,
          0.3,
          0.30434782608695654,
          0.47368421052631576,
          0.46938775510204084,
          0.3076923076923077,
          0.3333333333333333
         ]
        }
       ],
       "layout": {
        "shapes": [
         {
          "fillcolor": "#d82d2d",
          "line": {
           "width": 0
          },
          "opacity": 0.2,
          "type": "rect",
          "x0": 19,
          "x1": 24,
          "xref": "x",
          "y0": 0,
          "y1": 1,
          "yref": "paper"
         }
        ],
        "title": "Ronaldo vs Messi: Assists Provided Per Match",
        "xaxis": {
         "showgrid": false,
         "title": "Age"
        },
        "yaxis": {
         "showgrid": false,
         "title": "Assists Per Match"
        }
       }
      },
      "text/html": [
       "<div id=\"a0392a04-df34-4614-86ba-1db8df1d7328\" style=\"height: 525px; width: 100%;\" class=\"plotly-graph-div\"></div><script type=\"text/javascript\">require([\"plotly\"], function(Plotly) { window.PLOTLYENV=window.PLOTLYENV || {};window.PLOTLYENV.BASE_URL=\"https://plot.ly\";Plotly.newPlot(\"a0392a04-df34-4614-86ba-1db8df1d7328\", [{\"line\": {\"color\": \"#c6152a\"}, \"name\": \"Ronaldo\", \"x\": [19.0, 20.0, 21.0, 22.0, 23.0, 24.0, 25.0, 26.0, 27.0, 28.0, 29.0, 30.0, 31.0], \"y\": [0.175, 0.16, 0.1702127659574468, 0.2830188679245283, 0.14285714285714285, 0.16981132075471697, 0.2, 0.2777777777777778, 0.2727272727272727, 0.21818181818181817, 0.2978723404255319, 0.3888888888888889, 0.3125], \"type\": \"scatter\", \"uid\": \"75f5e8c6-cd19-11e8-9492-784f438dbc8b\"}, {\"line\": {\"color\": \"#5861e2\"}, \"name\": \"Messi\", \"x\": [19.0, 20.0, 21.0, 22.0, 23.0, 24.0, 25.0, 26.0, 27.0, 28.0, 29.0, 30.0, 31.0], \"y\": [0.12, 0.08333333333333333, 0.325, 0.3333333333333333, 0.20754716981132076, 0.41818181818181815, 0.48333333333333334, 0.3, 0.30434782608695654, 0.47368421052631576, 0.46938775510204084, 0.3076923076923077, 0.3333333333333333], \"type\": \"scatter\", \"uid\": \"75f5ea58-cd19-11e8-97f1-784f438dbc8b\"}], {\"shapes\": [{\"fillcolor\": \"#d82d2d\", \"line\": {\"width\": 0}, \"opacity\": 0.2, \"type\": \"rect\", \"x0\": 19, \"x1\": 24, \"xref\": \"x\", \"y0\": 0, \"y1\": 1, \"yref\": \"paper\"}], \"title\": \"Ronaldo vs Messi: Assists Provided Per Match\", \"xaxis\": {\"showgrid\": false, \"title\": \"Age\"}, \"yaxis\": {\"showgrid\": false, \"title\": \"Assists Per Match\"}}, {\"showLink\": true, \"linkText\": \"Export to plot.ly\"})});</script>"
      ],
      "text/vnd.plotly.v1+html": [
       "<div id=\"a0392a04-df34-4614-86ba-1db8df1d7328\" style=\"height: 525px; width: 100%;\" class=\"plotly-graph-div\"></div><script type=\"text/javascript\">require([\"plotly\"], function(Plotly) { window.PLOTLYENV=window.PLOTLYENV || {};window.PLOTLYENV.BASE_URL=\"https://plot.ly\";Plotly.newPlot(\"a0392a04-df34-4614-86ba-1db8df1d7328\", [{\"line\": {\"color\": \"#c6152a\"}, \"name\": \"Ronaldo\", \"x\": [19.0, 20.0, 21.0, 22.0, 23.0, 24.0, 25.0, 26.0, 27.0, 28.0, 29.0, 30.0, 31.0], \"y\": [0.175, 0.16, 0.1702127659574468, 0.2830188679245283, 0.14285714285714285, 0.16981132075471697, 0.2, 0.2777777777777778, 0.2727272727272727, 0.21818181818181817, 0.2978723404255319, 0.3888888888888889, 0.3125], \"type\": \"scatter\", \"uid\": \"75f5e8c6-cd19-11e8-9492-784f438dbc8b\"}, {\"line\": {\"color\": \"#5861e2\"}, \"name\": \"Messi\", \"x\": [19.0, 20.0, 21.0, 22.0, 23.0, 24.0, 25.0, 26.0, 27.0, 28.0, 29.0, 30.0, 31.0], \"y\": [0.12, 0.08333333333333333, 0.325, 0.3333333333333333, 0.20754716981132076, 0.41818181818181815, 0.48333333333333334, 0.3, 0.30434782608695654, 0.47368421052631576, 0.46938775510204084, 0.3076923076923077, 0.3333333333333333], \"type\": \"scatter\", \"uid\": \"75f5ea58-cd19-11e8-97f1-784f438dbc8b\"}], {\"shapes\": [{\"fillcolor\": \"#d82d2d\", \"line\": {\"width\": 0}, \"opacity\": 0.2, \"type\": \"rect\", \"x0\": 19, \"x1\": 24, \"xref\": \"x\", \"y0\": 0, \"y1\": 1, \"yref\": \"paper\"}], \"title\": \"Ronaldo vs Messi: Assists Provided Per Match\", \"xaxis\": {\"showgrid\": false, \"title\": \"Age\"}, \"yaxis\": {\"showgrid\": false, \"title\": \"Assists Per Match\"}}, {\"showLink\": true, \"linkText\": \"Export to plot.ly\"})});</script>"
      ]
     },
     "metadata": {},
     "output_type": "display_data"
    }
   ],
   "source": [
    "trace0 = go.Scatter(x=df['age'], y=df['astr']/df['mpr'], name='Ronaldo', line=dict(color='#c6152a'))\n",
    "trace1 = go.Scatter(x=df['age'], y=df['astm']/df['mpm'], name='Messi', line=dict(color='#5861e2'))\n",
    "data = [trace0, trace1]\n",
    "\n",
    "layout = {\n",
    "    \n",
    "    'title': 'Ronaldo vs Messi: Assists Provided Per Match',\n",
    "    'xaxis': {'showgrid': False, 'title': 'Age'},\n",
    "    'yaxis': {'showgrid':False, 'title': 'Assists Per Match'},\n",
    "    \n",
    "    'shapes': [\n",
    "        {\n",
    "            'type': 'rect',\n",
    "            # x-reference is assigned to the x-values\n",
    "            'xref': 'x',\n",
    "            # y-reference is assigned to the plot paper [0,1]\n",
    "            'yref': 'paper',\n",
    "            'x0': 19,\n",
    "            'y0': 0,\n",
    "            'x1': 24,\n",
    "            'y1': 1,\n",
    "            'fillcolor': '#d82d2d',\n",
    "            'opacity': 0.2,\n",
    "            'line': {\n",
    "                'width': 0,\n",
    "            }\n",
    "        }\n",
    "    ]\n",
    "}\n",
    "\n",
    "plotly.offline.iplot({'data' : data, 'layout' : layout})"
   ]
  },
  {
   "cell_type": "code",
   "execution_count": 35,
   "metadata": {
    "collapsed": false
   },
   "outputs": [],
   "source": [
    "# to save svg image of above graph\n",
    "#plotly.offline.plot({'data' : data, 'layout' : layout}, validate=False, show_link=False, image='svg')"
   ]
  },
  {
   "cell_type": "code",
   "execution_count": 36,
   "metadata": {
    "collapsed": false
   },
   "outputs": [
    {
     "data": {
      "text/plain": [
       "'<div id=\"c0101230-f980-47e9-8bd1-806db9d37355\" style=\"height: 100%; width: 100%;\" class=\"plotly-graph-div\"></div><script type=\"text/javascript\">window.PLOTLYENV=window.PLOTLYENV || {};window.PLOTLYENV.BASE_URL=\"https://plot.ly\";Plotly.newPlot(\"c0101230-f980-47e9-8bd1-806db9d37355\", [{\"line\": {\"color\": \"#c6152a\"}, \"name\": \"Ronaldo\", \"x\": [19, 20, 21, 22, 23, 24, 25, 26, 27, 28, 29, 30, 31], \"y\": [0.175, 0.16, 0.1702127659574468, 0.2830188679245283, 0.14285714285714285, 0.16981132075471697, 0.2, 0.2777777777777778, 0.2727272727272727, 0.21818181818181817, 0.2978723404255319, 0.3888888888888889, 0.3125], \"type\": \"scatter\"}, {\"line\": {\"color\": \"#5861e2\"}, \"name\": \"Messi\", \"x\": [19, 20, 21, 22, 23, 24, 25, 26, 27, 28, 29, 30, 31], \"y\": [0.12, 0.08333333333333333, 0.325, 0.3333333333333333, 0.20754716981132076, 0.41818181818181815, 0.48333333333333334, 0.3, 0.30434782608695654, 0.47368421052631576, 0.46938775510204084, 0.3076923076923077, 0.3333333333333333], \"type\": \"scatter\"}], {\"title\": \"Ronaldo vs Messi: Assists Provided Per Match\", \"xaxis\": {\"showgrid\": false, \"title\": \"Age\"}, \"yaxis\": {\"showgrid\": false, \"title\": \"Assists Per Match\"}, \"shapes\": [{\"type\": \"rect\", \"xref\": \"x\", \"yref\": \"paper\", \"x0\": 19, \"y0\": 0, \"x1\": 24, \"y1\": 1, \"fillcolor\": \"#d82d2d\", \"opacity\": 0.2, \"line\": {\"width\": 0}}]}, {\"showLink\": false, \"linkText\": \"Export to plot.ly\"})</script>'"
      ]
     },
     "execution_count": 36,
     "metadata": {},
     "output_type": "execute_result"
    }
   ],
   "source": [
    "plotly.offline.plot({'data' : data, 'layout' : layout}, validate=False, show_link=False, include_plotlyjs=False, output_type='div')"
   ]
  },
  {
   "cell_type": "code",
   "execution_count": null,
   "metadata": {
    "collapsed": true
   },
   "outputs": [],
   "source": []
  }
 ],
 "metadata": {
  "kernelspec": {
   "display_name": "Python 3",
   "language": "python",
   "name": "python3"
  },
  "language_info": {
   "codemirror_mode": {
    "name": "ipython",
    "version": 3
   },
   "file_extension": ".py",
   "mimetype": "text/x-python",
   "name": "python",
   "nbconvert_exporter": "python",
   "pygments_lexer": "ipython3",
   "version": "3.6.5"
  }
 },
 "nbformat": 4,
 "nbformat_minor": 2
}
