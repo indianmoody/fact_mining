{
 "cells": [
  {
   "cell_type": "code",
   "execution_count": 1,
   "metadata": {
    "collapsed": true
   },
   "outputs": [],
   "source": [
    "import requests\n",
    "from bs4 import BeautifulSoup\n",
    "import numpy as np\n",
    "import pandas as pd\n",
    "from time import sleep\n",
    "from urllib.parse import urljoin"
   ]
  },
  {
   "cell_type": "code",
   "execution_count": 15,
   "metadata": {
    "collapsed": false
   },
   "outputs": [],
   "source": [
    "squad_urls = []\n",
    "winners_list = []\n",
    "years_list = []\n",
    "\n",
    "wiki_url = \"https://en.wikipedia.org/wiki/Category:FIFA_World_Cup-winning_players\"\n",
    "page = requests.get(wiki_url)\n",
    "soup = BeautifulSoup(page.content, 'html.parser')\n",
    "squad_url_links = soup.select(\"td ul li a\")\n",
    "\n",
    "for link in squad_url_links:\n",
    "    years_list.append(link.text[:4])\n",
    "    winners_list.append(link.text[6:])\n",
    "    squad_urls.append(urljoin(wiki_url, link.get('href')))\n"
   ]
  },
  {
   "cell_type": "code",
   "execution_count": 16,
   "metadata": {
    "collapsed": false
   },
   "outputs": [],
   "source": [
    "country_list = []\n",
    "player_list = []\n",
    "age_list = []\n",
    "club_list = []\n",
    "time_list = []\n",
    "\n",
    "for k, squad_url in enumerate(squad_urls):\n",
    "    page = requests.get(squad_url)\n",
    "    soup = BeautifulSoup(page.content, 'html.parser')\n",
    "    \n",
    "    if squad_url in squad_urls[1:3]:\n",
    "        team_names = soup.select(\"h2 span[class='mw-headline']\")\n",
    "    else:\n",
    "        team_names = soup.select(\"h3 span[class='mw-headline']\")\n",
    "        if squad_url == squad_urls[13]:\n",
    "            team_names.insert(5, team_names[4])\n",
    "            team_names.insert(23, team_names[22])\n",
    "            \n",
    "    teams = soup.select(\"table[class='sortable wikitable plainrowheaders']\")\n",
    "    \n",
    "    country_names = [x.text.strip() for x in team_names]\n",
    "    winner_index = country_names.index(winners_list[k])\n",
    "    \n",
    "    \n",
    "    team  = teams[winner_index]\n",
    "    curr_country = winners_list[k]\n",
    "    players = team.select(\"tbody tr\")[1:]\n",
    "    for player in players:\n",
    "        country_list.append(curr_country)\n",
    "        player_list.append(player.select(\"th\")[0].text.strip())\n",
    "        temp_age = player.select(\"td\")[2].text.strip()\n",
    "        if len(temp_age) > 8:\n",
    "            age_list.append(temp_age[-3:-1])\n",
    "        else:\n",
    "            age_list.append('0')\n",
    "        club_list.append(player.select(\"td\")[-1].text.strip())\n",
    "        time_list.append(years_list[k])\n",
    "        \n",
    "    \n",
    "    sleep(5)"
   ]
  },
  {
   "cell_type": "code",
   "execution_count": 17,
   "metadata": {
    "collapsed": false
   },
   "outputs": [],
   "source": [
    "df = pd.DataFrame({'country':country_list, 'player':player_list, 'age':age_list, 'club':club_list, 'year':time_list})"
   ]
  },
  {
   "cell_type": "code",
   "execution_count": 40,
   "metadata": {
    "collapsed": false
   },
   "outputs": [],
   "source": [
    "import os\n",
    "\n",
    "if not os.path.exists('./data'):\n",
    "    os.mkdir('./data')"
   ]
  },
  {
   "cell_type": "code",
   "execution_count": 41,
   "metadata": {
    "collapsed": true
   },
   "outputs": [],
   "source": [
    "df.to_csv('data/winning_squads.csv', index=False)"
   ]
  },
  {
   "cell_type": "code",
   "execution_count": null,
   "metadata": {
    "collapsed": true
   },
   "outputs": [],
   "source": []
  }
 ],
 "metadata": {
  "kernelspec": {
   "display_name": "Python 3",
   "language": "python",
   "name": "python3"
  },
  "language_info": {
   "codemirror_mode": {
    "name": "ipython",
    "version": 3
   },
   "file_extension": ".py",
   "mimetype": "text/x-python",
   "name": "python",
   "nbconvert_exporter": "python",
   "pygments_lexer": "ipython3",
   "version": "3.6.5"
  }
 },
 "nbformat": 4,
 "nbformat_minor": 2
}
