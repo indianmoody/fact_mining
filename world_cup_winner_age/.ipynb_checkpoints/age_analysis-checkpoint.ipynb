{
 "cells": [
  {
   "cell_type": "code",
   "execution_count": 1,
   "metadata": {
    "collapsed": true
   },
   "outputs": [],
   "source": [
    "import numpy as np\n",
    "import pandas as pd\n",
    "import matplotlib.pyplot as plt\n",
    "import seaborn as sns\n",
    "%matplotlib inline"
   ]
  },
  {
   "cell_type": "code",
   "execution_count": 9,
   "metadata": {
    "collapsed": true
   },
   "outputs": [],
   "source": [
    "sns.set_style('whitegrid')"
   ]
  },
  {
   "cell_type": "code",
   "execution_count": 2,
   "metadata": {
    "collapsed": false
   },
   "outputs": [
    {
     "data": {
      "text/html": [
       "<div>\n",
       "<style scoped>\n",
       "    .dataframe tbody tr th:only-of-type {\n",
       "        vertical-align: middle;\n",
       "    }\n",
       "\n",
       "    .dataframe tbody tr th {\n",
       "        vertical-align: top;\n",
       "    }\n",
       "\n",
       "    .dataframe thead th {\n",
       "        text-align: right;\n",
       "    }\n",
       "</style>\n",
       "<table border=\"1\" class=\"dataframe\">\n",
       "  <thead>\n",
       "    <tr style=\"text-align: right;\">\n",
       "      <th></th>\n",
       "      <th>age</th>\n",
       "      <th>club</th>\n",
       "      <th>country</th>\n",
       "      <th>player</th>\n",
       "      <th>year</th>\n",
       "    </tr>\n",
       "  </thead>\n",
       "  <tbody>\n",
       "    <tr>\n",
       "      <th>0</th>\n",
       "      <td>28</td>\n",
       "      <td>Nacional</td>\n",
       "      <td>Uruguay</td>\n",
       "      <td>José Leandro Andrade</td>\n",
       "      <td>1930</td>\n",
       "    </tr>\n",
       "    <tr>\n",
       "      <th>1</th>\n",
       "      <td>28</td>\n",
       "      <td>Peñarol</td>\n",
       "      <td>Uruguay</td>\n",
       "      <td>Peregrino Anselmo</td>\n",
       "      <td>1930</td>\n",
       "    </tr>\n",
       "    <tr>\n",
       "      <th>2</th>\n",
       "      <td>25</td>\n",
       "      <td>Rampla Juniors</td>\n",
       "      <td>Uruguay</td>\n",
       "      <td>Enrique Ballestrero</td>\n",
       "      <td>1930</td>\n",
       "    </tr>\n",
       "    <tr>\n",
       "      <th>3</th>\n",
       "      <td>24</td>\n",
       "      <td>Miramar Misiones</td>\n",
       "      <td>Uruguay</td>\n",
       "      <td>Juan Carlos Calvo</td>\n",
       "      <td>1930</td>\n",
       "    </tr>\n",
       "    <tr>\n",
       "      <th>4</th>\n",
       "      <td>26</td>\n",
       "      <td>Peñarol</td>\n",
       "      <td>Uruguay</td>\n",
       "      <td>Miguel Capuccini</td>\n",
       "      <td>1930</td>\n",
       "    </tr>\n",
       "  </tbody>\n",
       "</table>\n",
       "</div>"
      ],
      "text/plain": [
       "   age              club  country                player  year\n",
       "0   28          Nacional  Uruguay  José Leandro Andrade  1930\n",
       "1   28           Peñarol  Uruguay     Peregrino Anselmo  1930\n",
       "2   25    Rampla Juniors  Uruguay   Enrique Ballestrero  1930\n",
       "3   24  Miramar Misiones  Uruguay     Juan Carlos Calvo  1930\n",
       "4   26           Peñarol  Uruguay      Miguel Capuccini  1930"
      ]
     },
     "execution_count": 2,
     "metadata": {},
     "output_type": "execute_result"
    }
   ],
   "source": [
    "winners_df = pd.read_csv('data/winning_squads.csv')\n",
    "winners_df.head()"
   ]
  },
  {
   "cell_type": "code",
   "execution_count": 3,
   "metadata": {
    "collapsed": false
   },
   "outputs": [
    {
     "name": "stdout",
     "output_type": "stream",
     "text": [
      "<class 'pandas.core.frame.DataFrame'>\n",
      "RangeIndex: 467 entries, 0 to 466\n",
      "Data columns (total 5 columns):\n",
      "age        467 non-null int64\n",
      "club       467 non-null object\n",
      "country    467 non-null object\n",
      "player     467 non-null object\n",
      "year       467 non-null int64\n",
      "dtypes: int64(2), object(3)\n",
      "memory usage: 18.3+ KB\n"
     ]
    }
   ],
   "source": [
    "winners_df.info()"
   ]
  },
  {
   "cell_type": "code",
   "execution_count": 6,
   "metadata": {
    "collapsed": false
   },
   "outputs": [
    {
     "data": {
      "text/html": [
       "<div>\n",
       "<style scoped>\n",
       "    .dataframe tbody tr th:only-of-type {\n",
       "        vertical-align: middle;\n",
       "    }\n",
       "\n",
       "    .dataframe tbody tr th {\n",
       "        vertical-align: top;\n",
       "    }\n",
       "\n",
       "    .dataframe thead th {\n",
       "        text-align: right;\n",
       "    }\n",
       "</style>\n",
       "<table border=\"1\" class=\"dataframe\">\n",
       "  <thead>\n",
       "    <tr style=\"text-align: right;\">\n",
       "      <th></th>\n",
       "      <th>count</th>\n",
       "      <th>mean</th>\n",
       "      <th>std</th>\n",
       "      <th>min</th>\n",
       "      <th>25%</th>\n",
       "      <th>50%</th>\n",
       "      <th>75%</th>\n",
       "      <th>max</th>\n",
       "    </tr>\n",
       "    <tr>\n",
       "      <th>year</th>\n",
       "      <th></th>\n",
       "      <th></th>\n",
       "      <th></th>\n",
       "      <th></th>\n",
       "      <th></th>\n",
       "      <th></th>\n",
       "      <th></th>\n",
       "      <th></th>\n",
       "    </tr>\n",
       "  </thead>\n",
       "  <tbody>\n",
       "    <tr>\n",
       "      <th>1930</th>\n",
       "      <td>22.0</td>\n",
       "      <td>26.272727</td>\n",
       "      <td>2.711208</td>\n",
       "      <td>22.0</td>\n",
       "      <td>25.00</td>\n",
       "      <td>25.0</td>\n",
       "      <td>28.75</td>\n",
       "      <td>31.0</td>\n",
       "    </tr>\n",
       "    <tr>\n",
       "      <th>1934</th>\n",
       "      <td>22.0</td>\n",
       "      <td>27.636364</td>\n",
       "      <td>3.471592</td>\n",
       "      <td>20.0</td>\n",
       "      <td>25.25</td>\n",
       "      <td>28.0</td>\n",
       "      <td>30.00</td>\n",
       "      <td>33.0</td>\n",
       "    </tr>\n",
       "    <tr>\n",
       "      <th>1938</th>\n",
       "      <td>22.0</td>\n",
       "      <td>25.863636</td>\n",
       "      <td>2.932502</td>\n",
       "      <td>22.0</td>\n",
       "      <td>23.25</td>\n",
       "      <td>26.0</td>\n",
       "      <td>27.00</td>\n",
       "      <td>31.0</td>\n",
       "    </tr>\n",
       "    <tr>\n",
       "      <th>1950</th>\n",
       "      <td>22.0</td>\n",
       "      <td>25.090909</td>\n",
       "      <td>3.727748</td>\n",
       "      <td>19.0</td>\n",
       "      <td>22.25</td>\n",
       "      <td>24.0</td>\n",
       "      <td>27.75</td>\n",
       "      <td>32.0</td>\n",
       "    </tr>\n",
       "    <tr>\n",
       "      <th>1954</th>\n",
       "      <td>22.0</td>\n",
       "      <td>27.454545</td>\n",
       "      <td>3.912462</td>\n",
       "      <td>20.0</td>\n",
       "      <td>25.25</td>\n",
       "      <td>27.0</td>\n",
       "      <td>30.00</td>\n",
       "      <td>35.0</td>\n",
       "    </tr>\n",
       "    <tr>\n",
       "      <th>1958</th>\n",
       "      <td>22.0</td>\n",
       "      <td>25.318182</td>\n",
       "      <td>3.590813</td>\n",
       "      <td>17.0</td>\n",
       "      <td>23.25</td>\n",
       "      <td>25.5</td>\n",
       "      <td>27.00</td>\n",
       "      <td>33.0</td>\n",
       "    </tr>\n",
       "    <tr>\n",
       "      <th>1962</th>\n",
       "      <td>22.0</td>\n",
       "      <td>27.272727</td>\n",
       "      <td>5.006489</td>\n",
       "      <td>18.0</td>\n",
       "      <td>22.50</td>\n",
       "      <td>27.5</td>\n",
       "      <td>31.00</td>\n",
       "      <td>37.0</td>\n",
       "    </tr>\n",
       "    <tr>\n",
       "      <th>1966</th>\n",
       "      <td>22.0</td>\n",
       "      <td>26.545455</td>\n",
       "      <td>3.050797</td>\n",
       "      <td>21.0</td>\n",
       "      <td>24.00</td>\n",
       "      <td>27.0</td>\n",
       "      <td>28.75</td>\n",
       "      <td>31.0</td>\n",
       "    </tr>\n",
       "    <tr>\n",
       "      <th>1970</th>\n",
       "      <td>22.0</td>\n",
       "      <td>24.363636</td>\n",
       "      <td>3.658590</td>\n",
       "      <td>19.0</td>\n",
       "      <td>21.50</td>\n",
       "      <td>24.0</td>\n",
       "      <td>25.75</td>\n",
       "      <td>32.0</td>\n",
       "    </tr>\n",
       "    <tr>\n",
       "      <th>1974</th>\n",
       "      <td>22.0</td>\n",
       "      <td>26.727273</td>\n",
       "      <td>2.621919</td>\n",
       "      <td>22.0</td>\n",
       "      <td>25.25</td>\n",
       "      <td>27.0</td>\n",
       "      <td>29.00</td>\n",
       "      <td>30.0</td>\n",
       "    </tr>\n",
       "    <tr>\n",
       "      <th>1978</th>\n",
       "      <td>22.0</td>\n",
       "      <td>25.772727</td>\n",
       "      <td>2.428635</td>\n",
       "      <td>22.0</td>\n",
       "      <td>24.25</td>\n",
       "      <td>25.5</td>\n",
       "      <td>27.00</td>\n",
       "      <td>30.0</td>\n",
       "    </tr>\n",
       "    <tr>\n",
       "      <th>1982</th>\n",
       "      <td>22.0</td>\n",
       "      <td>26.954545</td>\n",
       "      <td>4.623720</td>\n",
       "      <td>18.0</td>\n",
       "      <td>24.00</td>\n",
       "      <td>27.0</td>\n",
       "      <td>29.00</td>\n",
       "      <td>40.0</td>\n",
       "    </tr>\n",
       "    <tr>\n",
       "      <th>1986</th>\n",
       "      <td>22.0</td>\n",
       "      <td>26.409091</td>\n",
       "      <td>3.594428</td>\n",
       "      <td>20.0</td>\n",
       "      <td>23.25</td>\n",
       "      <td>26.5</td>\n",
       "      <td>29.00</td>\n",
       "      <td>33.0</td>\n",
       "    </tr>\n",
       "    <tr>\n",
       "      <th>1990</th>\n",
       "      <td>22.0</td>\n",
       "      <td>27.227273</td>\n",
       "      <td>3.279544</td>\n",
       "      <td>22.0</td>\n",
       "      <td>24.00</td>\n",
       "      <td>28.5</td>\n",
       "      <td>29.75</td>\n",
       "      <td>33.0</td>\n",
       "    </tr>\n",
       "    <tr>\n",
       "      <th>1994</th>\n",
       "      <td>22.0</td>\n",
       "      <td>27.409091</td>\n",
       "      <td>3.500464</td>\n",
       "      <td>17.0</td>\n",
       "      <td>25.25</td>\n",
       "      <td>28.0</td>\n",
       "      <td>29.00</td>\n",
       "      <td>35.0</td>\n",
       "    </tr>\n",
       "    <tr>\n",
       "      <th>1998</th>\n",
       "      <td>22.0</td>\n",
       "      <td>26.727273</td>\n",
       "      <td>3.769323</td>\n",
       "      <td>20.0</td>\n",
       "      <td>24.25</td>\n",
       "      <td>27.0</td>\n",
       "      <td>29.00</td>\n",
       "      <td>35.0</td>\n",
       "    </tr>\n",
       "    <tr>\n",
       "      <th>2002</th>\n",
       "      <td>23.0</td>\n",
       "      <td>26.173913</td>\n",
       "      <td>2.933384</td>\n",
       "      <td>20.0</td>\n",
       "      <td>24.50</td>\n",
       "      <td>26.0</td>\n",
       "      <td>28.50</td>\n",
       "      <td>31.0</td>\n",
       "    </tr>\n",
       "    <tr>\n",
       "      <th>2006</th>\n",
       "      <td>23.0</td>\n",
       "      <td>28.217391</td>\n",
       "      <td>3.274648</td>\n",
       "      <td>22.0</td>\n",
       "      <td>26.50</td>\n",
       "      <td>28.0</td>\n",
       "      <td>29.50</td>\n",
       "      <td>36.0</td>\n",
       "    </tr>\n",
       "    <tr>\n",
       "      <th>2010</th>\n",
       "      <td>23.0</td>\n",
       "      <td>25.913043</td>\n",
       "      <td>3.329115</td>\n",
       "      <td>21.0</td>\n",
       "      <td>23.50</td>\n",
       "      <td>26.0</td>\n",
       "      <td>28.00</td>\n",
       "      <td>32.0</td>\n",
       "    </tr>\n",
       "    <tr>\n",
       "      <th>2014</th>\n",
       "      <td>23.0</td>\n",
       "      <td>25.739130</td>\n",
       "      <td>3.968253</td>\n",
       "      <td>20.0</td>\n",
       "      <td>23.00</td>\n",
       "      <td>25.0</td>\n",
       "      <td>28.50</td>\n",
       "      <td>36.0</td>\n",
       "    </tr>\n",
       "    <tr>\n",
       "      <th>2018</th>\n",
       "      <td>23.0</td>\n",
       "      <td>25.565217</td>\n",
       "      <td>3.906010</td>\n",
       "      <td>19.0</td>\n",
       "      <td>22.50</td>\n",
       "      <td>25.0</td>\n",
       "      <td>28.00</td>\n",
       "      <td>33.0</td>\n",
       "    </tr>\n",
       "  </tbody>\n",
       "</table>\n",
       "</div>"
      ],
      "text/plain": [
       "      count       mean       std   min    25%   50%    75%   max\n",
       "year                                                            \n",
       "1930   22.0  26.272727  2.711208  22.0  25.00  25.0  28.75  31.0\n",
       "1934   22.0  27.636364  3.471592  20.0  25.25  28.0  30.00  33.0\n",
       "1938   22.0  25.863636  2.932502  22.0  23.25  26.0  27.00  31.0\n",
       "1950   22.0  25.090909  3.727748  19.0  22.25  24.0  27.75  32.0\n",
       "1954   22.0  27.454545  3.912462  20.0  25.25  27.0  30.00  35.0\n",
       "1958   22.0  25.318182  3.590813  17.0  23.25  25.5  27.00  33.0\n",
       "1962   22.0  27.272727  5.006489  18.0  22.50  27.5  31.00  37.0\n",
       "1966   22.0  26.545455  3.050797  21.0  24.00  27.0  28.75  31.0\n",
       "1970   22.0  24.363636  3.658590  19.0  21.50  24.0  25.75  32.0\n",
       "1974   22.0  26.727273  2.621919  22.0  25.25  27.0  29.00  30.0\n",
       "1978   22.0  25.772727  2.428635  22.0  24.25  25.5  27.00  30.0\n",
       "1982   22.0  26.954545  4.623720  18.0  24.00  27.0  29.00  40.0\n",
       "1986   22.0  26.409091  3.594428  20.0  23.25  26.5  29.00  33.0\n",
       "1990   22.0  27.227273  3.279544  22.0  24.00  28.5  29.75  33.0\n",
       "1994   22.0  27.409091  3.500464  17.0  25.25  28.0  29.00  35.0\n",
       "1998   22.0  26.727273  3.769323  20.0  24.25  27.0  29.00  35.0\n",
       "2002   23.0  26.173913  2.933384  20.0  24.50  26.0  28.50  31.0\n",
       "2006   23.0  28.217391  3.274648  22.0  26.50  28.0  29.50  36.0\n",
       "2010   23.0  25.913043  3.329115  21.0  23.50  26.0  28.00  32.0\n",
       "2014   23.0  25.739130  3.968253  20.0  23.00  25.0  28.50  36.0\n",
       "2018   23.0  25.565217  3.906010  19.0  22.50  25.0  28.00  33.0"
      ]
     },
     "execution_count": 6,
     "metadata": {},
     "output_type": "execute_result"
    }
   ],
   "source": [
    "winners_df.groupby('year').describe()['age']"
   ]
  },
  {
   "cell_type": "code",
   "execution_count": 13,
   "metadata": {
    "collapsed": false
   },
   "outputs": [
    {
     "data": {
      "text/plain": [
       "[<matplotlib.lines.Line2D at 0x10999eeb8>]"
      ]
     },
     "execution_count": 13,
     "metadata": {},
     "output_type": "execute_result"
    },
    {
     "data": {
      "image/png": "[encoded data removed]",
      "text/plain": [
       "<matplotlib.figure.Figure at 0x1098de048>"
      ]
     },
     "metadata": {},
     "output_type": "display_data"
    }
   ],
   "source": [
    "plt.plot(winners_df.groupby('year').max()['age'])"
   ]
  },
  {
   "cell_type": "code",
   "execution_count": 20,
   "metadata": {
    "collapsed": false
   },
   "outputs": [
    {
     "data": {
      "text/plain": [
       "<matplotlib.text.Text at 0x1a16061320>"
      ]
     },
     "execution_count": 20,
     "metadata": {},
     "output_type": "execute_result"
    },
    {
     "data": {
      "image/png": "[encoded data removed]",
      "text/plain": [
       "<matplotlib.figure.Figure at 0x1a15cec978>"
      ]
     },
     "metadata": {},
     "output_type": "display_data"
    }
   ],
   "source": [
    "\n",
    "plt.figure(figsize=(12,6))\n",
    "plt.plot(winners_df.groupby('year').mean()['age'], color='blue', label='average age')\n",
    "plt.plot(winners_df.groupby('year').min()['age'], color='#91F6F0', label='min age')\n",
    "plt.plot(winners_df.groupby('year').max()['age'], color='#E095F4', label='max age')\n",
    "plt.ylim(0,45)\n",
    "plt.xlabel('year')\n",
    "plt.ylabel('age')\n",
    "plt.legend()\n",
    "plt.title('Age of World Cup Winning Squad over the Years')"
   ]
  },
  {
   "cell_type": "code",
   "execution_count": null,
   "metadata": {
    "collapsed": false
   },
   "outputs": [],
   "source": []
  },
  {
   "cell_type": "markdown",
   "metadata": {
    "collapsed": true
   },
   "source": [
    "## Visualization"
   ]
  },
  {
   "cell_type": "code",
   "execution_count": 3,
   "metadata": {
    "collapsed": true
   },
   "outputs": [],
   "source": [
    "import plotly\n",
    "import plotly.graph_objs as go\n",
    "from plotly import tools"
   ]
  },
  {
   "cell_type": "code",
   "execution_count": 4,
   "metadata": {
    "collapsed": false
   },
   "outputs": [
    {
     "data": {
      "text/html": [
       "<script>requirejs.config({paths: { 'plotly': ['https://cdn.plot.ly/plotly-latest.min']},});if(!window.Plotly) {{require(['plotly'],function(plotly) {window.Plotly=plotly;});}}</script>"
      ],
      "text/vnd.plotly.v1+html": [
       "<script>requirejs.config({paths: { 'plotly': ['https://cdn.plot.ly/plotly-latest.min']},});if(!window.Plotly) {{require(['plotly'],function(plotly) {window.Plotly=plotly;});}}</script>"
      ]
     },
     "metadata": {},
     "output_type": "display_data"
    }
   ],
   "source": [
    "plotly.offline.init_notebook_mode(connected=True)"
   ]
  },
  {
   "cell_type": "code",
   "execution_count": 31,
   "metadata": {
    "collapsed": false
   },
   "outputs": [
    {
     "data": {
      "application/vnd.plotly.v1+json": {
       "data": [
        {
         "line": {
          "color": "rgb(143, 19, 131)",
          "width": 1
         },
         "mode": "lines",
         "name": "Min Age",
         "type": "scatter",
         "uid": "2047d3a4-cd45-11e8-bf6b-784f438dbc8b",
         "x": [
          1930,
          1934,
          1938,
          1950,
          1954,
          1958,
          1962,
          1966,
          1970,
          1974,
          1978,
          1982,
          1986,
          1990,
          1994,
          1998,
          2002,
          2006,
          2010,
          2014,
          2018
         ],
         "y": [
          22,
          20,
          22,
          19,
          20,
          17,
          18,
          21,
          19,
          22,
          22,
          18,
          20,
          22,
          17,
          20,
          20,
          22,
          21,
          20,
          19
         ]
        },
        {
         "fill": "tonexty",
         "line": {
          "color": "rgb(143, 19, 131)"
         },
         "mode": "lines",
         "name": "Average Age",
         "type": "scatter",
         "uid": "2047d528-cd45-11e8-94f6-784f438dbc8b",
         "x": [
          1930,
          1934,
          1938,
          1950,
          1954,
          1958,
          1962,
          1966,
          1970,
          1974,
          1978,
          1982,
          1986,
          1990,
          1994,
          1998,
          2002,
          2006,
          2010,
          2014,
          2018
         ],
         "y": [
          26.272727272727273,
          27.636363636363637,
          25.863636363636363,
          25.09090909090909,
          27.454545454545453,
          25.318181818181817,
          27.272727272727273,
          26.545454545454547,
          24.363636363636363,
          26.727272727272727,
          25.772727272727273,
          26.954545454545453,
          26.40909090909091,
          27.227272727272727,
          27.40909090909091,
          26.727272727272727,
          26.17391304347826,
          28.217391304347824,
          25.91304347826087,
          25.73913043478261,
          25.565217391304348
         ]
        },
        {
         "fill": "tonexty",
         "line": {
          "color": "rgb(143, 19, 131)",
          "width": 1
         },
         "mode": "lines",
         "name": "Max Age",
         "type": "scatter",
         "uid": "2047d5fa-cd45-11e8-9b33-784f438dbc8b",
         "x": [
          1930,
          1934,
          1938,
          1950,
          1954,
          1958,
          1962,
          1966,
          1970,
          1974,
          1978,
          1982,
          1986,
          1990,
          1994,
          1998,
          2002,
          2006,
          2010,
          2014,
          2018
         ],
         "y": [
          31,
          33,
          31,
          32,
          35,
          33,
          37,
          31,
          32,
          30,
          30,
          40,
          33,
          33,
          35,
          35,
          31,
          36,
          32,
          36,
          33
         ]
        }
       ],
       "layout": {
        "title": "Age of World Cup Winning Squad over the Years",
        "xaxis": {
         "title": "Year",
         "zeroline": false
        },
        "yaxis": {
         "range": [
          0,
          45
         ],
         "title": "Age",
         "zeroline": false
        }
       }
      },
      "text/html": [
       "<div id=\"9d7d9392-e6e4-4986-bbe0-84d7b87c559e\" style=\"height: 525px; width: 100%;\" class=\"plotly-graph-div\"></div><script type=\"text/javascript\">require([\"plotly\"], function(Plotly) { window.PLOTLYENV=window.PLOTLYENV || {};window.PLOTLYENV.BASE_URL=\"https://plot.ly\";Plotly.newPlot(\"9d7d9392-e6e4-4986-bbe0-84d7b87c559e\", [{\"line\": {\"color\": \"rgb(143, 19, 131)\", \"width\": 1}, \"mode\": \"lines\", \"name\": \"Min Age\", \"x\": [1930.0, 1934.0, 1938.0, 1950.0, 1954.0, 1958.0, 1962.0, 1966.0, 1970.0, 1974.0, 1978.0, 1982.0, 1986.0, 1990.0, 1994.0, 1998.0, 2002.0, 2006.0, 2010.0, 2014.0, 2018.0], \"y\": [22.0, 20.0, 22.0, 19.0, 20.0, 17.0, 18.0, 21.0, 19.0, 22.0, 22.0, 18.0, 20.0, 22.0, 17.0, 20.0, 20.0, 22.0, 21.0, 20.0, 19.0], \"type\": \"scatter\", \"uid\": \"204bcda6-cd45-11e8-a0f2-784f438dbc8b\"}, {\"fill\": \"tonexty\", \"line\": {\"color\": \"rgb(143, 19, 131)\"}, \"mode\": \"lines\", \"name\": \"Average Age\", \"x\": [1930.0, 1934.0, 1938.0, 1950.0, 1954.0, 1958.0, 1962.0, 1966.0, 1970.0, 1974.0, 1978.0, 1982.0, 1986.0, 1990.0, 1994.0, 1998.0, 2002.0, 2006.0, 2010.0, 2014.0, 2018.0], \"y\": [26.272727272727273, 27.636363636363637, 25.863636363636363, 25.09090909090909, 27.454545454545453, 25.318181818181817, 27.272727272727273, 26.545454545454547, 24.363636363636363, 26.727272727272727, 25.772727272727273, 26.954545454545453, 26.40909090909091, 27.227272727272727, 27.40909090909091, 26.727272727272727, 26.17391304347826, 28.217391304347824, 25.91304347826087, 25.73913043478261, 25.565217391304348], \"type\": \"scatter\", \"uid\": \"204bcf0c-cd45-11e8-993d-784f438dbc8b\"}, {\"fill\": \"tonexty\", \"line\": {\"color\": \"rgb(143, 19, 131)\", \"width\": 1}, \"mode\": \"lines\", \"name\": \"Max Age\", \"x\": [1930.0, 1934.0, 1938.0, 1950.0, 1954.0, 1958.0, 1962.0, 1966.0, 1970.0, 1974.0, 1978.0, 1982.0, 1986.0, 1990.0, 1994.0, 1998.0, 2002.0, 2006.0, 2010.0, 2014.0, 2018.0], \"y\": [31.0, 33.0, 31.0, 32.0, 35.0, 33.0, 37.0, 31.0, 32.0, 30.0, 30.0, 40.0, 33.0, 33.0, 35.0, 35.0, 31.0, 36.0, 32.0, 36.0, 33.0], \"type\": \"scatter\", \"uid\": \"204bcfd8-cd45-11e8-ae9d-784f438dbc8b\"}], {\"title\": \"Age of World Cup Winning Squad over the Years\", \"xaxis\": {\"title\": \"Year\", \"zeroline\": false}, \"yaxis\": {\"range\": [0, 45], \"title\": \"Age\", \"zeroline\": false}}, {\"showLink\": true, \"linkText\": \"Export to plot.ly\"})});</script>"
      ],
      "text/vnd.plotly.v1+html": [
       "<div id=\"9d7d9392-e6e4-4986-bbe0-84d7b87c559e\" style=\"height: 525px; width: 100%;\" class=\"plotly-graph-div\"></div><script type=\"text/javascript\">require([\"plotly\"], function(Plotly) { window.PLOTLYENV=window.PLOTLYENV || {};window.PLOTLYENV.BASE_URL=\"https://plot.ly\";Plotly.newPlot(\"9d7d9392-e6e4-4986-bbe0-84d7b87c559e\", [{\"line\": {\"color\": \"rgb(143, 19, 131)\", \"width\": 1}, \"mode\": \"lines\", \"name\": \"Min Age\", \"x\": [1930.0, 1934.0, 1938.0, 1950.0, 1954.0, 1958.0, 1962.0, 1966.0, 1970.0, 1974.0, 1978.0, 1982.0, 1986.0, 1990.0, 1994.0, 1998.0, 2002.0, 2006.0, 2010.0, 2014.0, 2018.0], \"y\": [22.0, 20.0, 22.0, 19.0, 20.0, 17.0, 18.0, 21.0, 19.0, 22.0, 22.0, 18.0, 20.0, 22.0, 17.0, 20.0, 20.0, 22.0, 21.0, 20.0, 19.0], \"type\": \"scatter\", \"uid\": \"204bcda6-cd45-11e8-a0f2-784f438dbc8b\"}, {\"fill\": \"tonexty\", \"line\": {\"color\": \"rgb(143, 19, 131)\"}, \"mode\": \"lines\", \"name\": \"Average Age\", \"x\": [1930.0, 1934.0, 1938.0, 1950.0, 1954.0, 1958.0, 1962.0, 1966.0, 1970.0, 1974.0, 1978.0, 1982.0, 1986.0, 1990.0, 1994.0, 1998.0, 2002.0, 2006.0, 2010.0, 2014.0, 2018.0], \"y\": [26.272727272727273, 27.636363636363637, 25.863636363636363, 25.09090909090909, 27.454545454545453, 25.318181818181817, 27.272727272727273, 26.545454545454547, 24.363636363636363, 26.727272727272727, 25.772727272727273, 26.954545454545453, 26.40909090909091, 27.227272727272727, 27.40909090909091, 26.727272727272727, 26.17391304347826, 28.217391304347824, 25.91304347826087, 25.73913043478261, 25.565217391304348], \"type\": \"scatter\", \"uid\": \"204bcf0c-cd45-11e8-993d-784f438dbc8b\"}, {\"fill\": \"tonexty\", \"line\": {\"color\": \"rgb(143, 19, 131)\", \"width\": 1}, \"mode\": \"lines\", \"name\": \"Max Age\", \"x\": [1930.0, 1934.0, 1938.0, 1950.0, 1954.0, 1958.0, 1962.0, 1966.0, 1970.0, 1974.0, 1978.0, 1982.0, 1986.0, 1990.0, 1994.0, 1998.0, 2002.0, 2006.0, 2010.0, 2014.0, 2018.0], \"y\": [31.0, 33.0, 31.0, 32.0, 35.0, 33.0, 37.0, 31.0, 32.0, 30.0, 30.0, 40.0, 33.0, 33.0, 35.0, 35.0, 31.0, 36.0, 32.0, 36.0, 33.0], \"type\": \"scatter\", \"uid\": \"204bcfd8-cd45-11e8-ae9d-784f438dbc8b\"}], {\"title\": \"Age of World Cup Winning Squad over the Years\", \"xaxis\": {\"title\": \"Year\", \"zeroline\": false}, \"yaxis\": {\"range\": [0, 45], \"title\": \"Age\", \"zeroline\": false}}, {\"showLink\": true, \"linkText\": \"Export to plot.ly\"})});</script>"
      ]
     },
     "metadata": {},
     "output_type": "display_data"
    }
   ],
   "source": [
    "mean_df = winners_df.groupby('year').mean()['age']\n",
    "min_df = winners_df.groupby('year').min()['age']\n",
    "max_df = winners_df.groupby('year').max()['age']\n",
    "\n",
    "trace0 = go.Scatter(\n",
    "    x=min_df.index,\n",
    "    y=min_df.values,\n",
    "    fill = None,\n",
    "    mode='lines',\n",
    "    line=dict(\n",
    "        color='rgb(143, 19, 131)',\n",
    "        width=1\n",
    "    ),\n",
    "    name='Min Age'\n",
    ")\n",
    "\n",
    "trace1 = go.Scatter(\n",
    "    x=mean_df.index,\n",
    "    y=mean_df.values,\n",
    "    fill = 'tonexty',\n",
    "    mode='lines',\n",
    "    line=dict(\n",
    "        color='rgb(143, 19, 131)',\n",
    "    ),\n",
    "    name='Average Age'\n",
    ")\n",
    "\n",
    "trace2 = go.Scatter(\n",
    "    x=max_df.index,\n",
    "    y=max_df.values,\n",
    "    fill = 'tonexty',\n",
    "    mode='lines',\n",
    "    line=dict(\n",
    "        color='rgb(143, 19, 131)',\n",
    "        width=1\n",
    "    ),\n",
    "    name='Max Age'\n",
    ")\n",
    "data = [trace0, trace1, trace2]\n",
    "layout = {\n",
    "    'title' : 'Age of World Cup Winning Squad over the Years',\n",
    "    'yaxis':\n",
    "    {\n",
    "        'range':[0,45],\n",
    "        'title':'Age',\n",
    "        'zeroline' : False\n",
    "    },\n",
    "    'xaxis' :\n",
    "    {\n",
    "        'title' : 'Year',\n",
    "        'zeroline' : False\n",
    "    }\n",
    "}\n",
    "plotly.offline.iplot({'data' : data, 'layout' : layout})"
   ]
  },
  {
   "cell_type": "code",
   "execution_count": 33,
   "metadata": {
    "collapsed": false
   },
   "outputs": [],
   "source": [
    "# to save svg image of above graph\n",
    "#plotly.offline.plot({'data' : data, 'layout' : layout}, validate=False, show_link=False, image='svg')"
   ]
  },
  {
   "cell_type": "code",
   "execution_count": 34,
   "metadata": {
    "collapsed": false
   },
   "outputs": [
    {
     "data": {
      "text/plain": [
       "'<div id=\"eec40a24-18a5-4a72-8c95-4e2b89cc5444\" style=\"height: 100%; width: 100%;\" class=\"plotly-graph-div\"></div><script type=\"text/javascript\">window.PLOTLYENV=window.PLOTLYENV || {};window.PLOTLYENV.BASE_URL=\"https://plot.ly\";Plotly.newPlot(\"eec40a24-18a5-4a72-8c95-4e2b89cc5444\", [{\"line\": {\"color\": \"rgb(143, 19, 131)\", \"width\": 1}, \"mode\": \"lines\", \"name\": \"Min Age\", \"x\": [1930, 1934, 1938, 1950, 1954, 1958, 1962, 1966, 1970, 1974, 1978, 1982, 1986, 1990, 1994, 1998, 2002, 2006, 2010, 2014, 2018], \"y\": [22.0, 20.0, 22.0, 19.0, 20.0, 17.0, 18.0, 21.0, 19.0, 22.0, 22.0, 18.0, 20.0, 22.0, 17.0, 20.0, 20.0, 22.0, 21.0, 20.0, 19.0], \"type\": \"scatter\"}, {\"fill\": \"tonexty\", \"line\": {\"color\": \"rgb(143, 19, 131)\"}, \"mode\": \"lines\", \"name\": \"Average Age\", \"x\": [1930, 1934, 1938, 1950, 1954, 1958, 1962, 1966, 1970, 1974, 1978, 1982, 1986, 1990, 1994, 1998, 2002, 2006, 2010, 2014, 2018], \"y\": [26.272727272727273, 27.636363636363637, 25.863636363636363, 25.09090909090909, 27.454545454545453, 25.318181818181817, 27.272727272727273, 26.545454545454547, 24.363636363636363, 26.727272727272727, 25.772727272727273, 26.954545454545453, 26.40909090909091, 27.227272727272727, 27.40909090909091, 26.727272727272727, 26.17391304347826, 28.217391304347824, 25.91304347826087, 25.73913043478261, 25.565217391304348], \"type\": \"scatter\"}, {\"fill\": \"tonexty\", \"line\": {\"color\": \"rgb(143, 19, 131)\", \"width\": 1}, \"mode\": \"lines\", \"name\": \"Max Age\", \"x\": [1930, 1934, 1938, 1950, 1954, 1958, 1962, 1966, 1970, 1974, 1978, 1982, 1986, 1990, 1994, 1998, 2002, 2006, 2010, 2014, 2018], \"y\": [31.0, 33.0, 31.0, 32.0, 35.0, 33.0, 37.0, 31.0, 32.0, 30.0, 30.0, 40.0, 33.0, 33.0, 35.0, 35.0, 31.0, 36.0, 32.0, 36.0, 33.0], \"type\": \"scatter\"}], {\"title\": \"Age of World Cup Winning Squad over the Years\", \"yaxis\": {\"range\": [0, 45], \"title\": \"Age\", \"zeroline\": false}, \"xaxis\": {\"title\": \"Year\", \"zeroline\": false}}, {\"showLink\": false, \"linkText\": \"Export to plot.ly\"})</script>'"
      ]
     },
     "execution_count": 34,
     "metadata": {},
     "output_type": "execute_result"
    }
   ],
   "source": [
    "plotly.offline.plot({'data' : data, 'layout' : layout}, validate=False, show_link=False, include_plotlyjs=False, output_type='div')"
   ]
  },
  {
   "cell_type": "code",
   "execution_count": null,
   "metadata": {
    "collapsed": true
   },
   "outputs": [],
   "source": []
  }
 ],
 "metadata": {
  "kernelspec": {
   "display_name": "Python 3",
   "language": "python",
   "name": "python3"
  },
  "language_info": {
   "codemirror_mode": {
    "name": "ipython",
    "version": 3
   },
   "file_extension": ".py",
   "mimetype": "text/x-python",
   "name": "python",
   "nbconvert_exporter": "python",
   "pygments_lexer": "ipython3",
   "version": "3.6.5"
  }
 },
 "nbformat": 4,
 "nbformat_minor": 2
}
